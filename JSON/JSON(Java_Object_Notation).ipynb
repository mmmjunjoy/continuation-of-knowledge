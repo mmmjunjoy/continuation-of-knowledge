{
  "cells": [
    {
      "cell_type": "code",
      "execution_count": null,
      "metadata": {
        "id": "p5dow_fFNQM3"
      },
      "outputs": [
        {
          "ename": "",
          "evalue": "",
          "output_type": "error",
          "traceback": [
            "\u001b[1;31m'/usr/local/bin/python3'(으)로 셀을 실행하려면 ipykernel 패키지가 필요합니다.\n",
            "\u001b[1;31m다음 명령어를 실행하여 Python 환경에 'ipykernel'을(를) 설치합니다. \n",
            "\u001b[1;31m 명령: '/usr/local/bin/python3 -m pip install ipykernel -U --user --force-reinstall'"
          ]
        }
      ],
      "source": [
        "#pyhton 에서는 json라이브러리를 기본으로 제공한다\n",
        "import json\n",
        "import urllib.request as req"
      ]
    },
    {
      "cell_type": "code",
      "execution_count": 3,
      "metadata": {
        "id": "14XiIxZbN7ff"
      },
      "outputs": [],
      "source": [
        "url = \"http://www.krei.re.kr:18181/chart/main_chart/index/kind/W/sdate/2020-01-01/edate/2020-03-31\""
      ]
    },
    {
      "cell_type": "code",
      "execution_count": 7,
      "metadata": {
        "colab": {
          "base_uri": "https://localhost:8080/"
        },
        "id": "rHWFgEIWN7iG",
        "outputId": "f9a24c18-2ca0-4e62-bdee-568b6f949eda"
      },
      "outputs": [
        {
          "data": {
            "text/plain": [
              "<http.client.HTTPResponse at 0x7f51fbd6a970>"
            ]
          },
          "execution_count": 7,
          "metadata": {},
          "output_type": "execute_result"
        }
      ],
      "source": [
        "#url 오픈하고 json 형식으로 불러오기\n",
        "\n",
        "res = req.urlopen(url)\n",
        "json_obj = json.load(res)\n",
        "json_obj\n",
        "res"
      ]
    },
    {
      "cell_type": "code",
      "execution_count": 12,
      "metadata": {
        "colab": {
          "base_uri": "https://localhost:8080/"
        },
        "id": "rgLl8LFsN7ka",
        "outputId": "80b158e7-b311-41f9-e8a6-5ae707b77c9f"
      },
      "outputs": [
        {
          "name": "stdout",
          "output_type": "stream",
          "text": [
            "<class 'list'>\n",
            "<class 'dict'>\n"
          ]
        }
      ],
      "source": [
        "#데이터 타입 확인하기\n",
        "\n",
        "json_obj[0]\n",
        "json_obj[1:3]\n",
        "print(type(json_obj))\n",
        "print(type(json_obj[0]))\n"
      ]
    },
    {
      "cell_type": "code",
      "execution_count": 13,
      "metadata": {
        "colab": {
          "base_uri": "https://localhost:8080/"
        },
        "id": "p2GFXThRN7mm",
        "outputId": "3b1d7e49-db0e-4db2-cf54-80a6ad547453"
      },
      "outputs": [
        {
          "name": "stdout",
          "output_type": "stream",
          "text": [
            "20200102 205.85\n",
            "20200103 203.74\n",
            "20200106 202.09\n",
            "20200107 202.18\n",
            "20200108 203.1\n",
            "20200109 206.59\n",
            "20200110 207.41\n",
            "20200113 206.59\n",
            "20200114 208.88\n",
            "20200115 210.63\n",
            "20200116 207.69\n",
            "20200117 209.62\n",
            "20200121 213.66\n",
            "20200122 212.28\n",
            "20200123 213.29\n",
            "20200124 210.72\n",
            "20200127 210.26\n",
            "20200128 209.34\n",
            "20200129 206.59\n",
            "20200130 205.95\n",
            "20200131 203.46\n",
            "20200203 204.11\n",
            "20200204 204.75\n",
            "20200205 206.5\n",
            "20200206 204.38\n",
            "20200207 205.3\n",
            "20200210 202.82\n",
            "20200211 199.15\n",
            "20200212 201.17\n",
            "20200213 199.97\n",
            "20200214 199.42\n",
            "20200218 208.24\n",
            "20200219 207.69\n",
            "20200220 205.76\n",
            "20200221 202.45\n",
            "20200224 196.48\n",
            "20200225 197.31\n",
            "20200226 196.85\n",
            "20200227 193.82\n",
            "20200228 192.9\n",
            "20200302 193.36\n",
            "20200303 193.73\n",
            "20200304 190.42\n",
            "20200305 190.6\n",
            "20200306 189.5\n",
            "20200309 190.6\n",
            "20200310 191.89\n",
            "20200311 188.4\n",
            "20200312 185.74\n",
            "20200313 185.92\n",
            "20200316 182.98\n",
            "20200317 183.44\n",
            "20200318 186.75\n",
            "20200319 196.58\n",
            "20200320 198.14\n",
            "20200323 206.68\n",
            "20200324 206.31\n",
            "20200325 213.11\n",
            "20200326 209.07\n",
            "20200327 209.89\n",
            "20200330 209.25\n",
            "20200331 208.98\n"
          ]
        }
      ],
      "source": [
        "# 원하는 컬럼만 추출하기\n",
        "\n",
        "for i in json_obj:\n",
        "  print(i['date'],i['settlement'])"
      ]
    },
    {
      "cell_type": "code",
      "execution_count": 16,
      "metadata": {
        "colab": {
          "base_uri": "https://localhost:8080/"
        },
        "id": "0QbBj30ON7pP",
        "outputId": "b3f7d5f3-0ae2-4070-fb67-b7010c19d554"
      },
      "outputs": [
        {
          "data": {
            "text/plain": [
              "bytes"
            ]
          },
          "execution_count": 16,
          "metadata": {},
          "output_type": "execute_result"
        }
      ],
      "source": [
        "res = req.urlopen(url)\n",
        "j = res.read()\n",
        "type(j)  #byte\n",
        "j\n"
      ]
    },
    {
      "cell_type": "code",
      "execution_count": 20,
      "metadata": {
        "colab": {
          "base_uri": "https://localhost:8080/",
          "height": 419
        },
        "id": "ZDjHbJqoN7rm",
        "outputId": "96ddca19-2068-4a85-9def-f87ee6629998"
      },
      "outputs": [
        {
          "data": {
            "text/html": [
              "\n",
              "  <div id=\"df-27e95cfc-17f7-4e06-91ad-4e89797593ce\">\n",
              "    <div class=\"colab-df-container\">\n",
              "      <div>\n",
              "<style scoped>\n",
              "    .dataframe tbody tr th:only-of-type {\n",
              "        vertical-align: middle;\n",
              "    }\n",
              "\n",
              "    .dataframe tbody tr th {\n",
              "        vertical-align: top;\n",
              "    }\n",
              "\n",
              "    .dataframe thead th {\n",
              "        text-align: right;\n",
              "    }\n",
              "</style>\n",
              "<table border=\"1\" class=\"dataframe\">\n",
              "  <thead>\n",
              "    <tr style=\"text-align: right;\">\n",
              "      <th></th>\n",
              "      <th>id</th>\n",
              "      <th>date</th>\n",
              "      <th>symbol</th>\n",
              "      <th>open</th>\n",
              "      <th>close</th>\n",
              "      <th>high</th>\n",
              "      <th>low</th>\n",
              "      <th>settlement</th>\n",
              "      <th>volume</th>\n",
              "    </tr>\n",
              "  </thead>\n",
              "  <tbody>\n",
              "    <tr>\n",
              "      <th>0</th>\n",
              "      <td>42604</td>\n",
              "      <td>20200102</td>\n",
              "      <td>NaN</td>\n",
              "      <td>205.58</td>\n",
              "      <td>205.85</td>\n",
              "      <td>208.52</td>\n",
              "      <td>205.12</td>\n",
              "      <td>205.85</td>\n",
              "      <td>81215</td>\n",
              "    </tr>\n",
              "    <tr>\n",
              "      <th>1</th>\n",
              "      <td>42608</td>\n",
              "      <td>20200103</td>\n",
              "      <td>NaN</td>\n",
              "      <td>206.04</td>\n",
              "      <td>204.66</td>\n",
              "      <td>206.50</td>\n",
              "      <td>202.73</td>\n",
              "      <td>203.74</td>\n",
              "      <td>88965</td>\n",
              "    </tr>\n",
              "    <tr>\n",
              "      <th>2</th>\n",
              "      <td>42612</td>\n",
              "      <td>20200106</td>\n",
              "      <td>NaN</td>\n",
              "      <td>203.01</td>\n",
              "      <td>202.27</td>\n",
              "      <td>204.02</td>\n",
              "      <td>200.89</td>\n",
              "      <td>202.09</td>\n",
              "      <td>79947</td>\n",
              "    </tr>\n",
              "    <tr>\n",
              "      <th>3</th>\n",
              "      <td>42616</td>\n",
              "      <td>20200107</td>\n",
              "      <td>NaN</td>\n",
              "      <td>201.90</td>\n",
              "      <td>202.27</td>\n",
              "      <td>202.45</td>\n",
              "      <td>200.43</td>\n",
              "      <td>202.18</td>\n",
              "      <td>68670</td>\n",
              "    </tr>\n",
              "    <tr>\n",
              "      <th>4</th>\n",
              "      <td>42621</td>\n",
              "      <td>20200108</td>\n",
              "      <td>NaN</td>\n",
              "      <td>201.90</td>\n",
              "      <td>202.64</td>\n",
              "      <td>204.20</td>\n",
              "      <td>200.34</td>\n",
              "      <td>203.10</td>\n",
              "      <td>88089</td>\n",
              "    </tr>\n",
              "    <tr>\n",
              "      <th>...</th>\n",
              "      <td>...</td>\n",
              "      <td>...</td>\n",
              "      <td>...</td>\n",
              "      <td>...</td>\n",
              "      <td>...</td>\n",
              "      <td>...</td>\n",
              "      <td>...</td>\n",
              "      <td>...</td>\n",
              "      <td>...</td>\n",
              "    </tr>\n",
              "    <tr>\n",
              "      <th>57</th>\n",
              "      <td>42835</td>\n",
              "      <td>20200325</td>\n",
              "      <td>NaN</td>\n",
              "      <td>205.76</td>\n",
              "      <td>213.02</td>\n",
              "      <td>214.30</td>\n",
              "      <td>204.57</td>\n",
              "      <td>213.11</td>\n",
              "      <td>219173</td>\n",
              "    </tr>\n",
              "    <tr>\n",
              "      <th>58</th>\n",
              "      <td>42839</td>\n",
              "      <td>20200326</td>\n",
              "      <td>NaN</td>\n",
              "      <td>212.93</td>\n",
              "      <td>209.07</td>\n",
              "      <td>214.21</td>\n",
              "      <td>207.41</td>\n",
              "      <td>209.07</td>\n",
              "      <td>163529</td>\n",
              "    </tr>\n",
              "    <tr>\n",
              "      <th>59</th>\n",
              "      <td>42844</td>\n",
              "      <td>20200327</td>\n",
              "      <td>NaN</td>\n",
              "      <td>209.25</td>\n",
              "      <td>210.45</td>\n",
              "      <td>215.68</td>\n",
              "      <td>207.05</td>\n",
              "      <td>209.89</td>\n",
              "      <td>182414</td>\n",
              "    </tr>\n",
              "    <tr>\n",
              "      <th>60</th>\n",
              "      <td>42847</td>\n",
              "      <td>20200330</td>\n",
              "      <td>NaN</td>\n",
              "      <td>210.26</td>\n",
              "      <td>209.53</td>\n",
              "      <td>213.39</td>\n",
              "      <td>206.77</td>\n",
              "      <td>209.25</td>\n",
              "      <td>121130</td>\n",
              "    </tr>\n",
              "    <tr>\n",
              "      <th>61</th>\n",
              "      <td>42852</td>\n",
              "      <td>20200331</td>\n",
              "      <td>NaN</td>\n",
              "      <td>209.34</td>\n",
              "      <td>208.70</td>\n",
              "      <td>211.36</td>\n",
              "      <td>207.32</td>\n",
              "      <td>208.98</td>\n",
              "      <td>131557</td>\n",
              "    </tr>\n",
              "  </tbody>\n",
              "</table>\n",
              "<p>62 rows × 9 columns</p>\n",
              "</div>\n",
              "      <button class=\"colab-df-convert\" onclick=\"convertToInteractive('df-27e95cfc-17f7-4e06-91ad-4e89797593ce')\"\n",
              "              title=\"Convert this dataframe to an interactive table.\"\n",
              "              style=\"display:none;\">\n",
              "        \n",
              "  <svg xmlns=\"http://www.w3.org/2000/svg\" height=\"24px\"viewBox=\"0 0 24 24\"\n",
              "       width=\"24px\">\n",
              "    <path d=\"M0 0h24v24H0V0z\" fill=\"none\"/>\n",
              "    <path d=\"M18.56 5.44l.94 2.06.94-2.06 2.06-.94-2.06-.94-.94-2.06-.94 2.06-2.06.94zm-11 1L8.5 8.5l.94-2.06 2.06-.94-2.06-.94L8.5 2.5l-.94 2.06-2.06.94zm10 10l.94 2.06.94-2.06 2.06-.94-2.06-.94-.94-2.06-.94 2.06-2.06.94z\"/><path d=\"M17.41 7.96l-1.37-1.37c-.4-.4-.92-.59-1.43-.59-.52 0-1.04.2-1.43.59L10.3 9.45l-7.72 7.72c-.78.78-.78 2.05 0 2.83L4 21.41c.39.39.9.59 1.41.59.51 0 1.02-.2 1.41-.59l7.78-7.78 2.81-2.81c.8-.78.8-2.07 0-2.86zM5.41 20L4 18.59l7.72-7.72 1.47 1.35L5.41 20z\"/>\n",
              "  </svg>\n",
              "      </button>\n",
              "      \n",
              "  <style>\n",
              "    .colab-df-container {\n",
              "      display:flex;\n",
              "      flex-wrap:wrap;\n",
              "      gap: 12px;\n",
              "    }\n",
              "\n",
              "    .colab-df-convert {\n",
              "      background-color: #E8F0FE;\n",
              "      border: none;\n",
              "      border-radius: 50%;\n",
              "      cursor: pointer;\n",
              "      display: none;\n",
              "      fill: #1967D2;\n",
              "      height: 32px;\n",
              "      padding: 0 0 0 0;\n",
              "      width: 32px;\n",
              "    }\n",
              "\n",
              "    .colab-df-convert:hover {\n",
              "      background-color: #E2EBFA;\n",
              "      box-shadow: 0px 1px 2px rgba(60, 64, 67, 0.3), 0px 1px 3px 1px rgba(60, 64, 67, 0.15);\n",
              "      fill: #174EA6;\n",
              "    }\n",
              "\n",
              "    [theme=dark] .colab-df-convert {\n",
              "      background-color: #3B4455;\n",
              "      fill: #D2E3FC;\n",
              "    }\n",
              "\n",
              "    [theme=dark] .colab-df-convert:hover {\n",
              "      background-color: #434B5C;\n",
              "      box-shadow: 0px 1px 3px 1px rgba(0, 0, 0, 0.15);\n",
              "      filter: drop-shadow(0px 1px 2px rgba(0, 0, 0, 0.3));\n",
              "      fill: #FFFFFF;\n",
              "    }\n",
              "  </style>\n",
              "\n",
              "      <script>\n",
              "        const buttonEl =\n",
              "          document.querySelector('#df-27e95cfc-17f7-4e06-91ad-4e89797593ce button.colab-df-convert');\n",
              "        buttonEl.style.display =\n",
              "          google.colab.kernel.accessAllowed ? 'block' : 'none';\n",
              "\n",
              "        async function convertToInteractive(key) {\n",
              "          const element = document.querySelector('#df-27e95cfc-17f7-4e06-91ad-4e89797593ce');\n",
              "          const dataTable =\n",
              "            await google.colab.kernel.invokeFunction('convertToInteractive',\n",
              "                                                     [key], {});\n",
              "          if (!dataTable) return;\n",
              "\n",
              "          const docLinkHtml = 'Like what you see? Visit the ' +\n",
              "            '<a target=\"_blank\" href=https://colab.research.google.com/notebooks/data_table.ipynb>data table notebook</a>'\n",
              "            + ' to learn more about interactive tables.';\n",
              "          element.innerHTML = '';\n",
              "          dataTable['output_type'] = 'display_data';\n",
              "          await google.colab.output.renderOutput(dataTable, element);\n",
              "          const docLink = document.createElement('div');\n",
              "          docLink.innerHTML = docLinkHtml;\n",
              "          element.appendChild(docLink);\n",
              "        }\n",
              "      </script>\n",
              "    </div>\n",
              "  </div>\n",
              "  "
            ],
            "text/plain": [
              "       id      date  symbol    open   close    high     low  settlement  \\\n",
              "0   42604  20200102     NaN  205.58  205.85  208.52  205.12      205.85   \n",
              "1   42608  20200103     NaN  206.04  204.66  206.50  202.73      203.74   \n",
              "2   42612  20200106     NaN  203.01  202.27  204.02  200.89      202.09   \n",
              "3   42616  20200107     NaN  201.90  202.27  202.45  200.43      202.18   \n",
              "4   42621  20200108     NaN  201.90  202.64  204.20  200.34      203.10   \n",
              "..    ...       ...     ...     ...     ...     ...     ...         ...   \n",
              "57  42835  20200325     NaN  205.76  213.02  214.30  204.57      213.11   \n",
              "58  42839  20200326     NaN  212.93  209.07  214.21  207.41      209.07   \n",
              "59  42844  20200327     NaN  209.25  210.45  215.68  207.05      209.89   \n",
              "60  42847  20200330     NaN  210.26  209.53  213.39  206.77      209.25   \n",
              "61  42852  20200331     NaN  209.34  208.70  211.36  207.32      208.98   \n",
              "\n",
              "    volume  \n",
              "0    81215  \n",
              "1    88965  \n",
              "2    79947  \n",
              "3    68670  \n",
              "4    88089  \n",
              "..     ...  \n",
              "57  219173  \n",
              "58  163529  \n",
              "59  182414  \n",
              "60  121130  \n",
              "61  131557  \n",
              "\n",
              "[62 rows x 9 columns]"
            ]
          },
          "execution_count": 20,
          "metadata": {},
          "output_type": "execute_result"
        }
      ],
      "source": [
        "#DataFrame형태로로 읽어들이기\n",
        "\n",
        "import pandas as pd\n",
        "\n",
        "df = pd.read_json(j)\n",
        "df"
      ]
    },
    {
      "cell_type": "code",
      "execution_count": 24,
      "metadata": {
        "colab": {
          "base_uri": "https://localhost:8080/"
        },
        "id": "GUexo4gjRg-3",
        "outputId": "b0888812-16ae-4430-8feb-c6eca5ea5055"
      },
      "outputs": [
        {
          "name": "stdout",
          "output_type": "stream",
          "text": [
            "<class 'pandas.core.frame.DataFrame'>\n",
            "RangeIndex: 62 entries, 0 to 61\n",
            "Data columns (total 9 columns):\n",
            " #   Column      Non-Null Count  Dtype  \n",
            "---  ------      --------------  -----  \n",
            " 0   id          62 non-null     int64  \n",
            " 1   date        62 non-null     int64  \n",
            " 2   symbol      0 non-null      float64\n",
            " 3   open        62 non-null     float64\n",
            " 4   close       62 non-null     float64\n",
            " 5   high        62 non-null     float64\n",
            " 6   low         62 non-null     float64\n",
            " 7   settlement  62 non-null     float64\n",
            " 8   volume      62 non-null     int64  \n",
            "dtypes: float64(6), int64(3)\n",
            "memory usage: 4.5 KB\n",
            "None\n"
          ]
        },
        {
          "data": {
            "text/plain": [
              "id              int64\n",
              "date            int64\n",
              "symbol        float64\n",
              "open          float64\n",
              "close         float64\n",
              "high          float64\n",
              "low           float64\n",
              "settlement    float64\n",
              "volume          int64\n",
              "dtype: object"
            ]
          },
          "execution_count": 24,
          "metadata": {},
          "output_type": "execute_result"
        }
      ],
      "source": [
        "# 데이터 정보 확인하기\n",
        "\n",
        "print(df.info())\n",
        "df.dtypes\n"
      ]
    },
    {
      "cell_type": "code",
      "execution_count": 26,
      "metadata": {
        "id": "u4KF5uxBRhBo"
      },
      "outputs": [],
      "source": []
    },
    {
      "cell_type": "code",
      "execution_count": null,
      "metadata": {
        "id": "ELFQ9NLWRhDy"
      },
      "outputs": [],
      "source": []
    },
    {
      "cell_type": "code",
      "execution_count": null,
      "metadata": {
        "id": "Um3HkyD8RhF-"
      },
      "outputs": [],
      "source": []
    },
    {
      "cell_type": "code",
      "execution_count": null,
      "metadata": {
        "id": "zqhLMbCRRhIY"
      },
      "outputs": [],
      "source": []
    },
    {
      "cell_type": "code",
      "execution_count": null,
      "metadata": {
        "id": "QMV7Lz1eRhKm"
      },
      "outputs": [],
      "source": []
    },
    {
      "cell_type": "code",
      "execution_count": null,
      "metadata": {
        "id": "_EzYnoYRRhMu"
      },
      "outputs": [],
      "source": []
    },
    {
      "cell_type": "code",
      "execution_count": null,
      "metadata": {
        "id": "MgnPxox3RhPE"
      },
      "outputs": [],
      "source": []
    },
    {
      "cell_type": "code",
      "execution_count": null,
      "metadata": {
        "id": "wETR70xwRhRZ"
      },
      "outputs": [],
      "source": []
    }
  ],
  "metadata": {
    "colab": {
      "provenance": []
    },
    "kernelspec": {
      "display_name": "Python 3",
      "language": "python",
      "name": "python3"
    },
    "language_info": {
      "name": "python",
      "version": "3.11.1 (v3.11.1:a7a450f84a, Dec  6 2022, 15:24:06) [Clang 13.0.0 (clang-1300.0.29.30)]"
    },
    "vscode": {
      "interpreter": {
        "hash": "aee8b7b246df8f9039afb4144a1f6fd8d2ca17a180786b69acc140d282b71a49"
      }
    }
  },
  "nbformat": 4,
  "nbformat_minor": 0
}
