{
  "nbformat": 4,
  "nbformat_minor": 0,
  "metadata": {
    "colab": {
      "provenance": []
    },
    "kernelspec": {
      "name": "python3",
      "display_name": "Python 3"
    },
    "language_info": {
      "name": "python"
    }
  },
  "cells": [
    {
      "cell_type": "code",
      "execution_count": 1,
      "metadata": {
        "id": "2wPSJbn3KCaA"
      },
      "outputs": [],
      "source": [
        "import json"
      ]
    },
    {
      "cell_type": "code",
      "source": [
        "#예시 json 파일 불러오기\n",
        "\n",
        "with open('test.json') as file:\n",
        "  dates = json.load(file)\n",
        "\n",
        "  json_test = dates['users']\n",
        "  print(json_test)"
      ],
      "metadata": {
        "colab": {
          "base_uri": "https://localhost:8080/"
        },
        "id": "wfC6n8M2KL51",
        "outputId": "3492a02f-0a44-44a0-d585-f3ac9155eddd"
      },
      "execution_count": 2,
      "outputs": [
        {
          "output_type": "stream",
          "name": "stdout",
          "text": [
            "[{'userId': 1, 'firstName': 'AAAAA', 'lastName': 'as23', 'phoneNumber': '123456', 'emailAddress': 'AAAAA@test.com', 'homepage': 'https://amogg.tistory.com/1'}, {'userId': 2, 'firstName': 'BBBB', 'lastName': 'h5jdd', 'phoneNumber': '123456', 'homepage': 'https://amogg.tistory.com/2'}, {'userId': 3, 'firstName': 'CCCCC', 'lastName': '2dhbs', 'phoneNumber': '33333333', 'homepage': 'https://amogg.tistory.com/3'}, {'userId': 4, 'firstName': 'DDDDD', 'lastName': 'bacasd', 'phoneNumber': '222222222', 'homepage': 'https://amogg.tistory.com/4'}, {'userId': 5, 'firstName': 'EEEEE', 'lastName': 'asdfasdf', 'phoneNumber': '111111111', 'homepage': 'https://amogg.tistory.com/5'}]\n"
          ]
        }
      ]
    },
    {
      "cell_type": "code",
      "source": [
        "# 해당 데이터는 'list' 타입이다.\n",
        "\n",
        "# 하나씩 확인해보니 인덱싱이 가능한 것을 볼 수 있다.\n",
        "\n",
        "json_test = dates ['users']\n",
        "\n",
        "print(json_test[1])"
      ],
      "metadata": {
        "colab": {
          "base_uri": "https://localhost:8080/"
        },
        "id": "2Qv6MLV8KL8O",
        "outputId": "3ccc5c5f-c62f-474e-b7df-314f718c8978"
      },
      "execution_count": 5,
      "outputs": [
        {
          "output_type": "stream",
          "name": "stdout",
          "text": [
            "{'userId': 2, 'firstName': 'BBBB', 'lastName': 'h5jdd', 'phoneNumber': '123456', 'homepage': 'https://amogg.tistory.com/2'}\n"
          ]
        }
      ]
    },
    {
      "cell_type": "code",
      "source": [
        "# for문을 이용한 데이터 정보 확인\n",
        "\n",
        "\n",
        "\n",
        "for k in json_test:\n",
        "  print(k)"
      ],
      "metadata": {
        "colab": {
          "base_uri": "https://localhost:8080/"
        },
        "id": "34gJFSZGKL-n",
        "outputId": "4951444d-b62e-4906-8ef2-e44754736e69"
      },
      "execution_count": 6,
      "outputs": [
        {
          "output_type": "stream",
          "name": "stdout",
          "text": [
            "{'userId': 1, 'firstName': 'AAAAA', 'lastName': 'as23', 'phoneNumber': '123456', 'emailAddress': 'AAAAA@test.com', 'homepage': 'https://amogg.tistory.com/1'}\n",
            "{'userId': 2, 'firstName': 'BBBB', 'lastName': 'h5jdd', 'phoneNumber': '123456', 'homepage': 'https://amogg.tistory.com/2'}\n",
            "{'userId': 3, 'firstName': 'CCCCC', 'lastName': '2dhbs', 'phoneNumber': '33333333', 'homepage': 'https://amogg.tistory.com/3'}\n",
            "{'userId': 4, 'firstName': 'DDDDD', 'lastName': 'bacasd', 'phoneNumber': '222222222', 'homepage': 'https://amogg.tistory.com/4'}\n",
            "{'userId': 5, 'firstName': 'EEEEE', 'lastName': 'asdfasdf', 'phoneNumber': '111111111', 'homepage': 'https://amogg.tistory.com/5'}\n"
          ]
        }
      ]
    },
    {
      "cell_type": "code",
      "source": [
        "# 해당 데이터 중에 phonNunber만 확인해보고 싶을때 \n",
        "\n",
        "for k in json_test:\n",
        "  print(k['phoneNumber'])"
      ],
      "metadata": {
        "colab": {
          "base_uri": "https://localhost:8080/"
        },
        "id": "8nAferplKMAt",
        "outputId": "49c69154-7998-4d37-c46a-2c734b6188e7"
      },
      "execution_count": 7,
      "outputs": [
        {
          "output_type": "stream",
          "name": "stdout",
          "text": [
            "123456\n",
            "123456\n",
            "33333333\n",
            "222222222\n",
            "111111111\n"
          ]
        }
      ]
    },
    {
      "cell_type": "code",
      "source": [
        "# 여기서 중요한 점 , for 문으로 key 값을 가져올때 주의할 점은 , 모든 json이 똑같은 형식이여야 에러없이 동작할 수 있다는 것이다.\n",
        "\n",
        "for k in json_test:\n",
        "  print(k['emailAddress'])\n",
        "\n",
        "# 보면 형식이 똑같지 않기 때문에 에러가 발생하는 것을 볼 수 있다."
      ],
      "metadata": {
        "colab": {
          "base_uri": "https://localhost:8080/",
          "height": 215
        },
        "id": "OqlkVVx1KMDM",
        "outputId": "27f8d7d1-ff89-4207-bba1-6a557c164ab8"
      },
      "execution_count": 8,
      "outputs": [
        {
          "output_type": "stream",
          "name": "stdout",
          "text": [
            "AAAAA@test.com\n"
          ]
        },
        {
          "output_type": "error",
          "ename": "KeyError",
          "evalue": "ignored",
          "traceback": [
            "\u001b[0;31m---------------------------------------------------------------------------\u001b[0m",
            "\u001b[0;31mKeyError\u001b[0m                                  Traceback (most recent call last)",
            "\u001b[0;32m<ipython-input-8-7ad368fbb78b>\u001b[0m in \u001b[0;36m<module>\u001b[0;34m\u001b[0m\n\u001b[1;32m      2\u001b[0m \u001b[0;34m\u001b[0m\u001b[0m\n\u001b[1;32m      3\u001b[0m \u001b[0;32mfor\u001b[0m \u001b[0mk\u001b[0m \u001b[0;32min\u001b[0m \u001b[0mjson_test\u001b[0m\u001b[0;34m:\u001b[0m\u001b[0;34m\u001b[0m\u001b[0;34m\u001b[0m\u001b[0m\n\u001b[0;32m----> 4\u001b[0;31m   \u001b[0mprint\u001b[0m\u001b[0;34m(\u001b[0m\u001b[0mk\u001b[0m\u001b[0;34m[\u001b[0m\u001b[0;34m'emailAddress'\u001b[0m\u001b[0;34m]\u001b[0m\u001b[0;34m)\u001b[0m\u001b[0;34m\u001b[0m\u001b[0;34m\u001b[0m\u001b[0m\n\u001b[0m",
            "\u001b[0;31mKeyError\u001b[0m: 'emailAddress'"
          ]
        }
      ]
    },
    {
      "cell_type": "code",
      "source": [
        "# 위 사항을 해결하기 위해  try - except 코드로 감싸면 에러를 막을 수 있게 된다.\n",
        "\n",
        "# json 파일을 잘 파악하고 코드를 작성하는 것이 중요하다.\n",
        "\n",
        "for k in json_test:\n",
        "  try:\n",
        "    print(k['emailAddress'])\n",
        "  except:\n",
        "    break"
      ],
      "metadata": {
        "colab": {
          "base_uri": "https://localhost:8080/"
        },
        "id": "xgJ7muvBKMFl",
        "outputId": "447e9ecc-4e6d-4bd8-90bf-04589d97a690"
      },
      "execution_count": 10,
      "outputs": [
        {
          "output_type": "stream",
          "name": "stdout",
          "text": [
            "AAAAA@test.com\n"
          ]
        }
      ]
    },
    {
      "cell_type": "code",
      "source": [],
      "metadata": {
        "id": "dmou652ZKMIE"
      },
      "execution_count": null,
      "outputs": []
    },
    {
      "cell_type": "code",
      "source": [],
      "metadata": {
        "id": "z6DVHpbUKMKL"
      },
      "execution_count": null,
      "outputs": []
    },
    {
      "cell_type": "code",
      "source": [],
      "metadata": {
        "id": "EOo-hGzIKMMf"
      },
      "execution_count": null,
      "outputs": []
    }
  ]
}