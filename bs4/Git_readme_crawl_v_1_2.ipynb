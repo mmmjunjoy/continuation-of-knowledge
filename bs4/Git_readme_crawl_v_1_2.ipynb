{
  "nbformat": 4,
  "nbformat_minor": 0,
  "metadata": {
    "colab": {
      "provenance": []
    },
    "kernelspec": {
      "name": "python3",
      "display_name": "Python 3"
    },
    "language_info": {
      "name": "python"
    }
  },
  "cells": [
    {
      "cell_type": "code",
      "execution_count": null,
      "metadata": {
        "id": "MiibL_v0xmJf"
      },
      "outputs": [],
      "source": [
        "import requests\n",
        "from bs4 import BeautifulSoup"
      ]
    },
    {
      "cell_type": "code",
      "source": [
        "def git_crawl():\n",
        "\n",
        "\n",
        "  name = input()\n",
        "\n",
        "  url = \"https://github.com/\" + name\n",
        "\n",
        "  header = { \"user-agent\":'Mozilla/5.0 (Macintosh; Intel Mac OS X 10_15_7) AppleWebKit/537.36 (KHTML, like Gecko) Chrome/110.0.0.0 Safari/537.36',\n",
        "            'Accept-Encoding':'gzip, deflate, br'}\n",
        "\n",
        "\n",
        "  res = requests.get(url,headers=header)\n",
        "\n",
        "\n",
        "\n",
        "  soup = BeautifulSoup(res.text , 'html.parser')\n",
        "\n",
        "\n",
        "\n",
        "\n",
        "  # readme_text 항목 \n",
        "\n",
        "  totaldata = soup.find('article' , {'class':'markdown-body entry-content container-lg f5'})\n",
        "\n",
        "  # 이 부분에서 중요한 것은 , \n",
        "  # a 태그를 맨처음에 크롤링 하였는데 , 이렇게 했을때 실제로 수집하고 싶은 데이터가 포함이 안되어있다 , -> 이는 태그가 닫혀있는 것을 보면 알 수 있다 . \n",
        "  # 그렇기 때문에 , 윗부분 h4 를 먼저 크롤링을 하고 , .text를 이용하여 수집한다면 가능하게 된다.\n",
        "\n",
        "\n",
        "\n",
        "  # 여기서 중요한 것은 , 글자크기를 다르게 지정했을 시 해결방안과 더 좋은 코드이다.\n",
        "\n",
        "  p = totaldata.find_all('p') # 글자를 p 태그를 이용하여 작서할 가능성도 있다.\n",
        "  \n",
        "  rh2 = totaldata.find_all('h2') # 글자 크기 지정에 있어 h2인 것을 뽑기 위한 .\n",
        "  rh3 = totaldata.find_all('h3') # 글자 크기 지정에 있어 h3 인 것을 뽑기 위한. \n",
        "  rh4 = totaldata.find_all('h4') # 글자 크기 지정에 있어 h4 인 것을 뽑기 위한 \n",
        "  \n",
        "  result =[]\n",
        "\n",
        "  for ps in p:\n",
        "\n",
        "\n",
        "      itemp = f'{ps.text}'\n",
        "      \n",
        "      result.append(itemp)\n",
        "\n",
        "\n",
        "  for rt2 in rh2:\n",
        "\n",
        "\n",
        "      item2 = f'{rt2.text}'\n",
        "      \n",
        "      result.append(item2)\n",
        "  \n",
        "  \n",
        "\n",
        "  \n",
        "  for rt3 in rh3:\n",
        "\n",
        "      item3 = f'{rt3.text}'\n",
        "\n",
        "      result.append(item3)\n",
        "\n",
        "\n",
        "  for rt4 in rh4:\n",
        "\n",
        "\n",
        "      item4 = f'{rt4.text}'\n",
        "      \n",
        "      result.append(item4)\n",
        "\n",
        "  \n",
        "      \n",
        "      \n",
        "  \n",
        "  return result\n",
        "\n",
        "\n",
        "\n",
        "\n",
        "\n",
        "  \n",
        " \n",
        "\n",
        "\n",
        "\n",
        "\n",
        "\n",
        "\n",
        "  \n",
        "\n",
        "\n",
        "\n",
        "\n",
        "\n",
        "\n",
        "git_crawl()\n"
      ],
      "metadata": {
        "colab": {
          "base_uri": "https://localhost:8080/"
        },
        "id": "KlGu15cO8m7o",
        "outputId": "abbf67fe-ad53-4b36-cfc4-9bd0ec8e2840"
      },
      "execution_count": 57,
      "outputs": [
        {
          "name": "stdout",
          "output_type": "stream",
          "text": [
            "mmmjunjoy\n"
          ]
        },
        {
          "output_type": "execute_result",
          "data": {
            "text/plain": [
              "[' Hello  \\xa0,\\xa0 I have a goal to create a platform that provides AI-based fashion services 💈',\n",
              " ' The closest current goal is to become an excellent PM, and for that, ',\n",
              " ' I am currently studying back-end such as data analysis, and I plan to study front-end and AI fields in the future. thank you. ']"
            ]
          },
          "metadata": {},
          "execution_count": 57
        }
      ]
    }
  ]
}