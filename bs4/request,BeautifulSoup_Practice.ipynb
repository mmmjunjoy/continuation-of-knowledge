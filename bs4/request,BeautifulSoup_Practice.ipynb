{
  "nbformat": 4,
  "nbformat_minor": 0,
  "metadata": {
    "colab": {
      "provenance": []
    },
    "kernelspec": {
      "name": "python3",
      "display_name": "Python 3"
    },
    "language_info": {
      "name": "python"
    }
  },
  "cells": [
    {
      "cell_type": "code",
      "execution_count": null,
      "metadata": {
        "colab": {
          "base_uri": "https://localhost:8080/"
        },
        "id": "4eFqTKhgCVe2",
        "outputId": "698ca3b3-493f-4452-fa2b-6d23f4dae9d8"
      },
      "outputs": [
        {
          "output_type": "stream",
          "name": "stdout",
          "text": [
            "Looking in indexes: https://pypi.org/simple, https://us-python.pkg.dev/colab-wheels/public/simple/\n",
            "Requirement already satisfied: requests in /usr/local/lib/python3.8/dist-packages (2.25.1)\n",
            "Requirement already satisfied: urllib3<1.27,>=1.21.1 in /usr/local/lib/python3.8/dist-packages (from requests) (1.24.3)\n",
            "Requirement already satisfied: idna<3,>=2.5 in /usr/local/lib/python3.8/dist-packages (from requests) (2.10)\n",
            "Requirement already satisfied: chardet<5,>=3.0.2 in /usr/local/lib/python3.8/dist-packages (from requests) (4.0.0)\n",
            "Requirement already satisfied: certifi>=2017.4.17 in /usr/local/lib/python3.8/dist-packages (from requests) (2022.12.7)\n"
          ]
        }
      ],
      "source": [
        "# 웹 크롤러 \n",
        "\n",
        "# 웹에서 정보 가져오기 \n",
        "\n",
        "# Requests\n",
        "\n",
        "# python에는 requests라는 유명한 http request 라이브러리가 있다.\n",
        "\n",
        "# 설치하기\n",
        "\n",
        "!pip install requests\n"
      ]
    },
    {
      "cell_type": "code",
      "source": [
        "# 모듈 설치\n",
        "\n",
        "import requests"
      ],
      "metadata": {
        "id": "SLby-WvkD17J"
      },
      "execution_count": null,
      "outputs": []
    },
    {
      "cell_type": "code",
      "source": [
        "# HTTP GET Request\n",
        "\n",
        "req = requests.get('https://beomi.github.io/beomi.github.io_old')\n",
        "\n",
        "# HTML 소스 가져오기\n",
        "\n",
        "html = req.text \n",
        "\n",
        "# HTTP Header 가져오기\n",
        "\n",
        "header = req.headers\n",
        "\n",
        "# HTTP Status 가져오기 (200:정상)\n",
        "\n",
        "status = req.status_code\n",
        "\n",
        "# HTTP가가 정상적으로로 되었는지지 (true/flase)\n",
        "\n",
        "is_ok = req.ok \n",
        "\n"
      ],
      "metadata": {
        "id": "KA0dnT9uD19m"
      },
      "execution_count": null,
      "outputs": []
    },
    {
      "cell_type": "code",
      "source": [
        "# 위 코드에서 우리가 주로 사용할 것은 HTML 소스를 이용하는 것이다.\n",
        "\n",
        "# 따라서 html = req.text 를 이용한다. \n",
        "\n",
        "\n",
        "\n",
        "# BeautifulSoup \n",
        "\n",
        "\n",
        "# Requests는 정말 좋은 라이브러리이지만, html을 '의미있는' , 즉 Python 이 이해하는 객체 구조로 만들어주지는 못한다.\n",
        "\n",
        "# BeautifulSoup는 html 코드를 python이 이해하는 객체 구조로 변환하는 Parsing을 맡고 있다.\n",
        "\n",
        "\n",
        "# 설치하기\n",
        "\n",
        "\n",
        "!pip install bs4\n",
        "\n",
        "\n",
        "# bs4는 wrapper라이브러리이다. \n",
        "\n",
        "\n",
        "from bs4 import BeautifulSoup\n",
        "\n",
        "# HTTP GET Request\n",
        "req = requests.get('https://beomi.github.io/beomi.github.io_old/')\n",
        "\n",
        "# HTML 소스 가져오기\n",
        "html = req.text\n",
        "\n",
        "# BeautifulSoup으로 html소스를 python객체로 변환하기\n",
        "\n",
        "# 첫 인자는 html소스코드, 두 번째 인자는 어떤 parser를 이용할지 명시.\n",
        "\n",
        "# Python 내장 html.parser를 이용했다.\n",
        "\n",
        "soup = BeautifulSoup(html,'html.parser')\n",
        "\n",
        "# soup 객체에서 원하는 정보를 찾아낼 수 있다.\n",
        "\n",
        "# BeautifulSoup에서는 여러가지 기능을 제공하는데, 여기서는 select를 이용한다. \n",
        "# select는 CSS Selector를 이용해 조건과 일치하는 모든 객체들을 List로 반환해준다.\n",
        "\n",
        "\n",
        "# body > h3:nth-child(13) > a. : 제목을 추출해보기 위해 개발자도구 -> 제목 클릭 -> copy -> copy selector 이용용 \n",
        "\n",
        "# body > h3:nth-child(13) > a : 어떠한 것을 특정 하고 있다 . 그래서 -> h3 > a 로 변형\n",
        "\n",
        "\n",
        "# my_title는 string의 list가 아니라 soup객체들의 list이다. \n",
        "# 따라서 태그의 속성들도 이용할 수 있는데, a 태그의 경우 href속성이 대표적인 예시다.\n",
        "\n",
        "\n",
        "my_title = soup.select(\n",
        "    'h3 > a'\n",
        ")\n",
        "\n",
        "data ={}\n",
        "# \n",
        "for title in my_title:\n",
        "  \n",
        "  # # Tag안의 텍스트\n",
        "  # print(title.text)\n",
        "  # # Tag의 속성을 가져오기(ex: href속성)\n",
        "  # print(title.get('href'))\n",
        "\n",
        "  data[title.text] = title.get('href')\n",
        "\n",
        "\n",
        "data\n",
        "\n",
        "\n"
      ],
      "metadata": {
        "colab": {
          "base_uri": "https://localhost:8080/"
        },
        "id": "HCK8bhVbEHRd",
        "outputId": "3623f1fc-192d-4d59-813f-a12bd2a525c0"
      },
      "execution_count": 17,
      "outputs": [
        {
          "output_type": "stream",
          "name": "stdout",
          "text": [
            "Looking in indexes: https://pypi.org/simple, https://us-python.pkg.dev/colab-wheels/public/simple/\n",
            "Requirement already satisfied: bs4 in /usr/local/lib/python3.8/dist-packages (0.0.1)\n",
            "Requirement already satisfied: beautifulsoup4 in /usr/local/lib/python3.8/dist-packages (from bs4) (4.6.3)\n"
          ]
        },
        {
          "output_type": "execute_result",
          "data": {
            "text/plain": [
              "{'나만의 웹 크롤러 만들기(4): Django로 크롤링한 데이터 저장하기': '/beomi.github.io_old/python/2017/02/28/HowToMakeWebCrawler-Save-with-Django.html',\n",
              " '나만의 웹 크롤러 만들기(3): Selenium으로 무적 크롤러 만들기': '/beomi.github.io_old/python/2017/02/27/HowToMakeWebCrawler-With-Selenium.html',\n",
              " 'Django에 Social Login 붙이기: Django세팅부터 Facebook/Google 개발 설정까지': '/beomi.github.io_old/python/2017/02/08/Setup-SocialAuth-for-Django.html',\n",
              " 'Django에 Custom인증 붙이기': '/beomi.github.io_old/python/2017/02/01/Django-CustomAuth.html',\n",
              " '나만의 웹 크롤러 만들기(2): Login with Session': '/beomi.github.io_old/python/2017/01/20/HowToMakeWebCrawler-With-Login.html',\n",
              " '나만의 웹 크롤러 만들기 with Requests/BeautifulSoup': '/beomi.github.io_old/python/2017/01/19/HowToMakeWebCrawler.html',\n",
              " 'Celery로 TelegramBot 알림 보내기': '/beomi.github.io_old/2016/12/27/TelegramBot-with-Celery.html',\n",
              " 'Virtualenv/VirtualenvWrapper OS별 설치&이용법': '/beomi.github.io_old/2016/12/27/HowToSetup-Virtualenv-VirtualenvWrapper.html',\n",
              " '[DjangoTDDStudy] #02: UnitTest 이용해 기능 테스트 하기': '/beomi.github.io_old/djangotddstudy/2016/12/26/Django-TDD-Study-02-Using-UnitTest.html',\n",
              " '[DjangoTDDStudy] #01: 개발환경 세팅하기(Selenium / ChromeDriver)': '/beomi.github.io_old/djangotddstudy/2016/12/26/Django-TDD-Study-01-Setting-DevEnviron.html',\n",
              " '[DjangoTDDStudy] #00: 스터디를 시작하며': '/beomi.github.io_old/djangotddstudy/2016/12/26/Django-TDD-Study-00-Starting-Study.html',\n",
              " 'Fabric Put 커맨드가 No Such File Exception을 반환할 때 해결법': '/beomi.github.io_old/2016/12/21/Fabric-Put-Command-No-Such-File-Exception.html',\n",
              " 'CKEditor의 라이센스와 오픈소스 라이센스': '/beomi.github.io_old/2016/12/21/CKEditor-Lisence-and-Pricing.html',\n",
              " 'ReactNative The Basis 번역을 끝냈습니다.': '/beomi.github.io_old/translation/2016/12/20/ReactNative-Translation-Intro-Finish.html',\n",
              " '[React Native 번역]#01: 시작하기': '/beomi.github.io_old/translation/2016/11/15/ReactNative-Translation-01-getting-started.html',\n",
              " '[번역] 장고(Django)와 함께하는 Celery 첫걸음': '/beomi.github.io_old/django-celery/programming/python/translation/2016/11/04/eb-b2-88-ec-97-ad-ec-9e-a5-ea-b3-a0django-ec-99-80-ed-95-a8-ea-bb-98-ed-95-98-eb-8a-94-celery-ec-b2-ab-ea-b1-b8-ec-9d-8c.html',\n",
              " 'Chrome Native Adblockr 대체하기': '/beomi.github.io_old/tech/2016/09/14/chrome-native-adblockr-eb-8c-80-ec-b2-b4-ed-95-98-ea-b8-b0.html',\n",
              " 'CustoMac 설치 분투기': '/beomi.github.io_old/dev%20env%20setup/mac%20/%20os%20x/tech/2016/08/09/customac-ec-84-a4-ec-b9-98-eb-b6-84-ed-88-ac-ea-b8-b0.html',\n",
              " 'Ubuntu14.04에 OhMyZsh 설치': '/beomi.github.io_old/dev%20env%20setup/tech/ubuntu%20/%20debian/2016/07/22/ubuntu14-04-ec-97-90-ohmyzsh-ec-84-a4-ec-b9-98.html',\n",
              " 'Ubuntu14.04에서 pip로 mysqlclient 설치 실패시': '/beomi.github.io_old/programming/python/tech/2016/07/22/ubuntu14-04-ec-97-90-ec-84-9c-pip-eb-a1-9c-mysqlclient-ec-84-a4-ec-b9-98-ec-8b-a4-ed-8c-a8-ec-8b-9c.html',\n",
              " 'Ubuntu14.04에서 Python3기반 virtualenvwrapper 설치': '/beomi.github.io_old/mac%20/%20os%20x/programming/python/tech/2016/07/22/ubuntu14-04-ec-97-90-ec-84-9c-python3-ea-b8-b0-eb-b0-98-virtualenvwrapper-ec-84-a4-ec-b9-98.html',\n",
              " 'mac OS X에서 pip virtualenvwrapper 설치 시 uninstalling six 에서 Exception 발생 시': '/beomi.github.io_old/mac%20/%20os%20x/programming/python/tech/2016/07/21/mac-os-x-ec-97-90-ec-84-9c-pip-virtualenvwrapper-ec-84-a4-ec-b9-98-ec-8b-9c-uninstalling-six-ec-97-90-ec-84-9c-exception-eb-b0-9c-ec-83-9d-ec-8b-9c.html',\n",
              " 'Fabric for Python3 (Fabric3)': '/beomi.github.io_old/programming/python/2016/07/17/fabric-for-python3-fabric3.html',\n",
              " 'Windows에서 pip로 mysqlclient 설치 실패시(python3.4/3.5)': '/beomi.github.io_old/programming/python/2016/06/04/windows-ec-97-90-ec-84-9c-pip-eb-a1-9c-mysqlclient-ec-84-a4-ec-b9-98-ec-8b-a4-ed-8c-a8-ec-8b-9cpython3-43-5.html',\n",
              " '맥에서 윈도RDP로 접속시 한영전환하기.': '/beomi.github.io_old/mac%20/%20os%20x/tech/2016/05/27/eb-a7-a5-ec-97-90-ec-84-9c-ec-9c-88-eb-8f-84rdp-eb-a1-9c-ec-a0-91-ec-86-8d-ec-8b-9c-ed-95-9c-ec-98-81-ec-a0-84-ed-99-98-ed-95-98-ea-b8-b0.html',\n",
              " 'pip로 mysqlclient설치 중 mac os x에서 egg_info / OSError 발생시 대처방법': '/beomi.github.io_old/programming/python/2016/05/27/pip-eb-a1-9c-mysqlclient-ec-84-a4-ec-b9-98-ec-a4-91-mac-os-x-ec-97-90-ec-84-9c-egg_info-oserror-eb-b0-9c-ec-83-9d-ec-8b-9c-eb-8c-80-ec-b2-98-eb-b0-a9-eb-b2-95.html'}"
            ]
          },
          "metadata": {},
          "execution_count": 17
        }
      ]
    },
    {
      "cell_type": "code",
      "source": [],
      "metadata": {
        "id": "EmOIdfHvD2AW"
      },
      "execution_count": null,
      "outputs": []
    },
    {
      "cell_type": "code",
      "source": [],
      "metadata": {
        "id": "dLqPiG38D2Ch"
      },
      "execution_count": null,
      "outputs": []
    },
    {
      "cell_type": "code",
      "source": [],
      "metadata": {
        "id": "l-MjqGfZD2IR"
      },
      "execution_count": null,
      "outputs": []
    },
    {
      "cell_type": "code",
      "source": [],
      "metadata": {
        "id": "1j3dnFpDD2Ku"
      },
      "execution_count": null,
      "outputs": []
    },
    {
      "cell_type": "code",
      "source": [],
      "metadata": {
        "id": "YiL4YvbyD2NH"
      },
      "execution_count": null,
      "outputs": []
    },
    {
      "cell_type": "code",
      "source": [],
      "metadata": {
        "id": "4yP8K-OtD2Pf"
      },
      "execution_count": null,
      "outputs": []
    }
  ]
}