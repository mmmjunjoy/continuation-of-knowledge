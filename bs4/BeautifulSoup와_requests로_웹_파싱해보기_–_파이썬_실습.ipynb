{
  "nbformat": 4,
  "nbformat_minor": 0,
  "metadata": {
    "colab": {
      "provenance": []
    },
    "kernelspec": {
      "name": "python3",
      "display_name": "Python 3"
    },
    "language_info": {
      "name": "python"
    }
  },
  "cells": [
    {
      "cell_type": "code",
      "execution_count": null,
      "metadata": {
        "id": "u4XHcyZaDp8r"
      },
      "outputs": [],
      "source": [
        "# BeautifulSoup와 requests로 웹 파싱해보기 – 파이썬 실습\n",
        "\n",
        "# 먼저 크롤링(Crawling), 파싱(Parsing), 스크래핑(Scraping)에 대한 정의를 알아보겠습니다.\n",
        "\n",
        "# 크롤링은 웹 인덱싱을 위해 WWW를 체계적으로 탐색해나가는 것을 의미합니다. 크롤러가 하는 행위(WWW를 탐색해나가는 행위 등)를 바로 ‘크롤링’ 이라고 합니다.\n",
        "\n",
        "# 웹 파싱은 웹 상의 자연어, 컴퓨터 언어 등의 일련의 문자열들을 분석하는 프로세스입니다\n",
        "\n",
        "# 웹 스크래핑은 다양한 웹사이트로부터 데이터를 추출하는 기술을 의미합니다."
      ]
    },
    {
      "cell_type": "code",
      "source": [
        "!pip install BeautifulSoup4\n",
        "# 웹 페이지의 정보를 쉽게 스크랩할 수 있도록 기능을 제공하는 라이브러리입니다.\n",
        "!pip install requests\n",
        "# HTTP 요청을 보낼 수 있도록 기능을 제공하는 라이브러리 입니다.\n"
      ],
      "metadata": {
        "id": "6mL2z1nRDtIM"
      },
      "execution_count": null,
      "outputs": []
    },
    {
      "cell_type": "code",
      "source": [
        "# 파싱을 위한한 코드\n",
        "# parser.py\n",
        "\n",
        "\n",
        "import requests\n",
        "from bs4 import BeautifulSoup as bs\n",
        "\n",
        "#line 1 ~ 2: 필요한 라이브러리(requests, beautifulsoup)를 import 합니다\n",
        "\n",
        "page = requests.get(\"https://library.gabia.com/\")\n",
        "\n",
        "# line 4: requests 를 이용하여 ‘https://library.gabia.com’ 주소로 get 요청을 보내고 응답을 받습니다. 상태 코드와 HTML 내용을 응답받을 수 있습니다.\n",
        "\n",
        "soup = bs(page.text, \"html.parser\")\n",
        "\n",
        "#line 5: 응답받은 HTML 내용을 BeautifulSoup 클래스의 객체 형태로 생성/반환합니다. \n",
        "#BeautifulSoup 객체를 통해 HTML 코드를 파싱하기 위한 여러 가지 기능을 사용할 수 있습니다. \n",
        "#(response.text는 응답 받은 내용(HTML)을 Unicode 형태로 반환합니다.)\n",
        "\n",
        "\n",
        "elements = soup.select('div.esg-entry-content a > span')\n",
        "\n",
        "#line 7: BeautifulSoup 가 제공하는 기능 중 CSS 셀렉터를 이용하여 원하는 정보를 찾을 수 있는 기능입니다. \n",
        "#(div.esg-entry-content a > span 은 esg-entry-content 클래스로 설정된 div 태그들의 하위에 존재하는 a 태그, 그 하위에 존재하는 span 태그를 의미합니다.)\n",
        "# 이 셀렉터를 이용하면 가비아 라이브러리 홈페이지에 존재하는 포스터들의 제목을 추출할 수 있습니다.\n",
        "\n",
        "for index, element in enumerate(elements, 1):\n",
        "\t\tprint(\"{} 번째 게시글의 제목: {}\".format(index, element.text))\n",
        "\n"
      ],
      "metadata": {
        "id": "SQKvNNLuDtKc"
      },
      "execution_count": null,
      "outputs": []
    },
    {
      "cell_type": "code",
      "source": [
        "#위의 작업 버전.2\n",
        "\n",
        "elements = soup.select('div.esg-entry-content a.eg-grant-element-0')\n",
        "\n",
        "#line 7: esg-entry-content 클래스로 설정된 div 태그들의 하위에 존재하는 태그 중, eg-grant-element-0 클래스를 갖는 a 태그만을 추출합니다.\n",
        "\n",
        "for index, element in enumerate(elements, 1):\n",
        "\t\tprint(\"{} 번째 게시글: {}, {}\".format(index, element.text, element.attrs['href']))\n",
        "  \n",
        "# line 10: link.text 추출한 a 태그 안에 존재하는 text 내용을 추출합니다. \n",
        "# link.attrs['href'] a 태그의 href 속성의 값을 추출합니다.\n",
        "\n",
        "\n",
        "  \n"
      ],
      "metadata": {
        "id": "5Bw5oDD7DtMz"
      },
      "execution_count": 8,
      "outputs": []
    },
    {
      "cell_type": "code",
      "source": [],
      "metadata": {
        "id": "_In8SMI-F22g"
      },
      "execution_count": null,
      "outputs": []
    },
    {
      "cell_type": "code",
      "source": [],
      "metadata": {
        "id": "2q5DygJwDtPL"
      },
      "execution_count": null,
      "outputs": []
    },
    {
      "cell_type": "code",
      "source": [],
      "metadata": {
        "id": "n2bkqTA2DtRv"
      },
      "execution_count": null,
      "outputs": []
    },
    {
      "cell_type": "code",
      "source": [],
      "metadata": {
        "id": "hhFUQyJODtUF"
      },
      "execution_count": null,
      "outputs": []
    },
    {
      "cell_type": "code",
      "source": [],
      "metadata": {
        "id": "-CHkvhA4DtWc"
      },
      "execution_count": null,
      "outputs": []
    },
    {
      "cell_type": "code",
      "source": [],
      "metadata": {
        "id": "lbZs9YYPDtYz"
      },
      "execution_count": null,
      "outputs": []
    },
    {
      "cell_type": "code",
      "source": [],
      "metadata": {
        "id": "kVBti-h3DtbL"
      },
      "execution_count": null,
      "outputs": []
    }
  ]
}