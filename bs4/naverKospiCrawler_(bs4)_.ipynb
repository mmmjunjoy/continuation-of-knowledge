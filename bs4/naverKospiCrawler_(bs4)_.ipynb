{
  "nbformat": 4,
  "nbformat_minor": 0,
  "metadata": {
    "colab": {
      "provenance": []
    },
    "kernelspec": {
      "name": "python3",
      "display_name": "Python 3"
    },
    "language_info": {
      "name": "python"
    }
  },
  "cells": [
    {
      "cell_type": "code",
      "execution_count": 22,
      "metadata": {
        "id": "plSmRCiIWFCV"
      },
      "outputs": [],
      "source": [
        "# 모듈 설치\n",
        "\n",
        "import requests\n",
        "\n",
        "\n",
        "from bs4 import BeautifulSoup"
      ]
    },
    {
      "cell_type": "code",
      "source": [
        "url = 'https://finance.naver.com/sise/sise_index.naver?code=KOSPI'\n",
        "\n",
        "#url 주소가 중요 \n",
        "\n",
        "req = requests.get(url)\n",
        "\n",
        "html = req.text\n",
        "\n",
        "#print(req.content)\n",
        "\n",
        "soup = BeautifulSoup(req.content,'html.parser')\n",
        "\n",
        "# find를 사용하면 찾고자 하는 태그 중 웹페이지에서 가장 처음으로 등장하는 태그를 반환해 줍니다 -> 예) soup.find(\"span\")\n",
        "\n",
        "# find_all을 사용하면 웹페이지 내에 모든 태그를 찾아 줍니다. -> 예) soup.find_all(\"span\")\n",
        "\n",
        "\n",
        "\n",
        "info = soup.select(\"#contentarea_left > div.box_top_sub > div > div.subtop_sise_detail\")\n",
        "\n",
        "# select와 select_one의 차이 : select는 결과값이 리스트 형태로 저장되고, select_one은 그렇지 않다.\n",
        "\n",
        "\n",
        "\n",
        "\n",
        "\n",
        "\n",
        "for fo in info:\n",
        "  print(fo.text)\n",
        "# # for info in my_info:\n",
        "# #   print(info)\n",
        "\n",
        "\n",
        "\n",
        "#content > div.BlockInfo_article__3SczN > u"
      ],
      "metadata": {
        "colab": {
          "base_uri": "https://localhost:8080/"
        },
        "id": "ttadSaGvXv5T",
        "outputId": "de38789a-333b-4826-fd43-d27c5b76947b"
      },
      "execution_count": 69,
      "outputs": [
        {
          "output_type": "stream",
          "name": "stdout",
          "text": [
            "\n",
            "\n",
            "\n",
            "2,351.05\n",
            "0.86 +0.04%상승\n",
            "\n",
            "\n",
            "코스피 주요시세\n",
            "\n",
            "거래량(천주)\n",
            "188,872\n",
            "거래대금(백만)\n",
            "3,682,498\n",
            "\n",
            "\n",
            "장중최고\n",
            "2,370.18\n",
            "장중최저\n",
            "2,345.58\n",
            "\n",
            "\n",
            "52주최고\n",
            "2,982.14\n",
            "52주최저\n",
            "2,134.77\n",
            "\n",
            "\n",
            "등락/종목\n",
            "\n",
            "\n",
            "상한종목수0\n",
            "상승종목수450\n",
            "보합종목수73\n",
            "하락종목수410\n",
            "하한종목수0\n",
            "\n",
            "\n",
            "\n",
            "\n",
            "\n"
          ]
        }
      ]
    },
    {
      "cell_type": "code",
      "source": [],
      "metadata": {
        "id": "FKD7k62pXv7z"
      },
      "execution_count": null,
      "outputs": []
    },
    {
      "cell_type": "code",
      "source": [],
      "metadata": {
        "id": "w4UNhhnSXv9w"
      },
      "execution_count": null,
      "outputs": []
    },
    {
      "cell_type": "code",
      "source": [],
      "metadata": {
        "id": "xyJgFoqcXwAK"
      },
      "execution_count": null,
      "outputs": []
    },
    {
      "cell_type": "code",
      "source": [],
      "metadata": {
        "id": "xt5DsgUCXwCh"
      },
      "execution_count": null,
      "outputs": []
    },
    {
      "cell_type": "code",
      "source": [],
      "metadata": {
        "id": "SQ5eRWviXwEg"
      },
      "execution_count": null,
      "outputs": []
    }
  ]
}