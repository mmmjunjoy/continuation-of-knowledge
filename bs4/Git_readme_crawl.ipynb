{
  "nbformat": 4,
  "nbformat_minor": 0,
  "metadata": {
    "colab": {
      "provenance": []
    },
    "kernelspec": {
      "name": "python3",
      "display_name": "Python 3"
    },
    "language_info": {
      "name": "python"
    }
  },
  "cells": [
    {
      "cell_type": "code",
      "execution_count": 1,
      "metadata": {
        "id": "MiibL_v0xmJf"
      },
      "outputs": [],
      "source": [
        "import requests\n",
        "from bs4 import BeautifulSoup"
      ]
    },
    {
      "cell_type": "code",
      "source": [
        "def git_crawl():\n",
        "\n",
        "  url = \"https://github.com/mmmjunjoy\"\n",
        "\n",
        "  header = { \"user-agent\":'Mozilla/5.0 (Macintosh; Intel Mac OS X 10_15_7) AppleWebKit/537.36 (KHTML, like Gecko) Chrome/110.0.0.0 Safari/537.36',\n",
        "            'Accept-Encoding':'gzip, deflate, br'}\n",
        "\n",
        "\n",
        "  res = requests.get(url,headers=header)\n",
        "\n",
        "\n",
        "\n",
        "  soup = BeautifulSoup(res.text , 'html.parser')\n",
        "\n",
        "\n",
        "\n",
        "\n",
        "  # readme_text 항목 \n",
        "\n",
        "  totaldata = soup.find('article' , {'class':'markdown-body entry-content container-lg f5'})\n",
        "\n",
        "  # 이 부분에서 중요한 것은 , \n",
        "  # a 태그를 맨처음에 크롤링 하였는데 , 이렇게 했을때 실제로 수집하고 싶은 데이터가 포함이 안되어있다 , -> 이는 태그가 닫혀있는 것을 보면 알 수 있다 . \n",
        "  # 그렇기 때문에 , 윗부분 h4 를 먼저 크롤링을 하고 , .text를 이용하여 수집한다면 가능하게 된다.\n",
        "\n",
        "  rtext = totaldata.find_all('h4')\n",
        "\n",
        " \n",
        "  result =[]\n",
        "\n",
        "  for rt in rtext:\n",
        "\n",
        "\n",
        "      item = f'{rt.text}'\n",
        "      \n",
        "      result.append(item)\n",
        "      \n",
        "      \n",
        "  \n",
        "  return result\n",
        "\n",
        "\n",
        "\n",
        "\n",
        "\n",
        "  \n",
        " \n",
        "\n",
        "\n",
        "\n",
        "\n",
        "\n",
        "\n",
        "  \n",
        "\n",
        "\n",
        "\n",
        "\n",
        "\n",
        "\n",
        "git_crawl()\n"
      ],
      "metadata": {
        "colab": {
          "base_uri": "https://localhost:8080/"
        },
        "id": "KlGu15cO8m7o",
        "outputId": "adcfc440-bcb3-4c1a-a556-d783d523ddec"
      },
      "execution_count": 41,
      "outputs": [
        {
          "output_type": "stream",
          "name": "stdout",
          "text": [
            "[<h4 dir=\"auto\"><a aria-hidden=\"true\" class=\"anchor\" href=\"#-hello---i-have-a-goal-to-create-a-platform-that-provides-ai-based-fashion-services-\" id=\"user-content--hello---i-have-a-goal-to-create-a-platform-that-provides-ai-based-fashion-services-\"><svg aria-hidden=\"true\" class=\"octicon octicon-link\" height=\"16\" version=\"1.1\" viewbox=\"0 0 16 16\" width=\"16\"><path d=\"M7.775 3.275a.75.75 0 001.06 1.06l1.25-1.25a2 2 0 112.83 2.83l-2.5 2.5a2 2 0 01-2.83 0 .75.75 0 00-1.06 1.06 3.5 3.5 0 004.95 0l2.5-2.5a3.5 3.5 0 00-4.95-4.95l-1.25 1.25zm-4.69 9.64a2 2 0 010-2.83l2.5-2.5a2 2 0 012.83 0 .75.75 0 001.06-1.06 3.5 3.5 0 00-4.95 0l-2.5 2.5a3.5 3.5 0 004.95 4.95l1.25-1.25a.75.75 0 00-1.06-1.06l-1.25 1.25a2 2 0 01-2.83 0z\" fill-rule=\"evenodd\"></path></svg></a> Hello   ,  I have a goal to create a platform that provides AI-based fashion services <g-emoji alias=\"barber\" class=\"g-emoji\" fallback-src=\"https://github.githubassets.com/images/icons/emoji/unicode/1f488.png\">💈</g-emoji></h4>, <h4 dir=\"auto\"><a aria-hidden=\"true\" class=\"anchor\" href=\"#-the-closest-current-goal-is-to-become-an-excellent-pm-and-for-that-\" id=\"user-content--the-closest-current-goal-is-to-become-an-excellent-pm-and-for-that-\"><svg aria-hidden=\"true\" class=\"octicon octicon-link\" height=\"16\" version=\"1.1\" viewbox=\"0 0 16 16\" width=\"16\"><path d=\"M7.775 3.275a.75.75 0 001.06 1.06l1.25-1.25a2 2 0 112.83 2.83l-2.5 2.5a2 2 0 01-2.83 0 .75.75 0 00-1.06 1.06 3.5 3.5 0 004.95 0l2.5-2.5a3.5 3.5 0 00-4.95-4.95l-1.25 1.25zm-4.69 9.64a2 2 0 010-2.83l2.5-2.5a2 2 0 012.83 0 .75.75 0 001.06-1.06 3.5 3.5 0 00-4.95 0l-2.5 2.5a3.5 3.5 0 004.95 4.95l1.25-1.25a.75.75 0 00-1.06-1.06l-1.25 1.25a2 2 0 01-2.83 0z\" fill-rule=\"evenodd\"></path></svg></a> The closest current goal is to become an excellent PM, and for that, </h4>, <h4 dir=\"auto\"><a aria-hidden=\"true\" class=\"anchor\" href=\"#-i-am-currently-studying-back-end-such-as-data-analysis-and-i-plan-to-study-front-end-and-ai-fields-in-the-future-thank-you-\" id=\"user-content--i-am-currently-studying-back-end-such-as-data-analysis-and-i-plan-to-study-front-end-and-ai-fields-in-the-future-thank-you-\"><svg aria-hidden=\"true\" class=\"octicon octicon-link\" height=\"16\" version=\"1.1\" viewbox=\"0 0 16 16\" width=\"16\"><path d=\"M7.775 3.275a.75.75 0 001.06 1.06l1.25-1.25a2 2 0 112.83 2.83l-2.5 2.5a2 2 0 01-2.83 0 .75.75 0 00-1.06 1.06 3.5 3.5 0 004.95 0l2.5-2.5a3.5 3.5 0 00-4.95-4.95l-1.25 1.25zm-4.69 9.64a2 2 0 010-2.83l2.5-2.5a2 2 0 012.83 0 .75.75 0 001.06-1.06 3.5 3.5 0 00-4.95 0l-2.5 2.5a3.5 3.5 0 004.95 4.95l1.25-1.25a.75.75 0 00-1.06-1.06l-1.25 1.25a2 2 0 01-2.83 0z\" fill-rule=\"evenodd\"></path></svg></a> I am currently studying back-end such as data analysis, and I plan to study front-end and AI fields in the future. thank you. </h4>]\n"
          ]
        },
        {
          "output_type": "execute_result",
          "data": {
            "text/plain": [
              "[' Hello  \\xa0,\\xa0 I have a goal to create a platform that provides AI-based fashion services 💈',\n",
              " ' The closest current goal is to become an excellent PM, and for that, ',\n",
              " ' I am currently studying back-end such as data analysis, and I plan to study front-end and AI fields in the future. thank you. ']"
            ]
          },
          "metadata": {},
          "execution_count": 41
        }
      ]
    }
  ]
}