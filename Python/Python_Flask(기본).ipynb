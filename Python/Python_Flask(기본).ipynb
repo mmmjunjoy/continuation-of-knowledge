{
  "nbformat": 4,
  "nbformat_minor": 0,
  "metadata": {
    "colab": {
      "provenance": []
    },
    "kernelspec": {
      "name": "python3",
      "display_name": "Python 3"
    },
    "language_info": {
      "name": "python"
    }
  },
  "cells": [
    {
      "cell_type": "code",
      "execution_count": 1,
      "metadata": {
        "colab": {
          "base_uri": "https://localhost:8080/",
          "height": 130
        },
        "id": "MlEO-CDN6TAm",
        "outputId": "eb54d9df-bfac-4c1d-c91d-ed47930119f4"
      },
      "outputs": [
        {
          "output_type": "error",
          "ename": "SyntaxError",
          "evalue": "ignored",
          "traceback": [
            "\u001b[0;36m  File \u001b[0;32m\"<ipython-input-1-6e9bb581fd92>\"\u001b[0;36m, line \u001b[0;32m5\u001b[0m\n\u001b[0;31m    Flask 는 Django와 더불어 가장 많이 활용되는 Python Web Framework 이다.\u001b[0m\n\u001b[0m          ^\u001b[0m\n\u001b[0;31mSyntaxError\u001b[0m\u001b[0;31m:\u001b[0m invalid syntax\n"
          ]
        }
      ],
      "source": [
        "# 파이썬썬 - Flask\n",
        "\n",
        "# flask 란?\n",
        "\n",
        "Flask 는 Django와 더불어 가장 많이 활용되는 Python Web Framework 이다.\n",
        "\n",
        "# Framework란 무엇일까?\n",
        "\n",
        "Framework는 \"애플리케이션 개발에 바탕이되는 템플릿과 같은 클래스들의 집합\" 이라고 이해하면 된다. 즉, 어떤 프로그램을 만들기 위한 기본 틀을 프레임워크라고 한다다.\n",
        "\n",
        "# 프레임워크와 라이브러리의 차이는 무엇일까?\n",
        "\n",
        "라이브러리란 \"반복되는 코드 작성을 없애기 위해 언제든지 필요한곳에서 호출하여 사용할 수 있도록 만들어놓은 클래스나 함수모음\" 을 말한다.\n",
        "\n",
        "\n",
        "# Flask의 특징\n",
        "\n",
        "Flask는 마이크로 프레임워크이다. 마이크로 프레임워크란 웹 개발에 필요한 최소 기능만 제공하며,\n",
        "\n",
        " 나머지 기능은 자신이 원하는 다른 라이브러리나 프레임워크를 확장해 사용한다. 빠르게 원하는 기능을 기반으로 웹서비스 구축이 가능하다는 것이 장점이다\n",
        "\n",
        "마이크로 프레임워크의 반대 개념은 풀스택 프레임워크이다. \n",
        "\n",
        "풀스택 프레임워크란 요청/응답 추상화, 세션 상태 관리, 사용자 인증 및 권한 관리, 데이터베이스 접근, 보안, 캐시 등등 웹 개발에 관련된 모든 기능을 제공하는 프레임워크이다. \n",
        "\n",
        "대표적으로 JAVA Spring, Python Django, Ruby on Rails 등이 있다.\n",
        "\n",
        "profile\n",
        "\n",
        "\n",
        "\n"
      ]
    },
    {
      "cell_type": "code",
      "source": [
        "# 1. 파이썬 - Flask 실행\n",
        "\n",
        "# 1.1 객체 생성\n",
        "\n",
        "from flask import Flask\n",
        "\n",
        "app = Flask(__name__)"
      ],
      "metadata": {
        "id": "3D6Mth7g7LvQ"
      },
      "execution_count": 4,
      "outputs": []
    },
    {
      "cell_type": "code",
      "source": [
        "# 1.2 웹서버 실행\n",
        "\n",
        "from flask import Flask\n",
        "\n",
        "app = Flask(__name__)\n",
        "\n",
        "@app.route(\"/test\")\n",
        "def hello():\n",
        "  return \"hello world\"\n",
        "\n",
        "host_addr = \"0.0.0.0\"\n",
        "port_num = \"8080\"\n",
        "\n",
        "if __name__ == \"__main__\" :\n",
        "\n",
        "  app.run(host=127.0.0.1,port=8080,debug=True)\n",
        "\n",
        "\n",
        "# host address 와 post number를 지정해서 웹 서버를 실행해줄 수 있다. "
      ],
      "metadata": {
        "colab": {
          "base_uri": "https://localhost:8080/",
          "height": 130
        },
        "id": "r3TnYbXX7Lzx",
        "outputId": "d2f495a7-4488-4c7f-9ed3-eb865f4e91d5"
      },
      "execution_count": 3,
      "outputs": [
        {
          "output_type": "error",
          "ename": "SyntaxError",
          "evalue": "ignored",
          "traceback": [
            "\u001b[0;36m  File \u001b[0;32m\"<ipython-input-3-6766631ba25d>\"\u001b[0;36m, line \u001b[0;32m16\u001b[0m\n\u001b[0;31m    app.run(host=127.0.0.1,port=8080,debug=True)\u001b[0m\n\u001b[0m                      ^\u001b[0m\n\u001b[0;31mSyntaxError\u001b[0m\u001b[0;31m:\u001b[0m invalid syntax\n"
          ]
        }
      ]
    },
    {
      "cell_type": "code",
      "source": [
        "# 2. 파이썬 - Flask 라우팅\n",
        "\n",
        "\n",
        "# 2.1 라우팅\n",
        "\n",
        "\n",
        "from flask import Flask\n",
        "\n",
        "app = Flask(__name__) \n",
        "\n",
        "@app.route(\"/test\") \n",
        "def hello():\n",
        "    return \"Hello World!\"\n",
        "\n",
        "\"\"\" @app.route(\"/test\") == 127.0.0.1:8080/test\n",
        "    즉, URL을 정의하며 요청이 들어오면 하위 함수를 실행하여 값을 리턴해준다. \"\"\"\n",
        "\n",
        "\n"
      ],
      "metadata": {
        "id": "BR7MT7Cw7L2H"
      },
      "execution_count": null,
      "outputs": []
    },
    {
      "cell_type": "code",
      "source": [
        "# 2.2 라우팅 - 정적 페이지지 리턴하기 \n",
        "\n",
        "from flask import Flask\n",
        "\n",
        "app = Flask(__name__)\n",
        "@app.route(\"/\")\n",
        "def hello():                           \n",
        "    return \"<h1>Hello World!</h1>\"\n",
        "\n",
        "@app.route(\"/hello\")\n",
        "def hello_flask():\n",
        "    return \"<h1>Hello Flash!</h1>\"\n",
        "\n",
        "@app.route(\"/first\")\n",
        "def hello_first():\n",
        "    return \"<h3>Hello First</h3>\"\n",
        "\n",
        "if __name__ == \"__main__\":              \n",
        "    app.run(host=\"127.0.0.1\", port=\"8080\")"
      ],
      "metadata": {
        "id": "jMSHqZRu7L4n"
      },
      "execution_count": null,
      "outputs": []
    },
    {
      "cell_type": "code",
      "source": [
        "# 2.3 URI 를 변수로 사용하기\n",
        "\n",
        "#URI\n",
        "\n",
        "#URI는 특정 리소스를 식별하는 통합 자원 식별자(Uniform Resource Identifier)를 의미한다. \n",
        "#웹 기술에서 사용하는 논리적 또는 물리적 리소스를 식별하는 고유한 문자열 시퀀스다.\n",
        "\n",
        "\n",
        "from flask import Flask\n",
        "\n",
        "app = Flask(__name__)\n",
        "@app.route(\"/first/<username>\")\n",
        "def get_first(username):\n",
        "    return \"<h3>Hello \" + username + \"!</h3>\"\n",
        "\n",
        "if __name__ == \"__main__\":              \n",
        "    app.run(host=\"127.0.0.1\", port=\"8080\")\n",
        "\n",
        "# \"\"\" 위와 같이 <> 를 사용하면 웹브라우저를 통해 변수를 넘겨받아 사용할 수 있다. \"\"\"\n"
      ],
      "metadata": {
        "id": "zQlbQetr9BY-"
      },
      "execution_count": null,
      "outputs": []
    },
    {
      "cell_type": "code",
      "source": [
        "# 2.4 라우팅 - URI 를 변수의 자료형을 정의하여 사용하기\n",
        "\n",
        "from flask import Flask\n",
        "\n",
        "app = Flask(__name__)\n",
        "\n",
        "@app.route(\"/message/<int:message_id>\")\n",
        "def get_message(message_id):\n",
        "    return \"message id: %d\" % message_id   # %d 는 int, %f 는 float, %s 는 string\n",
        "\n",
        "# \"\"\" 위와 같이 <int:변수명> 을 사용하면 변수 형태를 정의할 수 있다. 정의하지 않으면 기본 값은 str\"\"\" \n",
        "\n",
        "if __name__ == \"__main__\":\n",
        "    app.run(host=\"0.0.0.0\", port=\"8080\")"
      ],
      "metadata": {
        "id": "evrO7goi9BbH"
      },
      "execution_count": null,
      "outputs": []
    },
    {
      "cell_type": "code",
      "source": [
        "# 2.5 라우팅 - URI 를 변수로 넘겨받아 계산하기\n",
        "\n",
        "from flask import Flask\n",
        "\n",
        "app = Flask(__name__)\n",
        "\n",
        "def add_file(data):\n",
        "    return data + 5\n",
        "\n",
        "@app.route(\"/first/<int:messageid>\")\n",
        "def get_first(messageid):\n",
        "    data = add_file(messageid)\n",
        "    return \"<h1>%d</h1>\" % (data)\n",
        "\n",
        "if __name__ == \"__main__\":\n",
        "    app.run(host=\"0.0.0.0\", port=\"8080\")"
      ],
      "metadata": {
        "id": "7wewBiPM9BdT"
      },
      "execution_count": null,
      "outputs": []
    },
    {
      "cell_type": "code",
      "source": [
        "# 3. 파이썬 - Flask Json 데이터 리턴"
      ],
      "metadata": {
        "id": "3HXnjoEu9BfL"
      },
      "execution_count": null,
      "outputs": []
    },
    {
      "cell_type": "code",
      "source": [
        "# 3.1 RestAPI - JSON 데이터 리턴하기\n",
        "\n",
        "from flask import Flask, jsonify\n",
        "\n",
        "app = Flask(__name__)\n",
        "\n",
        "@app.route('/json_test')\n",
        "def hellow_json():\n",
        "    data = {'name' : 'taekyeong'}\n",
        "    return jsonify(data)\n",
        "\n",
        "@app.route('/server_info')\n",
        "def server_inf0():\n",
        "    data = {'host': '127.0.0.1', 'port': '8080'}\n",
        "    return jsonify(data)\n",
        "\n",
        "if __name__ == \"__main__\":\n",
        "    app.run(host=\"0.0.0.0\", port=\"8080\")\n",
        "\n",
        "# \"\"\" flask에 내장되어 있는 jsonify 모듈을 사용해서 JSON 데이터를 전달할 수 있다.\"\"\"\n",
        "\n",
        "profile\n"
      ],
      "metadata": {
        "id": "_7cn0Ts49BhX"
      },
      "execution_count": null,
      "outputs": []
    }
  ]
}