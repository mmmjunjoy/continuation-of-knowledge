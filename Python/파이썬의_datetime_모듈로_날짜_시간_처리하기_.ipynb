{
  "nbformat": 4,
  "nbformat_minor": 0,
  "metadata": {
    "colab": {
      "provenance": []
    },
    "kernelspec": {
      "name": "python3",
      "display_name": "Python 3"
    },
    "language_info": {
      "name": "python"
    }
  },
  "cells": [
    {
      "cell_type": "code",
      "execution_count": 14,
      "metadata": {
        "id": "3NlUSqg4-Ik-"
      },
      "outputs": [],
      "source": [
        "#datetime 내장 모듈 \n",
        "\n",
        "from datetime import date,timedelta,datetime"
      ]
    },
    {
      "cell_type": "code",
      "source": [
        "# practice 1\n",
        "\n",
        "today = date.today()\n",
        "today"
      ],
      "metadata": {
        "colab": {
          "base_uri": "https://localhost:8080/"
        },
        "id": "0FjQMaNh-VR9",
        "outputId": "cca52d26-6692-4e55-fe5a-042e652f4dbb"
      },
      "execution_count": 7,
      "outputs": [
        {
          "output_type": "execute_result",
          "data": {
            "text/plain": [
              "datetime.date(2023, 1, 9)"
            ]
          },
          "metadata": {},
          "execution_count": 7
        }
      ]
    },
    {
      "cell_type": "code",
      "source": [
        "#practice 2\n",
        "\n",
        "one_week = timedelta(weeks=1)\n",
        "one_week\n"
      ],
      "metadata": {
        "colab": {
          "base_uri": "https://localhost:8080/"
        },
        "id": "Oihc8cVc-VUe",
        "outputId": "52d3fc82-81a7-45b1-ed43-e6a5ff08534d"
      },
      "execution_count": 13,
      "outputs": [
        {
          "output_type": "execute_result",
          "data": {
            "text/plain": [
              "datetime.timedelta(days=7)"
            ]
          },
          "metadata": {},
          "execution_count": 13
        }
      ]
    },
    {
      "cell_type": "code",
      "source": [
        "#실전 \n",
        "\n",
        "date = datetime.now()\n",
        "\n",
        "yesterday = date - timedelta(days=2)\n",
        "\n",
        "date = str(date).split(' ')[0].replace('-','')\n",
        "\n",
        "# 위 코드에 대한 설명을 하자면 , split을 이용하여 문자열을 나누어준 후 인덱스 0번인 2019-01-09 만 남겨놓는다 \n",
        "# replace 는 대체할때 쓰는 함수로 - -> 없애주었다.\n",
        "\n",
        "yesterday = str(yesterday).split(' ')[0].replace('-','')\n",
        "\n",
        "print(date)\n",
        "print(yesterday)\n",
        "\n",
        "\n",
        "\n"
      ],
      "metadata": {
        "colab": {
          "base_uri": "https://localhost:8080/"
        },
        "id": "h2pbx5Oj-VW4",
        "outputId": "e432e23b-9191-44ba-b660-a4ecf040daf6"
      },
      "execution_count": 39,
      "outputs": [
        {
          "output_type": "stream",
          "name": "stdout",
          "text": [
            "20230109\n",
            "20230107\n"
          ]
        }
      ]
    },
    {
      "cell_type": "code",
      "source": [
        "#timezone\n",
        "\n",
        "from datetime import timezone\n",
        "\n",
        "timezone(timedelta(0))"
      ],
      "metadata": {
        "colab": {
          "base_uri": "https://localhost:8080/"
        },
        "id": "ozeHu58N-VZE",
        "outputId": "7d1528b4-9c18-498e-9714-e1bc7749e3ae"
      },
      "execution_count": 43,
      "outputs": [
        {
          "output_type": "execute_result",
          "data": {
            "text/plain": [
              "datetime.timezone.utc"
            ]
          },
          "metadata": {},
          "execution_count": 43
        }
      ]
    },
    {
      "cell_type": "code",
      "source": [],
      "metadata": {
        "id": "fJ_a5EeA-Vbf"
      },
      "execution_count": null,
      "outputs": []
    },
    {
      "cell_type": "code",
      "source": [],
      "metadata": {
        "id": "XSk9IRJ--VdX"
      },
      "execution_count": null,
      "outputs": []
    },
    {
      "cell_type": "code",
      "source": [],
      "metadata": {
        "id": "12IOzlfn-Vf0"
      },
      "execution_count": null,
      "outputs": []
    },
    {
      "cell_type": "code",
      "source": [],
      "metadata": {
        "id": "Y75fMei4-Vh1"
      },
      "execution_count": null,
      "outputs": []
    },
    {
      "cell_type": "code",
      "source": [],
      "metadata": {
        "id": "cBPdpUQ4-Vj5"
      },
      "execution_count": null,
      "outputs": []
    }
  ]
}