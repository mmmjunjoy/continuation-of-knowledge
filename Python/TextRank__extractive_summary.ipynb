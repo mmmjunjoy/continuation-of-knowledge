{
  "nbformat": 4,
  "nbformat_minor": 0,
  "metadata": {
    "colab": {
      "provenance": []
    },
    "kernelspec": {
      "name": "python3",
      "display_name": "Python 3"
    },
    "language_info": {
      "name": "python"
    }
  },
  "cells": [
    {
      "cell_type": "code",
      "execution_count": 6,
      "metadata": {
        "id": "OpWF7Rx93890"
      },
      "outputs": [],
      "source": [
        "import warnings\n",
        "warnings.filterwarnings('ignore')"
      ]
    },
    {
      "cell_type": "code",
      "source": [
        "!pip install gensim==4.0.1"
      ],
      "metadata": {
        "colab": {
          "base_uri": "https://localhost:8080/"
        },
        "id": "qExusjpw6Yb3",
        "outputId": "912ad046-5205-4ed2-b7e1-1cbc98778381"
      },
      "execution_count": 13,
      "outputs": [
        {
          "output_type": "stream",
          "name": "stdout",
          "text": [
            "Looking in indexes: https://pypi.org/simple, https://us-python.pkg.dev/colab-wheels/public/simple/\n",
            "Requirement already satisfied: gensim==4.0.1 in /usr/local/lib/python3.9/dist-packages (4.0.1)\n",
            "Requirement already satisfied: smart-open>=1.8.1 in /usr/local/lib/python3.9/dist-packages (from gensim==4.0.1) (6.3.0)\n",
            "Requirement already satisfied: scipy>=0.18.1 in /usr/local/lib/python3.9/dist-packages (from gensim==4.0.1) (1.10.1)\n",
            "Requirement already satisfied: numpy>=1.11.3 in /usr/local/lib/python3.9/dist-packages (from gensim==4.0.1) (1.22.4)\n"
          ]
        }
      ]
    },
    {
      "cell_type": "code",
      "source": [
        "from gensim.summarization import summarize"
      ],
      "metadata": {
        "colab": {
          "base_uri": "https://localhost:8080/",
          "height": 321
        },
        "id": "p7TOy49v5LZp",
        "outputId": "15501e49-da98-4286-f2a3-647f748fbabb"
      },
      "execution_count": 14,
      "outputs": [
        {
          "output_type": "error",
          "ename": "ModuleNotFoundError",
          "evalue": "ignored",
          "traceback": [
            "\u001b[0;31m---------------------------------------------------------------------------\u001b[0m",
            "\u001b[0;31mModuleNotFoundError\u001b[0m                       Traceback (most recent call last)",
            "\u001b[0;32m<ipython-input-14-97f4c75239a4>\u001b[0m in \u001b[0;36m<cell line: 1>\u001b[0;34m()\u001b[0m\n\u001b[0;32m----> 1\u001b[0;31m \u001b[0;32mfrom\u001b[0m \u001b[0mgensim\u001b[0m\u001b[0;34m.\u001b[0m\u001b[0msummarization\u001b[0m \u001b[0;32mimport\u001b[0m \u001b[0msummarize\u001b[0m\u001b[0;34m\u001b[0m\u001b[0;34m\u001b[0m\u001b[0m\n\u001b[0m",
            "\u001b[0;31mModuleNotFoundError\u001b[0m: No module named 'gensim.summarization'",
            "",
            "\u001b[0;31m---------------------------------------------------------------------------\u001b[0;32m\nNOTE: If your import is failing due to a missing package, you can\nmanually install dependencies using either !pip or !apt.\n\nTo view examples of installing some common dependencies, click the\n\"Open Examples\" button below.\n\u001b[0;31m---------------------------------------------------------------------------\u001b[0m\n"
          ],
          "errorDetails": {
            "actions": [
              {
                "action": "open_url",
                "actionText": "Open Examples",
                "url": "/notebooks/snippets/importing_libraries.ipynb"
              }
            ]
          }
        }
      ]
    },
    {
      "cell_type": "markdown",
      "source": [
        "**SUMY**"
      ],
      "metadata": {
        "id": "b8-DkcfAFOcM"
      }
    },
    {
      "cell_type": "code",
      "source": [
        "# gensim 라이브러리가 error가 발생하여 다른 라이브러리 사용\n",
        "#1. sumy\n",
        "\n",
        "!pip install sumy"
      ],
      "metadata": {
        "colab": {
          "base_uri": "https://localhost:8080/"
        },
        "id": "y6x3oMLF5Lbr",
        "outputId": "75d3d762-af91-4d52-d1d5-4ea7355ea53b"
      },
      "execution_count": 15,
      "outputs": [
        {
          "output_type": "stream",
          "name": "stdout",
          "text": [
            "Looking in indexes: https://pypi.org/simple, https://us-python.pkg.dev/colab-wheels/public/simple/\n",
            "Collecting sumy\n",
            "  Downloading sumy-0.11.0-py2.py3-none-any.whl (97 kB)\n",
            "\u001b[2K     \u001b[90m━━━━━━━━━━━━━━━━━━━━━━━━━━━━━━━━━━━━━━━━\u001b[0m \u001b[32m97.3/97.3 KB\u001b[0m \u001b[31m3.5 MB/s\u001b[0m eta \u001b[36m0:00:00\u001b[0m\n",
            "\u001b[?25hCollecting docopt<0.7,>=0.6.1\n",
            "  Downloading docopt-0.6.2.tar.gz (25 kB)\n",
            "  Preparing metadata (setup.py) ... \u001b[?25l\u001b[?25hdone\n",
            "Collecting breadability>=0.1.20\n",
            "  Downloading breadability-0.1.20.tar.gz (32 kB)\n",
            "  Preparing metadata (setup.py) ... \u001b[?25l\u001b[?25hdone\n",
            "Collecting pycountry>=18.2.23\n",
            "  Downloading pycountry-22.3.5.tar.gz (10.1 MB)\n",
            "\u001b[2K     \u001b[90m━━━━━━━━━━━━━━━━━━━━━━━━━━━━━━━━━━━━━━━━\u001b[0m \u001b[32m10.1/10.1 MB\u001b[0m \u001b[31m57.3 MB/s\u001b[0m eta \u001b[36m0:00:00\u001b[0m\n",
            "\u001b[?25h  Installing build dependencies ... \u001b[?25l\u001b[?25hdone\n",
            "  Getting requirements to build wheel ... \u001b[?25l\u001b[?25hdone\n",
            "  Preparing metadata (pyproject.toml) ... \u001b[?25l\u001b[?25hdone\n",
            "Requirement already satisfied: nltk>=3.0.2 in /usr/local/lib/python3.9/dist-packages (from sumy) (3.8.1)\n",
            "Requirement already satisfied: requests>=2.7.0 in /usr/local/lib/python3.9/dist-packages (from sumy) (2.27.1)\n",
            "Requirement already satisfied: chardet in /usr/local/lib/python3.9/dist-packages (from breadability>=0.1.20->sumy) (4.0.0)\n",
            "Requirement already satisfied: lxml>=2.0 in /usr/local/lib/python3.9/dist-packages (from breadability>=0.1.20->sumy) (4.9.2)\n",
            "Requirement already satisfied: tqdm in /usr/local/lib/python3.9/dist-packages (from nltk>=3.0.2->sumy) (4.65.0)\n",
            "Requirement already satisfied: click in /usr/local/lib/python3.9/dist-packages (from nltk>=3.0.2->sumy) (8.1.3)\n",
            "Requirement already satisfied: joblib in /usr/local/lib/python3.9/dist-packages (from nltk>=3.0.2->sumy) (1.1.1)\n",
            "Requirement already satisfied: regex>=2021.8.3 in /usr/local/lib/python3.9/dist-packages (from nltk>=3.0.2->sumy) (2022.10.31)\n",
            "Requirement already satisfied: setuptools in /usr/local/lib/python3.9/dist-packages (from pycountry>=18.2.23->sumy) (67.6.1)\n",
            "Requirement already satisfied: idna<4,>=2.5 in /usr/local/lib/python3.9/dist-packages (from requests>=2.7.0->sumy) (3.4)\n",
            "Requirement already satisfied: urllib3<1.27,>=1.21.1 in /usr/local/lib/python3.9/dist-packages (from requests>=2.7.0->sumy) (1.26.15)\n",
            "Requirement already satisfied: certifi>=2017.4.17 in /usr/local/lib/python3.9/dist-packages (from requests>=2.7.0->sumy) (2022.12.7)\n",
            "Requirement already satisfied: charset-normalizer~=2.0.0 in /usr/local/lib/python3.9/dist-packages (from requests>=2.7.0->sumy) (2.0.12)\n",
            "Building wheels for collected packages: breadability, docopt, pycountry\n",
            "  Building wheel for breadability (setup.py) ... \u001b[?25l\u001b[?25hdone\n",
            "  Created wheel for breadability: filename=breadability-0.1.20-py2.py3-none-any.whl size=21708 sha256=e3099fe2d615d2ef278b60b9663ee9d8a5f799e9eb11a4a2927fecb858d35e75\n",
            "  Stored in directory: /root/.cache/pip/wheels/ba/9f/70/7795228568b81b57a8932755938da9fb1f291b0576752604aa\n",
            "  Building wheel for docopt (setup.py) ... \u001b[?25l\u001b[?25hdone\n",
            "  Created wheel for docopt: filename=docopt-0.6.2-py2.py3-none-any.whl size=13721 sha256=96da20301048b57f4316e4ed33585de384fb59dc816d8736bd091eecd95d7882\n",
            "  Stored in directory: /root/.cache/pip/wheels/70/4a/46/1309fc853b8d395e60bafaf1b6df7845bdd82c95fd59dd8d2b\n",
            "  Building wheel for pycountry (pyproject.toml) ... \u001b[?25l\u001b[?25hdone\n",
            "  Created wheel for pycountry: filename=pycountry-22.3.5-py2.py3-none-any.whl size=10681847 sha256=0fa08326f81918b803373455e6a6b250ecbb8474e3495a0b5697b099967153fb\n",
            "  Stored in directory: /root/.cache/pip/wheels/47/15/92/e6dc85fcb0686c82e1edbcfdf80cfe4808c058813fed0baa8f\n",
            "Successfully built breadability docopt pycountry\n",
            "Installing collected packages: docopt, pycountry, breadability, sumy\n",
            "Successfully installed breadability-0.1.20 docopt-0.6.2 pycountry-22.3.5 sumy-0.11.0\n"
          ]
        }
      ]
    },
    {
      "cell_type": "code",
      "source": [
        "from sumy.summarizers.lex_rank import LexRankSummarizer\n",
        "from sumy.nlp.tokenizers import Tokenizer\n",
        "from sumy.parsers.plaintext import PlaintextParser"
      ],
      "metadata": {
        "id": "UAqevHpY5Ldy"
      },
      "execution_count": 16,
      "outputs": []
    },
    {
      "cell_type": "code",
      "source": [
        "#텍스트 데이터를 가져오는 함수\n",
        "\n",
        "def get_text(filename):\n",
        "    with open(filename, 'r') as f:\n",
        "        text = f.read()\n",
        "    return text"
      ],
      "metadata": {
        "id": "Eq3GZ6my5Lf6"
      },
      "execution_count": 17,
      "outputs": []
    },
    {
      "cell_type": "code",
      "source": [
        "# 텍스트 요약 함수 \n",
        "\n",
        "def summarize_text(text, sentences_count=3):\n",
        "    parser = PlaintextParser.from_string(text, Tokenizer('english'))\n",
        "    summarizer = LexRankSummarizer()\n",
        "    summary = summarizer(parser.document, sentences_count)\n",
        "    summary = [str(sentence) for sentence in summary]\n",
        "    return ' '.join(summary)\n"
      ],
      "metadata": {
        "id": "MdoDV1Un5LiC"
      },
      "execution_count": 18,
      "outputs": []
    },
    {
      "cell_type": "code",
      "source": [
        "filename =  \"/content/junjoypython.txt\"\n",
        "\n",
        "text = get_text(filename)"
      ],
      "metadata": {
        "id": "pvOHC8FB5Lj1"
      },
      "execution_count": 19,
      "outputs": []
    },
    {
      "cell_type": "code",
      "source": [
        "print(text)"
      ],
      "metadata": {
        "colab": {
          "base_uri": "https://localhost:8080/"
        },
        "id": "Y8QxXyU0BqPD",
        "outputId": "014b8869-6f60-43dc-9c04-11922b3404a5"
      },
      "execution_count": 25,
      "outputs": [
        {
          "output_type": "stream",
          "name": "stdout",
          "text": [
            "Python - 속성 사용하기 mmm.junjoy.log 로그인 mmm.junjoy.log 로그인 Python - 속성 사용하기 sjb2010·2023년 1월 16일 0 python 0 Python 목록 보기 1/6 클래스에서 속성을 만들고 사용해보자 속성을 만들 때는 __init__ 메서드 안에서 self.속성에 값을 할당한다. 기본) class 클래스이름: def__init__(self): self.속성 = 값 예1) class Person: def__init__(self): self.hello = '안녕하세요.' def greeting(self) print(self.hello) james=person() james.greeting() 실행결과 : 안녕하세요. 예1 설명) Person 클래스의 init 메서드에서 self.hello에 '안녕하세요.'인사말을 넣었다. class Person: def __init__(self): self.hello = '안녕하세요.' init 메서드는 james = Person() 처럼 클래스에 () 를 붙여서 인스턴스를 만들때 호출되는 특별한 메서드 이다. 즉 , init 이라는 이름 그대로 인스턴스를 초기화한다. 특히 , 이렇게 앞 뒤로 __(밑줄두개) 가 붙은 메서드는 파이썬이 자동으로 호출해주는 메서드인데 스페셜 메서드 또는 매직 메서드 라고 부릅니다. 앞으로 파이썬의 여러가지 기능을 사용할때 이 스페셜 메서드를 채우는 식으로 사용하게 된다. 이제 greeting 메서드를 살펴보자. greeting 메서드에서는 print로 self.hello를 출력하도록 만들었다. def greeting(self): print(self.hello) 그 다음에 Person 클래스로 인스턴스를 만들고 , greeting 메서드를 호출해보면 self.hello 에 저장된 '안녕하세요.' 가 출력된다. james = Person() james.greeting() # 안녕하세요. 지금까지 init 메서드에서 속성을 만들고 greetig 메서드에서 속성을 사용해보았다. 속성은 init 메서드에서 만든다는 점과 self에 .을 붙인 뒤 값을 할당한다는 점이 중요하다. 클래스 안에서 속성을 사용할 때도 self.hello처럼 self에 점을 붙여서 사용하면 된다. self의 의미 도대체 self는 무엇일까. self는 인스턴스 자기 자신을 의미한다. 우리는 인스턴스가 생성될 때 self.hello = '안녕하세요 ' 처럼 자기 자신에 속성을 추가했다. 여기서 init 의 매겨변수 self에 들어가는 값은 Person()이라 할 수 있다 . 그리고 self가 완성된 뒤 james에 할당된다. 이후 메서드를 호출하면 현재 인스턴스가 자동으로 매개변수 self에 들어온다. 그래서 greeting 메서드에서 pring(self.hello) 처럼 속성을 출력할 수 있는 것이다. 인스턴스와 self의 관계를 그림으로 나타내면 다음과 같다. 지금까지 만든 클래스는 인사만 할 줄 아는 단순한 클래스이다. 클래스로 인스턴스를 만들어봐야 다 똑같이 '안녕하세요'만 출력할 뿐이다. 인스턴스를 만들 때 값 받기 이번에는 클래스로 인스턴스를 만들 때 값을 받는 방법을 알아보겠다. 다음과 같이 init 메서드에서 self다음에 값을 받을 매개변수를 지정한다. 그리고 매겨변수를 self.속성 에 넣어준다. class 클래스이름: def __init__(self, 매개변수1, 매개변수2): self.속성1 = 매개변수1 self.속성2 = 매개변수2 그럼 Person 클래스로 인스턴스를 만들 때 이름,나이,주소를 받아보겠다. class Person: def __init__(self, name, age, address): self.hello = '안녕하세요.' self.name = name self.age = age self.address = address def greeting(self): print('{0} 저는 {1}입니다.'.format(self.hello, self.name)) maria = Person('마리아', 20, '서울시 서초구 반포동') maria.greeting() # 안녕하세요. 저는 마리아입니다. print('이름:', maria.name) # 마리아 print('나이:', maria.age) # 20 print('주소:', maria.address) # 서울시 서초구 반포동 실행결과 안녕하세요. 저는 마리아입니다. 이름: 마리아 나이: 20 주소: 서울시 서초구 반포동 init 메서드를 보면 self 다음에 name,age,address 를 지정했다. 그리고 메서드 안에서는 self.name = name 처럼 매개변수를 그대로 self에 넣어서 속성으로 만들었다. def __init__(self, name, age, address): self.hello = '안녕하세요.' self.name = name self.age = age self.address = address greeting 메서드는 인사를 하고 이름을 출력하도록 수정했다. 물론 name 속성에 접근할때는 self.name처럼 사용해야한다. def greeting(self): print('{0} 저는 {1}입니다.'.format(self.hello, self.name)) 이제 Person의 () 안에 이름,나이,주소를 콤마로 구분해서 넣은 뒤에 변수에 할당한다. 이렇게 하면 이름은 '마리아' , 나이는 20, 주소는 '서울시 서초구 반포동' 인 maria 인스턴스가 만들어진다. maria = Person('마리아', 20, '서울시 서초구 반포동') 즉 , 다음과 같이 Person 의 괄호 안에 넣은 값은 init 메서드에서 self 뒤에 있는 매겨변수에 차례대로 들어간다. maria 인스턴스의 greeting 메서드를 호출해보면 '안녕하세요. 저는 마리아입니다' 처럼 인삿말과 함께 이름도 출력이 된다. maria.greeting() # 안녕하세요. 저는 마리아입니다. 클래스 안에서 속성에 접근할 때는 self.속성 이었다. 클래스 바깥에서 속성에 접근 할 때는 인스턴스.속성 형식으로 접근한다. 다음과 같이 maria.name ,maria.age , maria.address 의 값을 출력해 보면 Person으로 인스턴스를 만들 때 넣었던 값이 출력된다. print('이름:', maria.name) # 마리아 print('나이:', maria.age) # 20 print('주소:', maria.address) # 서울시 서초구 반포동 이렇게 인스턴스를 통해 접근하는 속성을 인스턴스 속성이이라고 한다. 실제 업무에서 적용해보기) SOURCE = 'KRX-TRACKING-ERROR-RATE' JOB = 'EXTRACT' TODAY = datetime.now().strftime(\"%Y-%m-%d\") DATATODAY = (datetime.now() - timedelta(days=1)).strftime(\"%Y%m%d\") class MongoTemplate: def __init__(self,target, data) -> None: self.date = TODAY self.source = SOURCE self.target = target self.job = JOB self.data = data 위 코드를 분석해보면 ,self 뒤의 target,data(매겨변수) 가 self.속성에 값으로 들어가있다. 추가로 위의 SOURCE ,JOB , TODAY 도 self.속성에 들어갔다. 참고자료 https://dojang.io/mod/page/view.php?id=2373 이상으로 Python- 속성 사용하기를 마치도록 하겠습니다. 더 나은 개발이 되길 바라며:) 심준보 develope / exercise / fashion 다음 포스트 Python - 예외 처리 사용하기 0개의 댓글 댓글 작성 Python - 예외 처리 사용하기 mmm.junjoy.log 로그인 mmm.junjoy.log 로그인 Python - 예외 처리 사용하기 sjb2010·2023년 1월 16일 0 python 0 Python 목록 보기 2/6 Python - 예외 처리 사용하기 예외(exception)란 코드를 실행하는 중에 발생한 에러를 뜻합니다. 예1) def ten_div(x): return 10/x 위 함수에 2를 넣을 경우 >>> ten_div(2) 5.0 하지만 , 0을 넣을 경우 실행 중 에러가 발생한다. 이런 상황을 예외라고 하는데 여기서는 어떤 숫자를 0으로 나누어서 ZeroDivisionError 예외가 발생했다. >>> ten_div(0) Traceback (most recent call last): File \"\", line 1, in ten_div(0) File \"\", line 2, in ten_div return 10 / x ZeroDivisionError: division by zero 이번에는 예외가 발생했을 때도 스크립트 실행을 중단하지 않고 계속 실행하게 해주는 예외 처리 방법에 대해 알아보겠다. try except 사용하기 예외 처리를 하려면 다음과 같이 try에 실행할 코드를 넣고 except에 예외가 발생했을 떄 처리하는 코드를 넣습니다. try: 실행할 코드 except: 예외가 발생했을때 처리하는 코드 예2) try: x = int(input('나눌 숫자를 입력하세요: )) y = 10/x print(y) except: print('예외가 발생하였습니다.') 위 소스코드를 실행한 뒤 0을 입력하면 , 나눌 숫자를 입력하세요: 0 (입력) 예외가 발생했습니다. 위 상황처럼 결과가 나오게 된다. 특정 예외만 처리하기 이번에는 except에 예외. 이름을 지정해서 특정 예외가 발생했을 때만 처리코드를 실행하도록 만들어보자. try: 실행할 코드 except 예외이름: 예외가 발생했을 때 처리하는 코드 예 3) 정수를 2개를 입력받아서 하나는 리스트의 인덱스로 사용하고 , 하나는 나누는 값으로 사용한다. 그리고 except를 두개 사용하고 가각 ZeroDivisionError와 IndexError로 지정한다. y = [10, 20, 30] try: index, x = map(int, input('인덱스와 나눌 숫자를 입력하세요: ').split()) print(y[index] / x) except ZeroDivisionError: # 숫자를 0으로 나눠서 에러가 발생했을 때 실행됨 print('숫자를 0으로 나눌 수 없습니다.') except IndexError: # 범위를 벗어난 인덱스에 접근하여 에러가 발생했을 때 실행됨 print('잘못된 인덱스입니다.') 상황 1 ) 소스 코드를 실행한 뒤 2 0을 입력해보자 인덱스와 나눌 숫자를 입력하세요: 2 0 (입력) 숫자를 0으로 나눌 수 없습니다. 2 0을 입력하게 되면 30/0이 되므로 숫자를 0으로 나누게 된다. 이때는 except ZeroDivisionError:의 처리 코드가 실행된다. 상황 2 ) 이번엔 소스 코드에 3 5를 입력해보자 인덱스와 나눌 숫자를 입력하세요: 3 5 (입력) 잘못된 인덱스입니다. 그럼 결과가 , 인덱스와 나눌 숫자를 입력하세요: 3 5 (입력) 잘못된 인덱스입니다. 이렇게 나오게 된다. 이유는 y에는 3개의 요소가 들어있는 리스트이다 . 따라서 인덱스 3을 넘어가면 예외처리 코드가 실행된다. 예외의 에러 메시지 받아오기 except에서 as 뒤에 변수를 지정하면 발생한 예외의 에러 메세지를 받아올 수 있다. try: 실행할 코드 except 예외 as 변수: 예외가 발생했을 때 처리하는 코드 위 코드의 except에 as e를 넣어보자 . 보통 예외(exception)의 e를 따서 변수이름을 e로 짓는다. 예 4) y = [10, 20, 30] try: index, x = map(int, input('인덱스와 나눌 숫자를 입력하세요: ').split()) print(y[index] / x) except ZeroDivisionError as e: # as 뒤에 변수를 지정하면 에러를 받아옴 print('숫자를 0으로 나눌 수 없습니다.', e) # e에 저장된 에러 메시지 출력 except IndexError as e: print('잘못된 인덱스입니다.', e) 상황 3) 인덱스와 나눌 숫자를 입력하세요: 2 0 (입력) 숫자를 0으로 나눌 수 없습니다. division by zero 상황 4) 인덱스와 나눌 숫자를 입력하세요: 3 5 (입력) 잘못된 인덱스입니다. list index out of range 이렇게 해당 예외에 해당하는 에러 메시지가 출력된다. 단 , 예외가 여러 개 발생하더라도 먼저 발생한 예외의 처리 코드만 실행된다. 참고로 , 모든 예외의 에러 메시지를 출력하고 싶다면 다음과 같이 except에 Exception을 지정하고 as 뒤에 변수를 넣으면 된다. except Exception as e: # 모든 예외의 에러 메시지를 출력할 때는 Exception을 사용 print('예외가 발생했습니다.', e) 이처럼 예외 처리는 에러가 발생하더라도 스크립트의 실행을 중단시키지 않고 계속 실행하고자 할 때 사용합니다. 파이썬 예외 계층도 전체 계층도는 파이썬 공식 문서를 참조하세요. Built-in Exceptions: https://docs.python.org/3/library/exceptions.html#exception-hierarchy 이상으로 Python - 예외 처리하기를 마무리하도록 하겠습니다. 더 나은 개발이 되길 바라며:) 심준보 develope / exercise / fashion 이전 포스트 Python - 속성 사용하기 다음 포스트 Python - logging 0개의 댓글 댓글 작성 Python - logging mmm.junjoy.log 로그인 mmm.junjoy.log 로그인 Python - logging sjb2010·2023년 1월 16일 0 python 0 Python 목록 보기 3/6 logging — 파이썬 로깅 시설 이 모듈은 응용 프로그램과 라이브러리를 위한 유연한 이벤트 로깅 시스템을 구현하는 함수와 클래스를 정의한다. 표준 라이브러리 모듈로 로깅 API를 제공하는 것의 주요 이점은, 모든 파이썬 모듈이 로깅에 참여할 수 있어서, 응용 프로그램 로그에 여러분 자신의 메세지를 제삼자 모듈의 메시지와 통합할 수 있다는 것이다. The Simple example) >>> import logging >>> logging.warning('Watch out!') WARNING:root:Watch out! Logger 객체 로거에는 다음과 같은 어트리뷰트와 메서드가 있다. 로거는 결코 직접 인스턴스를 만드는 일 없이, 항상 모듈 수준의 함수 logging.getLogger(name) 를 거치는 것에 주의해야한다. 같은 이름(name)으로 getLogger() 를 여러 번 호출해도 항상 같은 로거 객체에 대한 참조를 돌려준다. 실제 사용 예시 import os, pymongo, requests, json, logging ,time logger = logging.getLogger('uvicorn') 위 코드는 현재 진행하고 있는 프로젝트에 쓰인 간단한 로그 코드이다. https://docs.python.org/ko/3/library/logging.html#module-logging 더 자세한 사항은 위 주소를 참고하길 바랍니다. 이상으로 logging에 대한 기본적인 개념을 마치겠습니다. 더 나은 개발이 되길 바라며:) 심준보 develope / exercise / fashion 이전 포스트 Python - 예외 처리 사용하기 다음 포스트 [Python] FastAPI의 APIRouter 0개의 댓글 댓글 작성 [Python] FastAPI의 APIRouter mmm.junjoy.log 로그인 mmm.junjoy.log 로그인 [Python] FastAPI의 APIRouter sjb2010·2023년 1월 16일 0 python 0 Python 목록 보기 4/6 APIRouter 애플리케이션이나 웹 API를 빌드하는 경우 모든 코드를 하나의 파일에 넣는 경우는 드물다. APIRouter는 FastAPI에서 여러 개의 파일을 통해 프로젝트 구조를 구성하여 더 큰 애플리케이션을 만들 수 있도록 하는 도구다. importAPIRouter FastaPI 클래스와 같은 방식으로 가져와서 인스턴스를 생성한다. APIRouter 도구를 사용하기 위한 기본 세팅이다. from fastapi import APIRouter router = APIRouter() 경로 연산(path operations) 이어서 하는걸로 합시다. https://scshim.tistory.com/575 심준보 develope / exercise / fashion 이전 포스트 Python - logging 다음 포스트 Python 가상환경 - mac 0개의 댓글 댓글 작성 Python 가상환경 - mac mmm.junjoy.log 로그인 mmm.junjoy.log 로그인 Python 가상환경 - mac sjb2010·2023년 1월 25일 0 python 0 Python 목록 보기 5/6 [pyhton] - 가상환경 mac 윈도우를 사용하다 mac을 사용하면서 가상환경 세팅 방법에 대해 다시 알아보았다. 차근차근 설명을 진행할테니 잘 따라와주시길 바랍니다. 1. 먼저 , cmd 창을 켜줍니다. 이렇게 생긴 귀여운 아이콘을 클릭하면 실행이 됩니다:) 혹시나 못찾을 경우는 command - space 를 동시에 클릭을 한 뒤 , '터미널' 이라고 입력을 하게 되면 실행이 가능합니다. 2. 가상환경을 실행시키기 위한 모듈을 설치해줍니다. $ pip install virtualenv virtualenvwrapper #python2 $ pip3 install virtualenv virtualenvwrapper #python3 위의 두가지 명령어의 차이는 자신의 python 버전이 2 ,3 의 차이입니다. 여기서 자신의 python 버전을 알고 싶을 떄 사용하는 명령어를 말씀드리자면 , pyhton -v pyhton3 -v 위 둘 중 하나의 명령어를 입력하면 자신의 버전이 무엇인지 정확하게 알 수 있습니다. 3. 다음으로는 , 가상환경을 실행할 폴더(경로)를 설정하는 것입니다. 여기서 새로운 폴더를 생성한 뒤 가상환경을 실행시키는 것을 추천합니다. 1. cd desktop ## desktop으로 이동 2. mkdir 만들고자 하는 폴더명 ## rmdir 삭제하고자 하는 폴더명 위의 1,2 번 방법을 이용한다면 폴더를 생성할 수 있습니다. 추가로 아래의 rmdir 명령어를 사용한다면 자신이 지우고자하는 폴더를 손쉽게 삭제할 수 있습니다. 4. 이렇게 된다면 , 이제 세팅이 거의 완료됬다고 볼 수 있습니다. 이제 아래의 명령어를 사용한다면 가상환경이 만들어집니다. $ python3 -m virtualenv --python='위에서 설명한 자신의 정확한 파이썬 버전' '자신이 새로 생성한 폴더명' 여기서 '' 는 구분을 위한 것이니 실제로 명령어를 입력할때는 빼고 써주시면 됩니다. 위의 파이썬 버전이라고 하는 것은 예로 3.11.1 과 같은 것을 말합니다. 5. 이제 마지막으로 가상환경 실행입니다. $ source 'your venv name'/bin/activate 위의 명령어를 입력까지 마치게 되면 , 가상환경이 실행이 됩니다. 실행될 시 화면 , 이런식으로 앞에 자신의 폴더명과 함께 () 표시가 추가된다. flow는 폴더명 이상으로 가상환경 셋팅에 대한 방법 설명이 끝이났습니다. 감사합니다 . 더 나은 개발이 되길 바라며 :) 심준보 develope / exercise / fashion 이전 포스트 [Python] FastAPI의 APIRouter 다음 포스트 Python-mysql data 불러오기 0개의 댓글 댓글 작성 Python-mysql data 불러오기 mmm.junjoy.log 로그인 mmm.junjoy.log 로그인 Python-mysql data 불러오기 sjb2010·2023년 1월 30일 0 python 0 Python 목록 보기 6/6 Python-mysql data 불러오기 python 을 이용하여 mysql 에 적재된 데이터를 불러오는 방법이다. 1. 모듈을 설치해주자 import pymysql 2. DB를 연결해주자 # 예시 dbog= pymysql.connect(host=\"10.1**.*.***\",port=***,user=\"**\",passwd=\"**_!23$\",db=\"scrap_krx\", charset='utf8') 위에 있는 파라미터에 맞게 자신이 연결시키고자 하는 db의 정보를 기입해주면 연결이 된다. 3. 직접 데이터를 다룰수 있는 함수 cursor 이용하기. con = dbog.cursor() 이제 con 변수는 dbog에 연결되어있는 db의 데이터를 자유자제로 다룰 수 있다 4. execute를 이용하여 실행을 해보자. con.execute(\"\"SELECT * FROM listed_issue\") #() 사이에 sql문 적어주기 이렇게 하게 되면 sql문에 맞게 데이터가 추출이 된다. 5. fetchall() 이용 rows = con.fetchall() 커서의 fetchall() 메서드는 모든 데이타를 한꺼번에 클라이언트로 가져올 때 사용된다. 여기까지 하게 되면 , 데이터를 가져오고 조작할 준비는 마쳤다고 볼 수 있다. 기본이니 , 잘 숙지하고 사용한다면 , db를 연결하고 data를 가져오는 것은 잘 진행할 수 있을것이다. 이상으로 python mysql-data불러오기를 마치도록 하겠습니다 . 감사합니다. 더 나은 개발이 되길 바라며 :) 심준보 develope / exercise / fashion 이전 포스트 Python 가상환경 - mac 0개의 댓글 댓글 작성\n"
          ]
        }
      ]
    },
    {
      "cell_type": "code",
      "source": [
        "\n",
        "# LookupError 에러는 해당하는 자연어처리 데이터를 로드할 수 없을때 발생하는 에러이다.\n",
        "# 이를 해결하기 위해서는 , 해당 데이터를 다운로드 해야된다. \n",
        "\n",
        "import nltk"
      ],
      "metadata": {
        "id": "NXvd6HmoBA1K"
      },
      "execution_count": 21,
      "outputs": []
    },
    {
      "cell_type": "code",
      "source": [
        "nltk.download('punkt')"
      ],
      "metadata": {
        "colab": {
          "base_uri": "https://localhost:8080/"
        },
        "id": "XjL1p8VxBCyQ",
        "outputId": "bff5e2c6-7270-462d-b3c7-9c487d7fedfc"
      },
      "execution_count": 22,
      "outputs": [
        {
          "output_type": "stream",
          "name": "stderr",
          "text": [
            "[nltk_data] Downloading package punkt to /root/nltk_data...\n",
            "[nltk_data]   Unzipping tokenizers/punkt.zip.\n"
          ]
        },
        {
          "output_type": "execute_result",
          "data": {
            "text/plain": [
              "True"
            ]
          },
          "metadata": {},
          "execution_count": 22
        }
      ]
    },
    {
      "cell_type": "code",
      "source": [
        "summary = summarize_text(text)"
      ],
      "metadata": {
        "id": "uZrX0FUY5LmA"
      },
      "execution_count": 23,
      "outputs": []
    },
    {
      "cell_type": "code",
      "source": [
        "print(summary)"
      ],
      "metadata": {
        "colab": {
          "base_uri": "https://localhost:8080/"
        },
        "id": "zck0Q03GBHOt",
        "outputId": "aa6331e3-a66a-4f21-f539-7e8a17a62bac"
      },
      "execution_count": 24,
      "outputs": [
        {
          "output_type": "stream",
          "name": "stdout",
          "text": [
            "이제 greeting 메서드를 살펴보자. maria = Person('마리아', 20, '서울시 서초구 반포동') 즉 , 다음과 같이 Person 의 괄호 안에 넣은 값은 init 메서드에서 self 뒤에 있는 매겨변수에 차례대로 들어간다. 더 나은 개발이 되길 바라며:) 심준보 develope / exercise / fashion 다음 포스트 Python - 예외 처리 사용하기 0개의 댓글 댓글 작성 Python - 예외 처리 사용하기 mmm.junjoy.log 로그인 mmm.junjoy.log 로그인 Python - 예외 처리 사용하기 sjb2010·2023년 1월 16일 0 python 0 Python 목록 보기 2/6 Python - 예외 처리 사용하기 예외(exception)란 코드를 실행하는 중에 발생한 에러를 뜻합니다.\n"
          ]
        }
      ]
    },
    {
      "cell_type": "markdown",
      "source": [
        "**PyTeaser**"
      ],
      "metadata": {
        "id": "D7StSxW0FHYP"
      }
    },
    {
      "cell_type": "code",
      "source": [
        "!pip install -U setuptools"
      ],
      "metadata": {
        "colab": {
          "base_uri": "https://localhost:8080/"
        },
        "id": "jAp6avUiFpok",
        "outputId": "8c2c0e7e-8aa3-48f4-a41f-a24eb86a6527"
      },
      "execution_count": 28,
      "outputs": [
        {
          "output_type": "stream",
          "name": "stdout",
          "text": [
            "Looking in indexes: https://pypi.org/simple, https://us-python.pkg.dev/colab-wheels/public/simple/\n",
            "Requirement already satisfied: setuptools in /usr/local/lib/python3.9/dist-packages (67.6.1)\n"
          ]
        }
      ]
    },
    {
      "cell_type": "code",
      "source": [
        "!pip install pyteaser"
      ],
      "metadata": {
        "colab": {
          "base_uri": "https://localhost:8080/"
        },
        "id": "U3hi2b7aFLmu",
        "outputId": "fe702d0b-55e7-4fc7-87ae-034896752d7c"
      },
      "execution_count": 31,
      "outputs": [
        {
          "output_type": "stream",
          "name": "stdout",
          "text": [
            "Looking in indexes: https://pypi.org/simple, https://us-python.pkg.dev/colab-wheels/public/simple/\n",
            "Collecting pyteaser\n",
            "  Using cached pyteaser-2.0.tar.gz (40 kB)\n",
            "  Preparing metadata (setup.py) ... \u001b[?25l\u001b[?25hdone\n",
            "Requirement already satisfied: Pillow in /usr/local/lib/python3.9/dist-packages (from pyteaser) (8.4.0)\n",
            "Requirement already satisfied: lxml in /usr/local/lib/python3.9/dist-packages (from pyteaser) (4.9.2)\n",
            "Collecting cssselect\n",
            "  Using cached cssselect-1.2.0-py2.py3-none-any.whl (18 kB)\n",
            "Requirement already satisfied: jieba in /usr/local/lib/python3.9/dist-packages (from pyteaser) (0.42.1)\n",
            "Collecting beautifulsoup\n",
            "  Using cached BeautifulSoup-3.2.2.tar.gz (32 kB)\n",
            "  \u001b[1;31merror\u001b[0m: \u001b[1msubprocess-exited-with-error\u001b[0m\n",
            "  \n",
            "  \u001b[31m×\u001b[0m \u001b[32mpython setup.py egg_info\u001b[0m did not run successfully.\n",
            "  \u001b[31m│\u001b[0m exit code: \u001b[1;36m1\u001b[0m\n",
            "  \u001b[31m╰─>\u001b[0m See above for output.\n",
            "  \n",
            "  \u001b[1;35mnote\u001b[0m: This error originates from a subprocess, and is likely not a problem with pip.\n",
            "  Preparing metadata (setup.py) ... \u001b[?25l\u001b[?25herror\n",
            "\u001b[1;31merror\u001b[0m: \u001b[1mmetadata-generation-failed\u001b[0m\n",
            "\n",
            "\u001b[31m×\u001b[0m Encountered error while generating package metadata.\n",
            "\u001b[31m╰─>\u001b[0m See above for output.\n",
            "\n",
            "\u001b[1;35mnote\u001b[0m: This is an issue with the package mentioned above, not pip.\n",
            "\u001b[1;36mhint\u001b[0m: See above for details.\n"
          ]
        }
      ]
    },
    {
      "cell_type": "code",
      "source": [
        "!pip install --upgrade pip\n"
      ],
      "metadata": {
        "colab": {
          "base_uri": "https://localhost:8080/"
        },
        "id": "02-ey8hEGM7W",
        "outputId": "2c405765-8bb2-48b6-c60b-07d427d33e69"
      },
      "execution_count": 30,
      "outputs": [
        {
          "output_type": "stream",
          "name": "stdout",
          "text": [
            "Looking in indexes: https://pypi.org/simple, https://us-python.pkg.dev/colab-wheels/public/simple/\n",
            "Requirement already satisfied: pip in /usr/local/lib/python3.9/dist-packages (22.0.4)\n",
            "Collecting pip\n",
            "  Downloading pip-23.0.1-py3-none-any.whl (2.1 MB)\n",
            "\u001b[2K     \u001b[90m━━━━━━━━━━━━━━━━━━━━━━━━━━━━━━━━━━━━━━━━\u001b[0m \u001b[32m2.1/2.1 MB\u001b[0m \u001b[31m19.9 MB/s\u001b[0m eta \u001b[36m0:00:00\u001b[0m\n",
            "\u001b[?25hInstalling collected packages: pip\n",
            "  Attempting uninstall: pip\n",
            "    Found existing installation: pip 22.0.4\n",
            "    Uninstalling pip-22.0.4:\n",
            "      Successfully uninstalled pip-22.0.4\n",
            "Successfully installed pip-23.0.1\n"
          ]
        }
      ]
    },
    {
      "cell_type": "code",
      "source": [
        "from pyteaser import SummarizeUrl"
      ],
      "metadata": {
        "colab": {
          "base_uri": "https://localhost:8080/",
          "height": 321
        },
        "id": "2rI4UwIEFd1X",
        "outputId": "d02293f5-9f45-4516-a76f-00caf434d48e"
      },
      "execution_count": 32,
      "outputs": [
        {
          "output_type": "error",
          "ename": "ModuleNotFoundError",
          "evalue": "ignored",
          "traceback": [
            "\u001b[0;31m---------------------------------------------------------------------------\u001b[0m",
            "\u001b[0;31mModuleNotFoundError\u001b[0m                       Traceback (most recent call last)",
            "\u001b[0;32m<ipython-input-32-69b095228b47>\u001b[0m in \u001b[0;36m<cell line: 1>\u001b[0;34m()\u001b[0m\n\u001b[0;32m----> 1\u001b[0;31m \u001b[0;32mfrom\u001b[0m \u001b[0mpyteaser\u001b[0m \u001b[0;32mimport\u001b[0m \u001b[0mSummarizeUrl\u001b[0m\u001b[0;34m\u001b[0m\u001b[0;34m\u001b[0m\u001b[0m\n\u001b[0m",
            "\u001b[0;31mModuleNotFoundError\u001b[0m: No module named 'pyteaser'",
            "",
            "\u001b[0;31m---------------------------------------------------------------------------\u001b[0;32m\nNOTE: If your import is failing due to a missing package, you can\nmanually install dependencies using either !pip or !apt.\n\nTo view examples of installing some common dependencies, click the\n\"Open Examples\" button below.\n\u001b[0;31m---------------------------------------------------------------------------\u001b[0m\n"
          ],
          "errorDetails": {
            "actions": [
              {
                "action": "open_url",
                "actionText": "Open Examples",
                "url": "/notebooks/snippets/importing_libraries.ipynb"
              }
            ]
          }
        }
      ]
    },
    {
      "cell_type": "markdown",
      "source": [],
      "metadata": {
        "id": "CpwjZYDdFHdk"
      }
    }
  ]
}