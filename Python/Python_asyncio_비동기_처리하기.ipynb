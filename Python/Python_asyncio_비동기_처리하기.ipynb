{
  "nbformat": 4,
  "nbformat_minor": 0,
  "metadata": {
    "colab": {
      "provenance": []
    },
    "kernelspec": {
      "name": "python3",
      "display_name": "Python 3"
    },
    "language_info": {
      "name": "python"
    }
  },
  "cells": [
    {
      "cell_type": "code",
      "execution_count": null,
      "metadata": {
        "colab": {
          "base_uri": "https://localhost:8080/"
        },
        "id": "_ppBhOX6w2Z9",
        "outputId": "76b25559-cd1f-45bd-ef6e-8d5689e67ecf"
      },
      "outputs": [
        {
          "output_type": "stream",
          "name": "stdout",
          "text": [
            "1\n",
            "2\n",
            "3\n"
          ]
        }
      ],
      "source": [
        "# 동기 함수\n",
        "\n",
        "def test():\n",
        "  print('1')\n",
        "  print('2')\n",
        "  print('3')\n",
        "\n",
        "\n",
        "def main():\n",
        "  test()\n",
        "\n",
        "main()"
      ]
    },
    {
      "cell_type": "code",
      "source": [
        "# 위 코드를 보면 , main 함수는 test를 실행시키고,\n",
        "\n",
        "# 1,2,3 이 순서대로 출력된 이후 종료된다.\n",
        "\n",
        "# main함수는 test 함수가 종료될때까지 기다리는 것이다."
      ],
      "metadata": {
        "id": "7NzJO575yJFR"
      },
      "execution_count": null,
      "outputs": []
    },
    {
      "cell_type": "code",
      "source": [
        "# 만약, main이 test가 수행되는 동안에 처리해야하는 일이 있다면 어떻게 해야하는지.\n",
        "\n",
        "# test 함수가 정상적으로 return 되기만을 기다리는 것은 프로그램의 성능을 저하시키는 일이 될 수 있다."
      ],
      "metadata": {
        "id": "fuJszHDqyJHQ"
      },
      "execution_count": null,
      "outputs": []
    },
    {
      "cell_type": "code",
      "source": [
        "# 비동기 함수는 호출된 함수의 실행이 다 끝나지 않았어도 호출한 함수에게 return 하고 , 자기 혼자 알아서 백그라운드에서 실행된다."
      ],
      "metadata": {
        "id": "YQF2vpx3yJJg"
      },
      "execution_count": null,
      "outputs": []
    },
    {
      "cell_type": "code",
      "source": [
        "# 예제 코드 \n",
        "\n",
        "\n",
        "import time\n",
        "\n",
        "def good_night():\n",
        "  time.sleep(1)\n",
        "  print('잘자요')\n",
        "\n",
        "def main():\n",
        "  good_night()\n",
        "  good_night()\n",
        "\n",
        "print(f\"start:{time.strftime('%X')}\")\n",
        "\n",
        "main()\n",
        "print(f\"end: {time.strftime('%X')}\")\n",
        "\n",
        "\n"
      ],
      "metadata": {
        "colab": {
          "base_uri": "https://localhost:8080/"
        },
        "id": "xr06vZ5kyJLs",
        "outputId": "f6d2a3f4-d84a-4c63-d5e7-1a9bbf974d93"
      },
      "execution_count": null,
      "outputs": [
        {
          "output_type": "stream",
          "name": "stdout",
          "text": [
            "start:08:15:02\n",
            "잘자요\n",
            "잘자요\n",
            "end: 08:15:04\n"
          ]
        }
      ]
    },
    {
      "cell_type": "code",
      "source": [
        "import time\n",
        "import asyncio\n",
        "\n",
        "async def good_night():\n",
        "  await asyncio.sleep(5)\n",
        "\n",
        "  # sleep 자체는 비동기함수가 아닌 동기함수이다.\n",
        "  # 그렇기 때문에 asyncio.sleep이라는 비동기 sleep 함수로 대체해야한다.\n",
        "  # \n",
        "  print('잘자요')\n",
        "\n",
        "\n",
        "\n",
        "\n",
        "async def main():\n",
        "  await asyncio.gather(\n",
        "    # asyncio.gather() 함수를 이용하여 await가 붙은 good_night를 event loop에 등록한다.\n",
        "\n",
        "    # await를 사용하면 \n",
        "      good_night(),\n",
        "      good_night()\n",
        "  )\n",
        "\n",
        "print(f\"start : {time.strftime('%X')}\")\n",
        "asyncio.run(main())\n",
        "print(f\"end: {time.strftime('%X')}\")\n",
        "\n",
        "\n",
        "#await \n",
        "\n",
        "#await 는 특정 객체가 끝날 때까지 기다리는 역할을 한다.\n",
        "\n",
        "\n"
      ],
      "metadata": {
        "id": "wirsIAr-A6bj"
      },
      "execution_count": null,
      "outputs": []
    },
    {
      "cell_type": "code",
      "source": [],
      "metadata": {
        "id": "1KCvvS2WyJNq"
      },
      "execution_count": null,
      "outputs": []
    }
  ]
}