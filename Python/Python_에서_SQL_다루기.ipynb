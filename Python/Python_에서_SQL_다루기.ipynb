{
  "nbformat": 4,
  "nbformat_minor": 0,
  "metadata": {
    "colab": {
      "provenance": []
    },
    "kernelspec": {
      "name": "python3",
      "display_name": "Python 3"
    },
    "language_info": {
      "name": "python"
    }
  },
  "cells": [
    {
      "cell_type": "code",
      "execution_count": null,
      "metadata": {
        "id": "PCDTjvcteQm_"
      },
      "outputs": [],
      "source": [
        "# 1. Python에서 데이터베이스에 연결하는 법\n",
        "\n",
        "import sqlite3 # built-in library (Python 2.x & 3.x)\n",
        "\n",
        "dbpath = \"chinook.db\" \n",
        "\n",
        "conn = sqlite3.connect(dbpath)\n",
        "cur = conn.cursor() \n",
        "\n",
        "#Python에서 sql을 사용할 때에는 먼저 db와 연결해주는 connect함수와 실제로 그안에서\n",
        "#일을 하는 cursor 가 있다."
      ]
    },
    {
      "cell_type": "code",
      "source": [
        "#2 python 에서 SQL에 데이터를 삽입하는 방법\n",
        "\n",
        "script = \"\"\"\n",
        "DROP TABLE IF EXISTS employees;\n",
        "\n",
        "CREATE TABLE employees(\n",
        "id INTEGER PRIMARY KEY AUTOINCREMENT,\n",
        "name TEXT NOT NULL, \n",
        "salary REAL,\n",
        "department TEXT,\n",
        "position TEXT,\n",
        "hireDate TEXT);\n",
        "\n",
        "INSERT INTO employees(name, salary, department, position, hireDate) VALUES('Dave', 300, 'Marketing', 'LV1', '2020-01-01');\n",
        "INSERT INTO employees(name, salary, department, position, hireDate) VALUES('Clara', 420, 'Sales', 'LV2', '2018-01-11');\n",
        "INSERT INTO employees(id, name, salary, department, position, hireDate) VALUES(3, 'Jane', 620, 'Developer', 'LV4', '2015-11-01');\n",
        "INSERT INTO employees VALUES(4, 'Peter', 530, 'Developer', 'LV2', '2020-11-01'); \n",
        "\"\"\"\n",
        "\n",
        "cur.executescript(script)\n",
        "conn.commit() # 실제로 DB에 위 Table & Data가 저장된다.\n",
        "\n",
        "\n",
        "\n",
        "#실제 쿼리문을 작성할 때는 문자열로 작성해서 cur객체에 executescript()로 쿼리문을 전달하고 데이터베이스의 commit 과 동일하게 변경을 적용한다."
      ],
      "metadata": {
        "id": "9x9PUelNwC-y"
      },
      "execution_count": null,
      "outputs": []
    },
    {
      "cell_type": "code",
      "source": [
        "execute(sql[, parameters])\n",
        "\n",
        "# #execute()는 단일 SQL 문만 실행합니다.\n",
        "# 하나 이상의 명령문을 실행하려고 하면 Warning이 발생합니다.\n",
        "# 하나의 호출로 여러 SQL 문을 실행하려면 executescript()를 사용하십시오.\n"
      ],
      "metadata": {
        "id": "Cgo3YuuMwDBC"
      },
      "execution_count": null,
      "outputs": []
    },
    {
      "cell_type": "code",
      "source": [
        "executemany(sql[, parameters])\n",
        "\n",
        "# 시퀀스 seq_of_parameters에 있는 모든 매개 변수 시퀀스나 매핑에 대해 SQL 명령을 실행합니다.\n",
        "# sqlite3 모듈은 시퀀스 대신 매개 변수를 산출하는 이터레이터도 허용합니다.\n"
      ],
      "metadata": {
        "id": "it_G1jWBwDDP"
      },
      "execution_count": null,
      "outputs": []
    },
    {
      "cell_type": "code",
      "source": [
        "executescript(sql_script)\n",
        "\n",
        "\n",
        "# 하나의 호출로 여러 SQL 문을 실행하려면 executescript()를 사용하십시오.\n",
        "# 이것은 한 번에 여러 SQL 문을 실행하기 위한 비표준 편의 메서드입니다.\n",
        "# 먼저 COMMIT 문을 실행한 다음, 매개 변수로 가져온 SQL 스크립트를 실행합니다."
      ],
      "metadata": {
        "id": "xMcuYd7kwDFf"
      },
      "execution_count": null,
      "outputs": []
    },
    {
      "cell_type": "code",
      "source": [
        "executemany(sql[,parameter])\n",
        "\n",
        "#예)\n",
        "\n",
        "data = [('Elena', 510, 'Recruiter', 'LV3', '2020-07-01'), \n",
        "        ('Sujan', 710, 'HR', 'LV5', '2014-06-01'),\n",
        "        ('Jake', 210, 'CEO', 'LV8', '2012-01-01')]\n",
        "\n",
        "cur.executemany(\"INSERT INTO employees(name, salary, department, position, hireDate) \n",
        "\t\t\t\t\tVALUES(?, ?, ?, ?, ?)\", data)\n",
        "conn.commit()"
      ],
      "metadata": {
        "id": "01Xu9TYAwDHj"
      },
      "execution_count": null,
      "outputs": []
    },
    {
      "cell_type": "code",
      "source": [
        "# 3. Database에서 Python 으로 가져오는 방법"
      ],
      "metadata": {
        "id": "j_d18HfAwk3u"
      },
      "execution_count": null,
      "outputs": []
    },
    {
      "cell_type": "code",
      "source": [
        "cur.execute(\"SELECT * FROM employees;\")\n",
        "\n",
        "employee_list = cur.fetchall()\n",
        "\n",
        "for employee in employee_list:\n",
        "    print(employee)"
      ],
      "metadata": {
        "id": "tCWiNGjZwk50"
      },
      "execution_count": null,
      "outputs": []
    },
    {
      "cell_type": "code",
      "source": [
        "#3. 1 Database에서 pandas Dataframe으로 가져오는 방법\n",
        "\n",
        "import pandas as pd\n",
        "\n",
        "df = pd.read_sql_query(\"SELECT * FROM employees\", conn) "
      ],
      "metadata": {
        "id": "8iQT8dkTwk8B"
      },
      "execution_count": null,
      "outputs": []
    },
    {
      "cell_type": "code",
      "source": [
        "# 4. 연결해제\n",
        "\n",
        "\n",
        "conn.close()\n",
        "\n",
        "#연결을 Close 해주어야 DB 파일인 .sqlite 파일의 삭제 등이 가능합니다."
      ],
      "metadata": {
        "id": "OFj51Rpdww6I"
      },
      "execution_count": null,
      "outputs": []
    },
    {
      "cell_type": "code",
      "source": [
        "#5. 데이터베이스 삽입과 데이터프레임변환 한번에 하기\n",
        "\n",
        "script = \"\"\"\n",
        "INSERT INTO artists (name)\n",
        "VALUES\n",
        "    (\"Buddy Rich\"),\n",
        "    (\"Candido\"),\n",
        "    (\"Charlie Byrd\");\n",
        "\"\"\" \n",
        "cur.execute(script) \n",
        "\n",
        "script = \"\"\"\n",
        "SELECT\n",
        "    ArtistId,\n",
        "    Name\n",
        "FROM\n",
        "    Artists\n",
        "ORDER BY\n",
        "    ArtistId DESC;\n",
        "\"\"\" \n",
        "cur.execute(script) \n",
        "\n",
        "df = pd.read_sql_query(script, conn)\n",
        "df.head()\n"
      ],
      "metadata": {
        "id": "Mrrknufzww8A"
      },
      "execution_count": null,
      "outputs": []
    },
    {
      "cell_type": "code",
      "source": [
        "#실제 예시\n",
        "\n",
        "\n",
        "for li in boxItems:\n",
        "      title = li.find_element_by_class_name('proTit').text # li.find_element_by_css_selector('h5.proTit').text\n",
        "      price = li.find_element_by_class_name('proPrice').text.replace(',','').replace('원~','') # li.find_element_by_css_selector('.proPrice')\n",
        "      image = li.find_element_by_class_name('img').get_attribute('src')\n",
        "\n",
        "      sql_query = \"INSERT INTO tour_crawl(title, price, image) values('{}',{},'{}')\".format(title, price, image) # TEXT인 제목은 ''로 감싸주는 것에 유의\n",
        "      print('SQL Query :', sql_query[:90], \"...\")\n",
        "\n",
        "      cur.execute(sql_query)\n",
        "      conn.commit()"
      ],
      "metadata": {
        "id": "g6UQBFUDww99"
      },
      "execution_count": null,
      "outputs": []
    },
    {
      "cell_type": "code",
      "source": [],
      "metadata": {
        "id": "EUetDtzIwxAH"
      },
      "execution_count": null,
      "outputs": []
    }
  ]
}