{
  "nbformat": 4,
  "nbformat_minor": 0,
  "metadata": {
    "colab": {
      "provenance": []
    },
    "kernelspec": {
      "name": "python3",
      "display_name": "Python 3"
    },
    "language_info": {
      "name": "python"
    }
  },
  "cells": [
    {
      "cell_type": "code",
      "execution_count": null,
      "metadata": {
        "id": "5XM9cmeLXLh9"
      },
      "outputs": [],
      "source": [
        "#Python-pydantic"
      ]
    },
    {
      "cell_type": "code",
      "source": [
        "# pydantic이 무엇인지 알아보자\n",
        "# pydantic은 type annotation을 사용해서 데이터를 검증하고 설정들을 관리하는 library이다.\n",
        "# runtime에서 type을 강제하고, type이 유효하지 않을 때 에러를 발생시킵니다. \n",
        "\n",
        "# pydantic은 입력 데이터가 아닌 출력 모델의 유형과 제약 조건을 보장합니다.\n",
        "\n",
        "\n",
        "# pydantic 모델은 데이터를 수집하고 구문 분석하고 데이터에 정의된 필드의 제약 조건을 준수하는지 확인하는 구조이다.\n",
        "\n"
      ],
      "metadata": {
        "id": "lSiqGYBTXagn"
      },
      "execution_count": null,
      "outputs": []
    },
    {
      "cell_type": "code",
      "source": [
        "# 기본형식\n",
        "\n",
        "from pydantic import BaseModel\n",
        "\n",
        "class Person(BaseModel):\n",
        "    first_name: str\n",
        "    last_name: str\n",
        "\n",
        "\n",
        "# 데이터 클래스와 마찬가지로 유형 주석을 사용한다.\n",
        "\n",
        "# 데이터 클래스와 달리 @dataclass 데코레이터를 사용하지 않는다.\n",
        "# 대신 BaseModel 클래스에서 상속한다.\n",
        "\n",
        "# typing을 호출함으로써 , 복잡한 필드를 추가할 수 있다."
      ],
      "metadata": {
        "id": "r6Octz-TXsjK"
      },
      "execution_count": 1,
      "outputs": []
    },
    {
      "cell_type": "code",
      "source": [
        "from pydantic import BaseModel\n",
        "from typing import Optional, List\n",
        "\n",
        "class Person(BaseModel):\n",
        "    first_name: str\n",
        "    last_name: str\n",
        "    interest: Optional[List[str]]\n",
        "\n",
        "data = {\"first_name\": \"Ahmed\", \"last_name\": \"Besbes\"}\n",
        "person = Person(**data)\n",
        "print(person)"
      ],
      "metadata": {
        "colab": {
          "base_uri": "https://localhost:8080/"
        },
        "id": "sINSu72FYBn5",
        "outputId": "2b823ee1-9250-4768-9880-1b8fdbb06e19"
      },
      "execution_count": 2,
      "outputs": [
        {
          "output_type": "stream",
          "name": "stdout",
          "text": [
            "first_name='Ahmed' last_name='Besbes' interest=None\n"
          ]
        }
      ]
    },
    {
      "cell_type": "code",
      "source": [
        "from pydantic import BaseModel\n",
        "from typing import Optional, List\n",
        "\n",
        "class Address(BaseModel):\n",
        "    street: str\n",
        "    number: int\n",
        "    zipcode: str\n",
        "\n",
        "class Person(BaseModel):\n",
        "    first_name: str\n",
        "    last_name: str\n",
        "    interest: Optional[List[str]]\n",
        "\n",
        "address_data = {\"street\": \"Main street\", \"number\": 1, \"zipcode\": 12345}\n",
        "address = Address(**address_data)\n",
        "data = {\"first_name\": \"Ahmed\", \"last_name\": \"Besbes\", \"address\": address}\n",
        "\n",
        "person = Person(**data)\n",
        "print(person)"
      ],
      "metadata": {
        "colab": {
          "base_uri": "https://localhost:8080/"
        },
        "id": "RZo_pZwSYBp4",
        "outputId": "37a8e018-f3fa-4d66-babc-6ac988728562"
      },
      "execution_count": 9,
      "outputs": [
        {
          "output_type": "stream",
          "name": "stdout",
          "text": [
            "first_name='Ahmed' last_name='Besbes' interest=None\n"
          ]
        }
      ]
    },
    {
      "cell_type": "code",
      "source": [
        "# 에러 발생\n",
        "# 정의된 스키마와 일치 하지 않는 일부 데이터를 전달했을때\n",
        "\n",
        "from pydantic import BaseModel\n",
        "from typing import Optional\n",
        "\n",
        "class Address(BaseModel):\n",
        "    street: str \n",
        "    number: int\n",
        "    zipcode: str\n",
        "\n",
        "class Person(BaseModel):\n",
        "    first_name: str\n",
        "    last_name: str\n",
        "    age: int\n",
        "    address: Optional[Address]\n",
        "\n",
        "\n",
        "data = {\"first_name\": \"Ahmed\", \"last_name\": \"Besbes\", \"address\": address}\n",
        "\n",
        "person = Person(**data)\n",
        "print(person)"
      ],
      "metadata": {
        "colab": {
          "base_uri": "https://localhost:8080/",
          "height": 288
        },
        "id": "r3X7_l78YBsF",
        "outputId": "19b981cc-ed3b-4c7d-bba2-cfd421392c08"
      },
      "execution_count": 7,
      "outputs": [
        {
          "output_type": "error",
          "ename": "ValidationError",
          "evalue": "ignored",
          "traceback": [
            "\u001b[0;31m---------------------------------------------------------------------------\u001b[0m",
            "\u001b[0;31mValidationError\u001b[0m                           Traceback (most recent call last)",
            "\u001b[0;32m<ipython-input-7-d0eeb4a4d3f4>\u001b[0m in \u001b[0;36m<module>\u001b[0;34m\u001b[0m\n\u001b[1;32m     16\u001b[0m \u001b[0mdata\u001b[0m \u001b[0;34m=\u001b[0m \u001b[0;34m{\u001b[0m\u001b[0;34m\"first_name\"\u001b[0m\u001b[0;34m:\u001b[0m \u001b[0;34m\"Ahmed\"\u001b[0m\u001b[0;34m,\u001b[0m \u001b[0;34m\"last_name\"\u001b[0m\u001b[0;34m:\u001b[0m \u001b[0;34m\"Besbes\"\u001b[0m\u001b[0;34m,\u001b[0m \u001b[0;34m\"address\"\u001b[0m\u001b[0;34m:\u001b[0m \u001b[0maddress\u001b[0m\u001b[0;34m}\u001b[0m\u001b[0;34m\u001b[0m\u001b[0;34m\u001b[0m\u001b[0m\n\u001b[1;32m     17\u001b[0m \u001b[0;34m\u001b[0m\u001b[0m\n\u001b[0;32m---> 18\u001b[0;31m \u001b[0mperson\u001b[0m \u001b[0;34m=\u001b[0m \u001b[0mPerson\u001b[0m\u001b[0;34m(\u001b[0m\u001b[0;34m**\u001b[0m\u001b[0mdata\u001b[0m\u001b[0;34m)\u001b[0m\u001b[0;34m\u001b[0m\u001b[0;34m\u001b[0m\u001b[0m\n\u001b[0m\u001b[1;32m     19\u001b[0m \u001b[0mprint\u001b[0m\u001b[0;34m(\u001b[0m\u001b[0mperson\u001b[0m\u001b[0;34m)\u001b[0m\u001b[0;34m\u001b[0m\u001b[0;34m\u001b[0m\u001b[0m\n",
            "\u001b[0;32m/usr/local/lib/python3.8/dist-packages/pydantic/main.cpython-38-x86_64-linux-gnu.so\u001b[0m in \u001b[0;36mpydantic.main.BaseModel.__init__\u001b[0;34m()\u001b[0m\n",
            "\u001b[0;31mValidationError\u001b[0m: 1 validation error for Person\nage\n  field required (type=value_error.missing)"
          ]
        }
      ]
    },
    {
      "cell_type": "code",
      "source": [
        "# 추가 예시)\n",
        "\n",
        "\n",
        "from pydantic import BaseModel\n",
        "\n",
        "class Model(BaseModel):\n",
        "    a: int\n",
        "    b: float\n",
        "    c: str\n",
        "\n",
        "print(Model(a=3.1415, b=' 2.72 ', c=123).dict())\n",
        "#> {'a': 3, 'b': 2.72, 'c': '123'}\n",
        "\n",
        "print(Model(a=3.1415, **b=' asd '**, c=123).dict())\n",
        "\n",
        "# 에러 문장)\n",
        "# '''\n",
        "# pydantic.error_wrappers.ValidationError: 1 validation error for Model\n",
        "# b\n",
        "#   value is not a valid float (type=type_error.float)\n",
        "# '''\n",
        "\n",
        "# 위에서 볼 수 있듯이 b의 float값이 string으로 들어와도 이를 float로 parsing해줍니다.\n",
        "# 하지만, parsing이 불가능한 데이터가 들어왔을 경우에는 error를 발생시킵니다."
      ],
      "metadata": {
        "id": "Es5su4jQYBuK"
      },
      "execution_count": null,
      "outputs": []
    },
    {
      "cell_type": "code",
      "source": [
        "# [ BaseModel ]\n",
        "\n",
        "\n",
        "class User(BaseModel):\n",
        "    id: int\n",
        "    username : str\n",
        "    password : str\n",
        "    confirm_password : str\n",
        "    alias = 'anonymous'\n",
        "    timestamp: Optional[datetime] = None\n",
        "    friends: List[int] = []\n",
        "\n",
        "# id - 이산형 변수는 ID를 표현합니다. 기본값은 제공하지 않기 때문에, 이 필드는 반드시 필요하고, 객체 생성할 때 정의가 되어야 합니다. 문자열, 바이트 또는 부동 소수점은 가능한 경우 정수로 강제 변환됩니다. 그렇지 않으면 예외가 발생합니다. \n",
        "\n",
        "# username - 문자형 변수는 username을 표현합니다. 그리고 이 필드는 반드시 필요합니다. \n",
        "\n",
        "# password - 문자형 변수는 password을 표현합하니다. 그리고 이 필드는 반드시 필요합니다. \n",
        "\n",
        "# confirm_password - 문자형 변수는 confirmation password를 표현합니다. 반드시 필요하고, 후에 데이터 검증을 위해서 사용됩니다. \n",
        "\n",
        "# alias - 문자형 변수는 alias를 표현합니다. 이것은 반드시 필요하지 않고, 설정하지 않으면 anonymous로 설정됩니다. \n",
        "\n",
        "# timestamp - date/time field를 의미하고, 반드시 필요하지는 않고, 기본 값은 None입니다. \n",
        "\n",
        "# friends - 이산형 변수들의 리스트를 의미합니다. 기본값은 []입니다.\n",
        "\n",
        "\n",
        "\n"
      ],
      "metadata": {
        "id": "8XfZeSv6d5BH"
      },
      "execution_count": null,
      "outputs": []
    },
    {
      "cell_type": "code",
      "source": [
        "# [ pydantic을 사용하는 이유 ]\n",
        "\n",
        "# 1. 데이터 모델을 정의할 수 있는 간단한 syntax \n",
        "# - BaseModel 클래스에서 상속된 클래스 내에서 데이터를 정의할 수 있습니다. pydantic model은 데이터를 수집하고 구문 분석하고 데이터에 정의된 필드가 제약 조건을 준수하는지 확인하는 구조입니다.\n",
        "\n",
        "# 2. 사용자 친화적 error message\n",
        "\n",
        "# 3. filed customization (custom validators)\n",
        "# - pydantic을 사용하여 각 필드를 Field클래스 내부에 wrapping하여 기본적으로 유효성 검사를 추가할 수 있습니다.\n",
        "\n",
        "# 4. 많은 유용한 method들을 제공\n",
        "\n",
        "# 5. 환경변수값을 parsing하여 사용 가능\n",
        "# - .env파일에서 환경 변수를 읽고 BaseSettings클래스 내에서 직접 구문 분석이 가능합니다."
      ],
      "metadata": {
        "id": "jluqWOijd5DU"
      },
      "execution_count": null,
      "outputs": []
    },
    {
      "cell_type": "code",
      "source": [],
      "metadata": {
        "id": "iiNR9OWbd5Fc"
      },
      "execution_count": null,
      "outputs": []
    },
    {
      "cell_type": "code",
      "source": [],
      "metadata": {
        "id": "5vKk8udDd5JO"
      },
      "execution_count": null,
      "outputs": []
    }
  ]
}