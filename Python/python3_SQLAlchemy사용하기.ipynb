{
  "cells": [
    {
      "cell_type": "code",
      "execution_count": null,
      "metadata": {
        "id": "woZUiYMAR6JY"
      },
      "outputs": [],
      "source": [
        "# SQLAlchemy\n",
        "\n",
        "\n",
        "# SQLAlchemy는 인기있는 SQL 툴킷이며 Object Relational Mapper이다. \n",
        "# 이것은 파이썬으로 작성되었고 응용 프로그래머에게 강력한 기능과 풍붕한 SQL의 유연성을 제공한다.\n",
        "# MIT 라이선스에 따라 출시된 오픈 소스 및 크로스 플랫폼 소프트웨어입니다."
      ]
    },
    {
      "cell_type": "code",
      "execution_count": null,
      "metadata": {
        "id": "kNFRAfkCSlHG"
      },
      "outputs": [],
      "source": [
        "# connection\n",
        " \n",
        "import sqlalchemy as db\n",
        "\n",
        "engine = db.create_engine('')\n"
      ]
    },
    {
      "cell_type": "code",
      "execution_count": null,
      "metadata": {
        "id": "-yS_R43SSlJN"
      },
      "outputs": [],
      "source": [
        "# connection 확인\n",
        "\n",
        "connection = engine.connect()\n",
        "metadata = db.MetaData()\n",
        "table = db.Table('table_name', metadata, autoload=True, autoload_with=engine)\n",
        "\n",
        "\n",
        "print(table.columns.keys())\n",
        "\n",
        "# 연결이 잘 되었는지 보기 위해 아래 코드를 추가한 후 실행했을때 column key들이 출력되면 정상적으로 연결은 완료된 것이다."
      ]
    },
    {
      "cell_type": "code",
      "execution_count": null,
      "metadata": {
        "id": "4vEr93ZASlLV"
      },
      "outputs": [],
      "source": [
        "# Query - SELECT\n",
        "\n",
        "# Database에 있는 table의 정보를 가져와 보도록 해보자\n",
        "\n",
        "table = db.Table('table_name', metadata, autoload=True, autoload_with=engine)\n",
        "\n",
        "# select * from table 과 같음\n",
        "query = db.select([table])\n",
        "\n",
        "# 이때 query의 내용을 출력해보면 sql query인 것을 알 수 있음\n",
        "print(query)\n",
        "\n",
        "# 쿼리 실행\n",
        "result_proxy = connection.execute(query)\n",
        "result_set = result_proxy.fetchall()\n",
        "\n",
        "# 결과 print 이때 10개만 출력하도록 함. 단순한 set 자료구조의 형태를 하고 있음.\n",
        "print(result_set[:10])"
      ]
    },
    {
      "cell_type": "code",
      "execution_count": null,
      "metadata": {
        "id": "d99OOWQiSlNO"
      },
      "outputs": [],
      "source": [
        "# select시 조건을 설정할 수 있다. 예로 ,password column의 값이 0809인 것을 가져오려면 아래와 같은 코드를 작성하면 된다.\n",
        "\n",
        "\n",
        "query = db.select([table]).where(table.columns.password == '0809')"
      ]
    },
    {
      "cell_type": "code",
      "execution_count": null,
      "metadata": {
        "id": "kTxhHlc8SlPe"
      },
      "outputs": [],
      "source": [
        "# 다음으로는 , 중요한 null check 이다 .\n",
        "# 아래와 같은 코드를 입력하면 가능하다.\n",
        "\n",
        "query = db.select([table]).where(table.columns.password.isnot(None))"
      ]
    },
    {
      "cell_type": "code",
      "execution_count": null,
      "metadata": {
        "id": "e1aBshMkSlRz"
      },
      "outputs": [],
      "source": [
        "# Query-INSERT\n",
        "\n",
        "# table 이라는 변수에 DB의 METADATA정보를 저장했다면 INSERT가 쉽다.\n",
        "# pymysql 보다 더 간편하다고 볼 수 있다.\n",
        "\n",
        "\n",
        "query = db.insert(table).values(values) # 이때 values는 table의 column의 순서와 갯수가 일치해야 함\n",
        "result_proxy = connection.execute(query)\n",
        "result_proxy.close()\n",
        "\n"
      ]
    },
    {
      "cell_type": "code",
      "execution_count": null,
      "metadata": {
        "id": "I6uWH9I9SlT9"
      },
      "outputs": [],
      "source": [
        "# 한꺼번에 많은 record를 넣고 싶다면 다음 코드를 참조하도록 하자\n",
        "\n",
        "query = db.insert(table)\n",
        "values_list = [{'id': 'dork', 'passwd': '1234'}, {'id': 'test', 'passwd':'test123', 'email':'test@test.com'}]\n",
        "result_proxy = connection.execute(query, values_list)\n",
        "result_proxy.close()\n",
        "\n",
        "# 위와 같이 List 자료구조 안에 Dictionary 를 넣어주면 Dictionary 수 만큼 한번에 Insert할 수 있다.\n"
      ]
    },
    {
      "cell_type": "code",
      "execution_count": null,
      "metadata": {
        "id": "qN5yzF4xSlV3"
      },
      "outputs": [],
      "source": []
    },
    {
      "cell_type": "code",
      "execution_count": null,
      "metadata": {
        "id": "x3WdumF_SlYG"
      },
      "outputs": [],
      "source": []
    }
  ],
  "metadata": {
    "colab": {
      "provenance": []
    },
    "kernelspec": {
      "display_name": "Python 3",
      "name": "python3"
    },
    "language_info": {
      "name": "python"
    }
  },
  "nbformat": 4,
  "nbformat_minor": 0
}
