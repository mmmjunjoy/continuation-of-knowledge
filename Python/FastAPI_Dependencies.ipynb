{
  "nbformat": 4,
  "nbformat_minor": 0,
  "metadata": {
    "colab": {
      "provenance": []
    },
    "kernelspec": {
      "name": "python3",
      "display_name": "Python 3"
    },
    "language_info": {
      "name": "python"
    }
  },
  "cells": [
    {
      "cell_type": "code",
      "execution_count": null,
      "metadata": {
        "id": "dV5cvcOtal0I"
      },
      "outputs": [],
      "source": [
        "#종속성 - 첫 번째 단계(Dependencies - First Steps)\n",
        "\n",
        "from fastapi import Depends, FastAPI\n",
        "\n",
        "app = FastAPI()\n",
        "\n",
        "-------------------------------------------------------------------\n",
        "async def common_parameters(q: str | None = None, skip: int = 0, limit: int = 100):\n",
        "    return {\"q\": q, \"skip\": skip, \"limit\": limit}\n",
        "-------------------------------------------------------------------\n",
        "\n",
        "@app.get(\"/items/\")\n",
        "async def read_items(commons: dict = Depends(common_parameters)):\n",
        "    return commons\n",
        "\n",
        "\n",
        "@app.get(\"/users/\")\n",
        "async def read_users(commons: dict = Depends(common_parameters)):\n",
        "    return commons\n"
      ]
    },
    {
      "cell_type": "code",
      "source": [
        "# Import Depends\n",
        "\n",
        "from fastapi import Depends, FastAPI"
      ],
      "metadata": {
        "id": "SvnXolvBartg"
      },
      "execution_count": null,
      "outputs": []
    },
    {
      "cell_type": "code",
      "source": [
        "# Declare the dependency, in the \"dependant\"\n",
        "\n",
        "@app.get(\"/items/\")\n",
        "async def read_items(commons: dict = Depends(common_parameters)):\n",
        "    return commons\n",
        "\n",
        "\n",
        "@app.get(\"/users/\")\n",
        "async def read_users(commons: dict = Depends(common_parameters)):\n",
        "    return commons"
      ],
      "metadata": {
        "id": "AFAX2FqRarvu"
      },
      "execution_count": null,
      "outputs": []
    },
    {
      "cell_type": "code",
      "source": [],
      "metadata": {
        "id": "tqCRgHk_arx2"
      },
      "execution_count": null,
      "outputs": []
    },
    {
      "cell_type": "code",
      "source": [],
      "metadata": {
        "id": "NPZIdUTuarz_"
      },
      "execution_count": null,
      "outputs": []
    }
  ]
}