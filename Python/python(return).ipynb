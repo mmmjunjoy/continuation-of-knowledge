{
  "nbformat": 4,
  "nbformat_minor": 0,
  "metadata": {
    "colab": {
      "provenance": []
    },
    "kernelspec": {
      "name": "python3",
      "display_name": "Python 3"
    },
    "language_info": {
      "name": "python"
    }
  },
  "cells": [
    {
      "cell_type": "code",
      "execution_count": 10,
      "metadata": {
        "colab": {
          "base_uri": "https://localhost:8080/"
        },
        "id": "G4lq589q0jua",
        "outputId": "73fedf43-333d-423c-c3fe-a6fce9ef1067"
      },
      "outputs": [
        {
          "output_type": "stream",
          "name": "stdout",
          "text": [
            "[{'maintain': True}]\n"
          ]
        }
      ],
      "source": [
        "#return 에 대한 기본\n",
        "#기본이 가장 중요하다\n",
        "\n",
        "\n",
        "def get():\n",
        "  result = []\n",
        "  result.append({'maintain':bool(True)})\n",
        "  return result\n",
        "\n",
        "\n",
        "c = get()\n",
        "print(c)\n",
        "\n"
      ]
    }
  ]
}