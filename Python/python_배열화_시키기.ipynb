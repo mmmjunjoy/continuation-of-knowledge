{
  "nbformat": 4,
  "nbformat_minor": 0,
  "metadata": {
    "colab": {
      "provenance": []
    },
    "kernelspec": {
      "name": "python3",
      "display_name": "Python 3"
    },
    "language_info": {
      "name": "python"
    }
  },
  "cells": [
    {
      "cell_type": "code",
      "execution_count": null,
      "metadata": {
        "id": "2u0S78QCh-Qi"
      },
      "outputs": [],
      "source": [
        "#1번 방법\n",
        "\n",
        "\n",
        "# for 문을 이용하여 하나하나 적재시키는 것.\n",
        "\n",
        "\n",
        "arr = []\n",
        "for row in rows:\n",
        "  arr.append(row[0])\n",
        "  \n",
        "print(arr)\n"
      ]
    },
    {
      "cell_type": "code",
      "source": [
        "# 2번 방법 \n",
        "\n",
        "\n",
        "row  = list(map(lambda x : x[0]).rows))\n",
        "print(row)\n",
        "\n",
        "\n",
        "# 한줄로 끝낼 수 있는 좋은 방법\n",
        "\n"
      ],
      "metadata": {
        "id": "1RN4FPBoiZ2B"
      },
      "execution_count": null,
      "outputs": []
    },
    {
      "cell_type": "code",
      "source": [],
      "metadata": {
        "id": "njG-jQ4-iZ4R"
      },
      "execution_count": null,
      "outputs": []
    }
  ]
}