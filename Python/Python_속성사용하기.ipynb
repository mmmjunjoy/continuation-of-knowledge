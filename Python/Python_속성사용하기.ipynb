{
  "nbformat": 4,
  "nbformat_minor": 0,
  "metadata": {
    "colab": {
      "provenance": []
    },
    "kernelspec": {
      "name": "python3",
      "display_name": "Python 3"
    },
    "language_info": {
      "name": "python"
    }
  },
  "cells": [
    {
      "cell_type": "code",
      "execution_count": null,
      "metadata": {
        "id": "AtG-2Y6gKgAp"
      },
      "outputs": [],
      "source": [
        "# 클래스에서 속성을 만들고 사용해보자\n",
        "\n",
        "# 속성을 만들 때는 __init__ 메서드 안에서 self.속성에 값을 할당한다.\n",
        "\n",
        "#기본)\n",
        "class 클래스이름:\n",
        "\tdef__init__(self):\n",
        "    self.속성 = 값"
      ]
    },
    {
      "cell_type": "code",
      "source": [
        "#예1)\n",
        "\n",
        "class Person:\n",
        "\tdef__init__(self):\n",
        "\t\tself.hello = '안녕하세요.'\n",
        "    def greeting(self)\n",
        "    \tprint(self.hello)\n",
        "        \n",
        "james=person()\n",
        "james.greeting()"
      ],
      "metadata": {
        "id": "3k8S8nP6LO8-"
      },
      "execution_count": null,
      "outputs": []
    },
    {
      "cell_type": "code",
      "source": [
        "# 예1 설명)\n",
        "\n",
        "class Person:\n",
        "    def __init__(self):\n",
        "        self.hello = '안녕하세요.'\n"
      ],
      "metadata": {
        "id": "bQjMurjQLO_H"
      },
      "execution_count": null,
      "outputs": []
    },
    {
      "cell_type": "code",
      "source": [
        "# 인스턴스를 만들 때 값 받기\n",
        "\n",
        "class 클래스이름:\n",
        "   def __init__(self, 매개변수1, 매개변수2):\n",
        "       self.속성1 = 매개변수1\n",
        "       self.속성2 = 매개변수2"
      ],
      "metadata": {
        "id": "yHmk5Bd9LPBa"
      },
      "execution_count": null,
      "outputs": []
    },
    {
      "cell_type": "code",
      "source": [
        "class Person:\n",
        "   def __init__(self, name, age, address):\n",
        "       self.hello = '안녕하세요.'\n",
        "       self.name = name\n",
        "       self.age = age\n",
        "       self.address = address\n",
        "\n",
        "   def greeting(self):\n",
        "       print('{0} 저는 {1}입니다.'.format(self.hello, self.name))\n",
        "\n",
        "maria = Person('마리아', 20, '서울시 서초구 반포동')\n",
        "maria.greeting()    # 안녕하세요. 저는 마리아입니다.\n",
        "\n",
        "print('이름:', maria.name)       # 마리아\n",
        "print('나이:', maria.age)        # 20\n",
        "print('주소:', maria.address)    # 서울시 서초구 반포동"
      ],
      "metadata": {
        "id": "IsB8_zBtLPD5"
      },
      "execution_count": null,
      "outputs": []
    },
    {
      "cell_type": "code",
      "source": [
        "# 실제 업무에서 적용해보기\n",
        "\n",
        "SOURCE = 'KRX-TRACKING-ERROR-RATE'\n",
        "JOB = 'EXTRACT'\n",
        "\n",
        "TODAY = datetime.now().strftime(\"%Y-%m-%d\")\n",
        "DATATODAY = (datetime.now() - timedelta(days=1)).strftime(\"%Y%m%d\")\n",
        "\n",
        "class MongoTemplate:\n",
        "    def __init__(self,target, data) -> None:\n",
        "        self.date = TODAY\n",
        "        self.source = SOURCE\n",
        "        self.target = target\n",
        "        self.job = JOB\n",
        "        self.data = data"
      ],
      "metadata": {
        "id": "nt1mrWocLPGK"
      },
      "execution_count": null,
      "outputs": []
    }
  ]
}