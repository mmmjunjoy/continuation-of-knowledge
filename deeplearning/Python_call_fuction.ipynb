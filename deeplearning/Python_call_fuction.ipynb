{
  "nbformat": 4,
  "nbformat_minor": 0,
  "metadata": {
    "colab": {
      "provenance": []
    },
    "kernelspec": {
      "name": "python3",
      "display_name": "Python 3"
    },
    "language_info": {
      "name": "python"
    }
  },
  "cells": [
    {
      "cell_type": "markdown",
      "source": [
        "<h1>__call__<h1>\n",
        "\n",
        "클래스의 객체를 호출할 수 있게 만드는 함수이다."
      ],
      "metadata": {
        "id": "LA0UKxF4bx1I"
      }
    },
    {
      "cell_type": "code",
      "source": [
        "class callmsg:\n",
        "  def __init__(self):\n",
        "    self.msg = \"__call_test\"\n",
        "  def __call__(self):\n",
        "    return self.msg"
      ],
      "metadata": {
        "id": "55sJp6Akbv3t"
      },
      "execution_count": 1,
      "outputs": []
    },
    {
      "cell_type": "markdown",
      "source": [
        "1. 일반적인 방법으로 msg를 출력하는 것"
      ],
      "metadata": {
        "id": "3g0VG919cQ6b"
      }
    },
    {
      "cell_type": "code",
      "source": [
        "obj = callmsg()\n",
        "print(obj.msg)"
      ],
      "metadata": {
        "colab": {
          "base_uri": "https://localhost:8080/"
        },
        "id": "I235qFZWbv5y",
        "outputId": "06c17bc3-53f1-44ce-b704-4ec693599aa4"
      },
      "execution_count": 3,
      "outputs": [
        {
          "output_type": "stream",
          "name": "stdout",
          "text": [
            "__call_test\n"
          ]
        }
      ]
    },
    {
      "cell_type": "markdown",
      "source": [
        "2. __call__함수 이용하여 , 클래스 객체 자체를 호출하는 것 \n",
        "\n",
        "-  이렇게 하면 __call__ return 값이 반환된다."
      ],
      "metadata": {
        "id": "5ZqLtwNEcWMg"
      }
    },
    {
      "cell_type": "code",
      "source": [
        "obj = callmsg()\n",
        "print(obj())"
      ],
      "metadata": {
        "colab": {
          "base_uri": "https://localhost:8080/"
        },
        "id": "jn2C2_Z4clIV",
        "outputId": "53069d5f-9370-4924-d3be-5d547bb49f30"
      },
      "execution_count": 4,
      "outputs": [
        {
          "output_type": "stream",
          "name": "stdout",
          "text": [
            "__call_test\n"
          ]
        }
      ]
    },
    {
      "cell_type": "markdown",
      "source": [
        "call 사용이유 \n",
        "- 클래스의 인스턴스를 함수로 취급 후 다른 함수의 파라미터로 사용하기 위해 "
      ],
      "metadata": {
        "id": "vDnk-08zdJyu"
      }
    },
    {
      "cell_type": "code",
      "source": [
        "class msg:\n",
        "  def __init__(self):\n",
        "    self.msg = \"이 메세지는 테스트 메세지입니다. : \"\n",
        "  def printmsg(self,usermsg):\n",
        "    um = self.msg + usermsg\n",
        "    return um\n",
        "  def __call__(self,usermsg):\n",
        "    return self.printmsg(usermsg)\n"
      ],
      "metadata": {
        "id": "XCjScy-8ctQZ"
      },
      "execution_count": 5,
      "outputs": []
    },
    {
      "cell_type": "code",
      "source": [
        "obj = msg()\n",
        "print(obj(\"junjoy\"))"
      ],
      "metadata": {
        "colab": {
          "base_uri": "https://localhost:8080/"
        },
        "id": "4snss6URd3IJ",
        "outputId": "40af3189-8ec0-4fa2-dd88-9f3d8c50a5c8"
      },
      "execution_count": 6,
      "outputs": [
        {
          "output_type": "stream",
          "name": "stdout",
          "text": [
            "이 메세지는 테스트 메세지입니다. : junjoy\n"
          ]
        }
      ]
    },
    {
      "cell_type": "code",
      "source": [
        "class A():\n",
        "    def __init__(self, x, y):\n",
        "        self.x = x\n",
        "        self.y = y\n",
        "       \n",
        "\n",
        "    def __call__(self, *input, **kwargs):\n",
        "        return f\"call function is adding: {self.x + self.y}\"\n",
        "        \n"
      ],
      "metadata": {
        "id": "Rtdh7iB6fO84"
      },
      "execution_count": 9,
      "outputs": []
    },
    {
      "cell_type": "code",
      "source": [
        "a = A(10, 2)\n",
        "b = a()\n",
        "c = a\n",
        "print(b)\n",
        "# print(c)"
      ],
      "metadata": {
        "colab": {
          "base_uri": "https://localhost:8080/"
        },
        "id": "AoLiyhkhfRZ7",
        "outputId": "08b3d122-cddb-46b1-a790-6a9dd192773c"
      },
      "execution_count": 10,
      "outputs": [
        {
          "output_type": "stream",
          "name": "stdout",
          "text": [
            "call function is adding: 12\n"
          ]
        }
      ]
    },
    {
      "cell_type": "code",
      "source": [],
      "metadata": {
        "id": "OGdsG1axfR2f"
      },
      "execution_count": null,
      "outputs": []
    }
  ]
}