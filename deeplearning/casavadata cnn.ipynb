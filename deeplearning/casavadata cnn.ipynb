{
 "cells": [
  {
   "cell_type": "code",
   "execution_count": 1,
   "id": "d404877d",
   "metadata": {},
   "outputs": [
    {
     "name": "stdout",
     "output_type": "stream",
     "text": [
      "Collecting tensorflow_datasets\n",
      "  Downloading tensorflow_datasets-4.9.2-py3-none-any.whl (5.4 MB)\n",
      "     ---------------------------------------- 5.4/5.4 MB 38.1 MB/s eta 0:00:00\n",
      "Requirement already satisfied: numpy in c:\\users\\samsung\\anaconda3\\lib\\site-packages (from tensorflow_datasets) (1.23.5)\n",
      "Requirement already satisfied: click in c:\\users\\samsung\\anaconda3\\lib\\site-packages (from tensorflow_datasets) (8.0.4)\n",
      "Collecting promise\n",
      "  Downloading promise-2.3.tar.gz (19 kB)\n",
      "  Preparing metadata (setup.py): started\n",
      "  Preparing metadata (setup.py): finished with status 'done'\n",
      "Requirement already satisfied: protobuf>=3.20 in c:\\users\\samsung\\anaconda3\\lib\\site-packages (from tensorflow_datasets) (3.20.3)\n",
      "Requirement already satisfied: termcolor in c:\\users\\samsung\\anaconda3\\lib\\site-packages (from tensorflow_datasets) (2.1.0)\n",
      "Requirement already satisfied: toml in c:\\users\\samsung\\anaconda3\\lib\\site-packages (from tensorflow_datasets) (0.10.2)\n",
      "Requirement already satisfied: tqdm in c:\\users\\samsung\\anaconda3\\lib\\site-packages (from tensorflow_datasets) (4.64.1)\n",
      "Collecting tensorflow-metadata\n",
      "  Downloading tensorflow_metadata-1.13.1-py3-none-any.whl (28 kB)\n",
      "Requirement already satisfied: absl-py in c:\\users\\samsung\\anaconda3\\lib\\site-packages (from tensorflow_datasets) (1.3.0)\n",
      "Collecting dm-tree\n",
      "  Downloading dm_tree-0.1.8-cp39-cp39-win_amd64.whl (101 kB)\n",
      "     -------------------------------------- 101.5/101.5 kB 6.1 MB/s eta 0:00:00\n",
      "Collecting etils[enp,epath]>=0.9.0\n",
      "  Downloading etils-1.3.0-py3-none-any.whl (126 kB)\n",
      "     -------------------------------------- 126.4/126.4 kB 7.3 MB/s eta 0:00:00\n",
      "Requirement already satisfied: wrapt in c:\\users\\samsung\\anaconda3\\lib\\site-packages (from tensorflow_datasets) (1.12.1)\n",
      "Requirement already satisfied: psutil in c:\\users\\samsung\\anaconda3\\lib\\site-packages (from tensorflow_datasets) (5.9.0)\n",
      "Collecting requests>=2.19.0\n",
      "  Downloading requests-2.31.0-py3-none-any.whl (62 kB)\n",
      "     ---------------------------------------- 62.6/62.6 kB ? eta 0:00:00\n",
      "Collecting array-record\n",
      "  Downloading array_record-0.2.0-py39-none-any.whl (3.0 MB)\n",
      "     ---------------------------------------- 3.0/3.0 MB 48.1 MB/s eta 0:00:00\n",
      "Requirement already satisfied: typing_extensions in c:\\users\\samsung\\anaconda3\\lib\\site-packages (from etils[enp,epath]>=0.9.0->tensorflow_datasets) (4.4.0)\n",
      "Requirement already satisfied: zipp in c:\\users\\samsung\\anaconda3\\lib\\site-packages (from etils[enp,epath]>=0.9.0->tensorflow_datasets) (3.11.0)\n",
      "Collecting importlib_resources\n",
      "  Downloading importlib_resources-5.12.0-py3-none-any.whl (36 kB)\n",
      "Requirement already satisfied: charset-normalizer<4,>=2 in c:\\users\\samsung\\anaconda3\\lib\\site-packages (from requests>=2.19.0->tensorflow_datasets) (2.0.4)\n",
      "Requirement already satisfied: certifi>=2017.4.17 in c:\\users\\samsung\\anaconda3\\lib\\site-packages (from requests>=2.19.0->tensorflow_datasets) (2023.5.7)\n",
      "Requirement already satisfied: urllib3<3,>=1.21.1 in c:\\users\\samsung\\anaconda3\\lib\\site-packages (from requests>=2.19.0->tensorflow_datasets) (1.22)\n",
      "Requirement already satisfied: idna<4,>=2.5 in c:\\users\\samsung\\anaconda3\\lib\\site-packages (from requests>=2.19.0->tensorflow_datasets) (2.6)\n",
      "Requirement already satisfied: colorama in c:\\users\\samsung\\anaconda3\\lib\\site-packages (from click->tensorflow_datasets) (0.4.6)\n",
      "Requirement already satisfied: six in c:\\users\\samsung\\anaconda3\\lib\\site-packages (from promise->tensorflow_datasets) (1.16.0)\n",
      "Collecting googleapis-common-protos<2,>=1.52.0\n",
      "  Downloading googleapis_common_protos-1.59.0-py2.py3-none-any.whl (223 kB)\n",
      "     ------------------------------------- 223.6/223.6 kB 14.2 MB/s eta 0:00:00\n",
      "Building wheels for collected packages: promise\n",
      "  Building wheel for promise (setup.py): started\n",
      "  Building wheel for promise (setup.py): finished with status 'done'\n",
      "  Created wheel for promise: filename=promise-2.3-py3-none-any.whl size=21486 sha256=1f70ec2f6a74507499ba15037d4bc5a3fe020ae91d349753ac440c07ce5db4b8\n",
      "  Stored in directory: c:\\users\\samsung\\appdata\\local\\pip\\cache\\wheels\\68\\ee\\8d\\57af0d8b0d34c2e918ff29d3af02b348db6499bb107caa007e\n",
      "Successfully built promise\n",
      "Installing collected packages: dm-tree, requests, promise, importlib_resources, googleapis-common-protos, etils, tensorflow-metadata, array-record, tensorflow_datasets\n",
      "  Attempting uninstall: requests\n",
      "    Found existing installation: requests 2.18.4\n",
      "    Uninstalling requests-2.18.4:\n",
      "      Successfully uninstalled requests-2.18.4\n",
      "Successfully installed array-record-0.2.0 dm-tree-0.1.8 etils-1.3.0 googleapis-common-protos-1.59.0 importlib_resources-5.12.0 promise-2.3 requests-2.31.0 tensorflow-metadata-1.13.1 tensorflow_datasets-4.9.2\n"
     ]
    },
    {
     "name": "stderr",
     "output_type": "stream",
     "text": [
      "WARNING: Ignoring invalid distribution -equests (c:\\users\\samsung\\anaconda3\\lib\\site-packages)\n",
      "WARNING: Ignoring invalid distribution -equests (c:\\users\\samsung\\anaconda3\\lib\\site-packages)\n",
      "WARNING: Ignoring invalid distribution -equests (c:\\users\\samsung\\anaconda3\\lib\\site-packages)\n",
      "    WARNING: Ignoring invalid distribution -equests (c:\\users\\samsung\\anaconda3\\lib\\site-packages)\n",
      "WARNING: Ignoring invalid distribution -equests (c:\\users\\samsung\\anaconda3\\lib\\site-packages)\n",
      "WARNING: Ignoring invalid distribution -equests (c:\\users\\samsung\\anaconda3\\lib\\site-packages)\n",
      "WARNING: Ignoring invalid distribution -equests (c:\\users\\samsung\\anaconda3\\lib\\site-packages)\n",
      "WARNING: Ignoring invalid distribution -equests (c:\\users\\samsung\\anaconda3\\lib\\site-packages)\n",
      "WARNING: Ignoring invalid distribution -equests (c:\\users\\samsung\\anaconda3\\lib\\site-packages)\n",
      "WARNING: Ignoring invalid distribution -equests (c:\\users\\samsung\\anaconda3\\lib\\site-packages)\n",
      "WARNING: Ignoring invalid distribution -equests (c:\\users\\samsung\\anaconda3\\lib\\site-packages)\n",
      "WARNING: Ignoring invalid distribution -equests (c:\\users\\samsung\\anaconda3\\lib\\site-packages)\n",
      "WARNING: Ignoring invalid distribution -equests (c:\\users\\samsung\\anaconda3\\lib\\site-packages)\n",
      "ERROR: pip's dependency resolver does not currently take into account all the packages that are installed. This behaviour is the source of the following dependency conflicts.\n",
      "transformers 4.19.4 requires tokenizers!=0.11.3,<0.13,>=0.11.1, but you have tokenizers 0.10.3 which is incompatible.\n",
      "torchvision 0.12.0 requires torch==1.11.0, but you have torch 1.12.1 which is incompatible.\n",
      "tensorboard 2.10.0 requires protobuf<3.20,>=3.9.2, but you have protobuf 3.20.3 which is incompatible.\n",
      "responses 0.18.0 requires urllib3>=1.25.10, but you have urllib3 1.22 which is incompatible.\n",
      "conda-repo-cli 1.0.27 requires clyent==1.2.1, but you have clyent 1.2.2 which is incompatible.\n",
      "conda-repo-cli 1.0.27 requires nbformat==5.4.0, but you have nbformat 5.7.0 which is incompatible.\n",
      "conda-repo-cli 1.0.27 requires requests==2.28.1, but you have requests 2.31.0 which is incompatible.\n",
      "anaconda-client 1.11.0 requires urllib3>=1.26.4, but you have urllib3 1.22 which is incompatible.\n",
      "WARNING: Ignoring invalid distribution -equests (c:\\users\\samsung\\anaconda3\\lib\\site-packages)\n",
      "WARNING: Ignoring invalid distribution -equests (c:\\users\\samsung\\anaconda3\\lib\\site-packages)\n",
      "WARNING: Ignoring invalid distribution -equests (c:\\users\\samsung\\anaconda3\\lib\\site-packages)\n"
     ]
    }
   ],
   "source": [
    "!pip install tensorflow_datasets"
   ]
  },
  {
   "cell_type": "code",
   "execution_count": 3,
   "id": "37fc3d92",
   "metadata": {},
   "outputs": [
    {
     "name": "stdout",
     "output_type": "stream",
     "text": [
      "Collecting tensorflow_hub\n",
      "  Downloading tensorflow_hub-0.13.0-py2.py3-none-any.whl (100 kB)\n",
      "     ------------------------------------ 100.6/100.6 kB 828.6 kB/s eta 0:00:00\n",
      "Requirement already satisfied: protobuf>=3.19.6 in c:\\users\\samsung\\anaconda3\\lib\\site-packages (from tensorflow_hub) (3.20.3)\n",
      "Requirement already satisfied: numpy>=1.12.0 in c:\\users\\samsung\\anaconda3\\lib\\site-packages (from tensorflow_hub) (1.23.5)\n",
      "Installing collected packages: tensorflow_hub\n",
      "Successfully installed tensorflow_hub-0.13.0\n"
     ]
    },
    {
     "name": "stderr",
     "output_type": "stream",
     "text": [
      "WARNING: Ignoring invalid distribution -equests (c:\\users\\samsung\\anaconda3\\lib\\site-packages)\n",
      "WARNING: Ignoring invalid distribution -equests (c:\\users\\samsung\\anaconda3\\lib\\site-packages)\n",
      "WARNING: Ignoring invalid distribution -equests (c:\\users\\samsung\\anaconda3\\lib\\site-packages)\n",
      "WARNING: Ignoring invalid distribution -equests (c:\\users\\samsung\\anaconda3\\lib\\site-packages)\n",
      "WARNING: Ignoring invalid distribution -equests (c:\\users\\samsung\\anaconda3\\lib\\site-packages)\n",
      "WARNING: Ignoring invalid distribution -equests (c:\\users\\samsung\\anaconda3\\lib\\site-packages)\n",
      "WARNING: Ignoring invalid distribution -equests (c:\\users\\samsung\\anaconda3\\lib\\site-packages)\n"
     ]
    }
   ],
   "source": [
    "!pip install tensorflow_hub"
   ]
  },
  {
   "cell_type": "code",
   "execution_count": 4,
   "id": "70519c44",
   "metadata": {},
   "outputs": [],
   "source": [
    "import tensorflow as tf\n",
    "from tensorflow import keras\n",
    "from tensorflow.keras import layers\n",
    "\n",
    "import tensorflow_datasets as tfds\n",
    "import matplotlib.pyplot as plt\n",
    "import tensorflow_hub as hub\n",
    "\n",
    "import numpy as np"
   ]
  },
  {
   "cell_type": "code",
   "execution_count": 5,
   "id": "c85ad563",
   "metadata": {},
   "outputs": [
    {
     "name": "stdout",
     "output_type": "stream",
     "text": [
      "\u001b[1mDownloading and preparing dataset Unknown size (download: Unknown size, generated: Unknown size, total: Unknown size) to C:\\Users\\SAMSUNG\\tensorflow_datasets\\cassava\\0.1.0...\u001b[0m\n"
     ]
    },
    {
     "data": {
      "application/vnd.jupyter.widget-view+json": {
       "model_id": "75d4c9e39e5e473189cfaea70095d878",
       "version_major": 2,
       "version_minor": 0
      },
      "text/plain": [
       "Dl Completed...: 0 url [00:00, ? url/s]"
      ]
     },
     "metadata": {},
     "output_type": "display_data"
    },
    {
     "data": {
      "application/vnd.jupyter.widget-view+json": {
       "model_id": "4cfc6c6ae99047b194961ec5f1f357a9",
       "version_major": 2,
       "version_minor": 0
      },
      "text/plain": [
       "Dl Size...: 0 MiB [00:00, ? MiB/s]"
      ]
     },
     "metadata": {},
     "output_type": "display_data"
    },
    {
     "data": {
      "application/vnd.jupyter.widget-view+json": {
       "model_id": "c489d7696d3a4b2a801e91816450438a",
       "version_major": 2,
       "version_minor": 0
      },
      "text/plain": [
       "Extraction completed...: 0 file [00:00, ? file/s]"
      ]
     },
     "metadata": {},
     "output_type": "display_data"
    },
    {
     "data": {
      "application/vnd.jupyter.widget-view+json": {
       "model_id": "",
       "version_major": 2,
       "version_minor": 0
      },
      "text/plain": [
       "Generating splits...:   0%|          | 0/3 [00:00<?, ? splits/s]"
      ]
     },
     "metadata": {},
     "output_type": "display_data"
    },
    {
     "data": {
      "application/vnd.jupyter.widget-view+json": {
       "model_id": "",
       "version_major": 2,
       "version_minor": 0
      },
      "text/plain": [
       "Generating train examples...: 0 examples [00:00, ? examples/s]"
      ]
     },
     "metadata": {},
     "output_type": "display_data"
    },
    {
     "data": {
      "application/vnd.jupyter.widget-view+json": {
       "model_id": "",
       "version_major": 2,
       "version_minor": 0
      },
      "text/plain": [
       "Shuffling C:\\Users\\SAMSUNG\\tensorflow_datasets\\cassava\\0.1.0.incompleteMM54PA\\cassava-train.tfrecord*...:   0%…"
      ]
     },
     "metadata": {},
     "output_type": "display_data"
    },
    {
     "data": {
      "application/vnd.jupyter.widget-view+json": {
       "model_id": "",
       "version_major": 2,
       "version_minor": 0
      },
      "text/plain": [
       "Generating test examples...: 0 examples [00:00, ? examples/s]"
      ]
     },
     "metadata": {},
     "output_type": "display_data"
    },
    {
     "data": {
      "application/vnd.jupyter.widget-view+json": {
       "model_id": "",
       "version_major": 2,
       "version_minor": 0
      },
      "text/plain": [
       "Shuffling C:\\Users\\SAMSUNG\\tensorflow_datasets\\cassava\\0.1.0.incompleteMM54PA\\cassava-test.tfrecord*...:   0%|…"
      ]
     },
     "metadata": {},
     "output_type": "display_data"
    },
    {
     "data": {
      "application/vnd.jupyter.widget-view+json": {
       "model_id": "",
       "version_major": 2,
       "version_minor": 0
      },
      "text/plain": [
       "Generating validation examples...: 0 examples [00:00, ? examples/s]"
      ]
     },
     "metadata": {},
     "output_type": "display_data"
    },
    {
     "data": {
      "application/vnd.jupyter.widget-view+json": {
       "model_id": "",
       "version_major": 2,
       "version_minor": 0
      },
      "text/plain": [
       "Shuffling C:\\Users\\SAMSUNG\\tensorflow_datasets\\cassava\\0.1.0.incompleteMM54PA\\cassava-validation.tfrecord*...:…"
      ]
     },
     "metadata": {},
     "output_type": "display_data"
    },
    {
     "name": "stdout",
     "output_type": "stream",
     "text": [
      "\u001b[1mDataset cassava downloaded and prepared to C:\\Users\\SAMSUNG\\tensorflow_datasets\\cassava\\0.1.0. Subsequent calls will reuse this data.\u001b[0m\n"
     ]
    }
   ],
   "source": [
    "# data 불러오기\n",
    "\n",
    "dataset, info = tfds.load('cassava', with_info=True)"
   ]
  },
  {
   "cell_type": "code",
   "execution_count": 9,
   "id": "e0c5f89f",
   "metadata": {},
   "outputs": [],
   "source": [
    "def preprocess_fn(data):\n",
    "  image = data['image']\n",
    "\n",
    "  # Normalize [0, 255] to [0, 1]\n",
    "  image = tf.cast(image, tf.float32)\n",
    "  image = image / 255.\n",
    "\n",
    "  # Resize the images to 180 x 180\n",
    "  image = tf.image.resize(image, (180, 180))\n",
    "\n",
    "  data['image'] = image\n",
    "  return data"
   ]
  },
  {
   "cell_type": "code",
   "execution_count": 10,
   "id": "224f5556",
   "metadata": {},
   "outputs": [],
   "source": [
    "# train 5656개, test 1885개, validation 1889개\n",
    "\n",
    "cassava_train = dataset['train']\n",
    "cassava_test = dataset['test']\n",
    "cassava_validation = dataset['validation']"
   ]
  },
  {
   "cell_type": "code",
   "execution_count": 11,
   "id": "311cc7d3",
   "metadata": {},
   "outputs": [
    {
     "name": "stdout",
     "output_type": "stream",
     "text": [
      "6 classes:\n",
      "['cbb', 'cbsd', 'cgm', 'cmd', 'healthy', 'unknown']\n",
      "['Bacterial Blight', 'Brown Streak Disease', 'Green Mite', 'Mosaic Disease', 'Healthy', 'Unknown']\n"
     ]
    }
   ],
   "source": [
    "# Extend the cassava dataset classes with 'unknown'\n",
    "class_names = info.features['label'].names + ['unknown']\n",
    "\n",
    "# Map the class names to human readable names\n",
    "name_map = dict(\n",
    "    cmd='Mosaic Disease',\n",
    "    cbb='Bacterial Blight',\n",
    "    cgm='Green Mite',\n",
    "    cbsd='Brown Streak Disease',\n",
    "    healthy='Healthy',\n",
    "    unknown='Unknown')\n",
    "\n",
    "print(len(class_names), 'classes:')\n",
    "print(class_names)\n",
    "print([name_map[name] for name in class_names])"
   ]
  },
  {
   "cell_type": "code",
   "execution_count": 12,
   "id": "884bd7ce",
   "metadata": {},
   "outputs": [],
   "source": [
    "cassava_train = dataset['train'].map(preprocess_fn).batch(5656).as_numpy_iterator()\n",
    "cassava_train = next(cassava_train)\n",
    "X_train = cassava_train.get('image').copy()\n",
    "y_train = cassava_train.get('label').copy()"
   ]
  },
  {
   "cell_type": "code",
   "execution_count": 13,
   "id": "35947604",
   "metadata": {},
   "outputs": [],
   "source": [
    "cassava_test = dataset['test'].map(preprocess_fn).batch(1885).as_numpy_iterator()\n",
    "cassava_test = next(cassava_test)\n",
    "X_test = cassava_test.get('image').copy()\n",
    "y_test = cassava_test.get('label').copy()"
   ]
  },
  {
   "cell_type": "code",
   "execution_count": 14,
   "id": "f54578e1",
   "metadata": {},
   "outputs": [],
   "source": [
    "cassava_validation = dataset['validation'].map(preprocess_fn).batch(1889).as_numpy_iterator()\n",
    "cassava_validation = next(cassava_validation)\n",
    "X_validation = cassava_validation.get('image').copy()\n",
    "y_validation = cassava_validation.get('label').copy()"
   ]
  },
  {
   "cell_type": "code",
   "execution_count": 16,
   "id": "c85f5f92",
   "metadata": {},
   "outputs": [
    {
     "name": "stdout",
     "output_type": "stream",
     "text": [
      "(5656, 180, 180, 3)\n",
      "(1885, 180, 180, 3)\n",
      "(1889, 180, 180, 3)\n"
     ]
    }
   ],
   "source": [
    "print(X_train.shape)\n",
    "print(X_test.shape)\n",
    "print(X_validation.shape)"
   ]
  },
  {
   "cell_type": "code",
   "execution_count": 18,
   "id": "f84bbd76",
   "metadata": {},
   "outputs": [],
   "source": [
    "from tensorflow import keras\n",
    "from tensorflow.keras import layers\n",
    "inputs = keras.Input(shape=(180, 180, 3))\n",
    "x = layers.Conv2D(filters=32, kernel_size=3, activation=\"relu\")(inputs)\n",
    "x = layers.MaxPooling2D(pool_size=2)(x)\n",
    "x = layers.Conv2D(filters=64, kernel_size=3, activation=\"relu\")(x)\n",
    "x = layers.MaxPooling2D(pool_size=2)(x)\n",
    "x = layers.Conv2D(filters=128, kernel_size=3, activation=\"relu\")(x)\n",
    "x = layers.Flatten()(x)\n",
    "outputs = layers.Dense(5, activation=\"softmax\")(x)\n",
    "\n",
    "model = keras.Model(inputs=inputs, outputs=outputs)"
   ]
  },
  {
   "cell_type": "code",
   "execution_count": 19,
   "id": "f1cf6290",
   "metadata": {},
   "outputs": [
    {
     "name": "stdout",
     "output_type": "stream",
     "text": [
      "Model: \"model_2\"\n",
      "_________________________________________________________________\n",
      " Layer (type)                Output Shape              Param #   \n",
      "=================================================================\n",
      " input_3 (InputLayer)        [(None, 180, 180, 3)]     0         \n",
      "                                                                 \n",
      " conv2d_6 (Conv2D)           (None, 178, 178, 32)      896       \n",
      "                                                                 \n",
      " max_pooling2d_4 (MaxPooling  (None, 89, 89, 32)       0         \n",
      " 2D)                                                             \n",
      "                                                                 \n",
      " conv2d_7 (Conv2D)           (None, 87, 87, 64)        18496     \n",
      "                                                                 \n",
      " max_pooling2d_5 (MaxPooling  (None, 43, 43, 64)       0         \n",
      " 2D)                                                             \n",
      "                                                                 \n",
      " conv2d_8 (Conv2D)           (None, 41, 41, 128)       73856     \n",
      "                                                                 \n",
      " flatten_2 (Flatten)         (None, 215168)            0         \n",
      "                                                                 \n",
      " dense_2 (Dense)             (None, 5)                 1075845   \n",
      "                                                                 \n",
      "=================================================================\n",
      "Total params: 1,169,093\n",
      "Trainable params: 1,169,093\n",
      "Non-trainable params: 0\n",
      "_________________________________________________________________\n"
     ]
    }
   ],
   "source": [
    "model.summary()"
   ]
  },
  {
   "cell_type": "code",
   "execution_count": 23,
   "id": "8c22462f",
   "metadata": {},
   "outputs": [],
   "source": [
    "callbacks_list = [\n",
    "    keras.callbacks.EarlyStopping(\n",
    "        monitor=\"val_accuracy\",\n",
    "        patience=5,\n",
    ")]"
   ]
  },
  {
   "cell_type": "code",
   "execution_count": 24,
   "id": "67b9fc93",
   "metadata": {},
   "outputs": [
    {
     "name": "stdout",
     "output_type": "stream",
     "text": [
      "Epoch 1/20\n",
      "89/89 [==============================] - 77s 858ms/step - loss: 0.1031 - accuracy: 0.9742 - val_loss: 3.3042 - val_accuracy: 0.5416\n",
      "Epoch 2/20\n",
      "89/89 [==============================] - 74s 834ms/step - loss: 0.0314 - accuracy: 0.9959 - val_loss: 3.5835 - val_accuracy: 0.5442\n",
      "Epoch 3/20\n",
      "89/89 [==============================] - 72s 815ms/step - loss: 0.0368 - accuracy: 0.9958 - val_loss: 3.5249 - val_accuracy: 0.5421\n",
      "Epoch 4/20\n",
      "89/89 [==============================] - 74s 831ms/step - loss: 0.0317 - accuracy: 0.9952 - val_loss: 3.6805 - val_accuracy: 0.5490\n",
      "Epoch 5/20\n",
      "89/89 [==============================] - 74s 828ms/step - loss: 0.0427 - accuracy: 0.9956 - val_loss: 3.3714 - val_accuracy: 0.5326\n",
      "Epoch 6/20\n",
      "89/89 [==============================] - 73s 819ms/step - loss: 0.0292 - accuracy: 0.9961 - val_loss: 3.3608 - val_accuracy: 0.5648\n",
      "Epoch 7/20\n",
      "89/89 [==============================] - 74s 835ms/step - loss: 0.0301 - accuracy: 0.9961 - val_loss: 3.3410 - val_accuracy: 0.5442\n",
      "Epoch 8/20\n",
      "89/89 [==============================] - 74s 833ms/step - loss: 0.0356 - accuracy: 0.9949 - val_loss: 3.3269 - val_accuracy: 0.5601\n",
      "Epoch 9/20\n",
      "89/89 [==============================] - 73s 825ms/step - loss: 0.0296 - accuracy: 0.9961 - val_loss: 3.3137 - val_accuracy: 0.5273\n",
      "Epoch 10/20\n",
      "89/89 [==============================] - 74s 829ms/step - loss: 0.0249 - accuracy: 0.9965 - val_loss: 3.4677 - val_accuracy: 0.5161\n",
      "Epoch 11/20\n",
      "89/89 [==============================] - 73s 824ms/step - loss: 0.0298 - accuracy: 0.9961 - val_loss: 3.4163 - val_accuracy: 0.5548\n"
     ]
    }
   ],
   "source": [
    "model.compile(optimizer=\"adam\",\n",
    "    loss=\"sparse_categorical_crossentropy\",\n",
    "    metrics=[\"accuracy\"])\n",
    "history = model.fit(X_train, y_train, epochs=20, batch_size=64, validation_data=(X_validation, y_validation),callbacks=callbacks_list)"
   ]
  },
  {
   "cell_type": "code",
   "execution_count": 26,
   "id": "54d4d397",
   "metadata": {},
   "outputs": [
    {
     "name": "stdout",
     "output_type": "stream",
     "text": [
      "59/59 [==============================] - 6s 98ms/step\n",
      "[4, 3, 0, 1, 3, 3, 3, 4, 3, 1, 2, 2, 3, 0, 3, 3, 3, 3, 3, 2, 1, 1, 2, 1, 0, 1, 1, 1, 3, 1, 3, 3, 1, 3, 3, 3, 2, 1, 3, 3, 3, 3, 3, 1, 1, 1, 3, 2, 3, 3, 1, 3, 1, 3, 2, 1, 4, 0, 3, 2, 0, 3, 3, 1, 3, 0, 1, 1, 3, 3, 3, 3, 3, 3, 1, 3, 1, 3, 3, 1, 1, 3, 3, 2, 1, 1, 1, 2, 1, 3, 0, 3, 0, 0, 0, 3, 2, 1, 0, 1, 3, 2, 2, 3, 3, 1, 3, 3, 1, 3, 3, 3, 3, 1, 0, 3, 3, 0, 1, 3, 2, 3, 3, 2, 1, 3, 1, 1, 3, 3, 3, 3, 3, 1, 3, 3, 3, 0, 1, 3, 1, 3, 3, 1, 1, 3, 1, 1, 3, 1, 1, 3, 1, 0, 1, 1, 3, 3, 3, 0, 1, 1, 3, 1, 3, 3, 3, 2, 1, 3, 3, 3, 2, 2, 3, 3, 3, 3, 1, 3, 0, 1, 3, 1, 3, 3, 3, 0, 3, 3, 3, 1, 3, 1, 1, 1, 3, 3, 1, 3, 0, 3, 3, 3, 3, 1, 3, 1, 3, 1, 1, 3, 3, 3, 3, 3, 1, 3, 0, 1, 0, 3, 2, 3, 0, 3, 3, 3, 1, 0, 3, 3, 1, 3, 3, 2, 3, 1, 3, 3, 3, 1, 3, 1, 3, 3, 3, 1, 3, 3, 3, 1, 3, 1, 3, 1, 4, 1, 1, 3, 3, 1, 3, 3, 2, 3, 3, 3, 3, 3, 0, 3, 1, 3, 3, 3, 0, 1, 3, 3, 3, 1, 3, 3, 3, 2, 3, 3, 3, 3, 3, 1, 3, 1, 3, 1, 1, 3, 3, 3, 2, 0, 1, 3, 3, 3, 1, 3, 1, 3, 3, 3, 3, 2, 2, 0, 3, 3, 1, 1, 3, 2, 3, 1, 1, 3, 1, 1, 1, 1, 1, 3, 3, 1, 3, 0, 3, 3, 2, 3, 3, 1, 2, 1, 3, 3, 3, 3, 1, 3, 3, 3, 3, 1, 3, 3, 1, 1, 1, 3, 3, 3, 3, 3, 2, 1, 1, 3, 3, 1, 1, 1, 3, 1, 3, 2, 3, 3, 3, 1, 1, 2, 2, 3, 3, 3, 3, 3, 3, 4, 3, 1, 3, 3, 1, 3, 0, 3, 2, 3, 4, 3, 0, 1, 3, 3, 1, 3, 1, 1, 1, 3, 1, 3, 3, 3, 1, 1, 3, 3, 3, 2, 3, 3, 3, 0, 3, 3, 3, 1, 3, 3, 3, 3, 3, 3, 1, 3, 1, 2, 3, 1, 1, 3, 1, 3, 3, 3, 3, 3, 2, 2, 3, 2, 3, 2, 1, 1, 3, 0, 3, 3, 3, 0, 2, 1, 3, 1, 2, 1, 1, 3, 3, 3, 3, 3, 3, 1, 2, 1, 2, 1, 3, 2, 3, 3, 3, 3, 3, 3, 1, 2, 0, 1, 3, 3, 1, 1, 1, 3, 1, 3, 3, 3, 3, 1, 1, 2, 1, 3, 0, 1, 3, 0, 3, 4, 3, 3, 0, 2, 1, 1, 3, 1, 2, 1, 3, 1, 1, 1, 3, 2, 1, 1, 2, 3, 0, 1, 1, 2, 1, 3, 3, 3, 3, 3, 3, 2, 0, 3, 3, 3, 3, 1, 1, 3, 3, 2, 0, 1, 1, 3, 3, 3, 3, 0, 2, 2, 1, 3, 3, 1, 1, 3, 3, 1, 1, 1, 3, 1, 3, 3, 3, 3, 3, 1, 3, 1, 3, 1, 1, 1, 3, 1, 3, 1, 3, 2, 3, 3, 3, 3, 3, 4, 2, 1, 3, 1, 1, 3, 3, 3, 0, 3, 1, 1, 1, 0, 1, 1, 1, 3, 3, 2, 0, 1, 2, 1, 3, 3, 3, 1, 3, 3, 3, 3, 2, 1, 2, 3, 0, 1, 3, 3, 3, 3, 3, 0, 3, 1, 1, 3, 1, 1, 3, 1, 3, 3, 1, 3, 3, 3, 1, 1, 0, 0, 1, 3, 3, 2, 3, 3, 1, 3, 1, 1, 3, 3, 3, 1, 2, 3, 2, 3, 2, 3, 3, 3, 1, 2, 1, 2, 1, 0, 3, 3, 2, 3, 3, 3, 2, 1, 3, 3, 1, 1, 3, 1, 1, 3, 3, 2, 3, 1, 1, 3, 3, 0, 3, 3, 1, 1, 1, 0, 3, 3, 3, 3, 1, 3, 3, 3, 3, 4, 3, 0, 3, 3, 1, 0, 0, 1, 1, 1, 1, 0, 3, 3, 3, 3, 3, 1, 3, 3, 3, 3, 3, 3, 3, 3, 1, 3, 0, 3, 3, 3, 3, 3, 3, 1, 3, 1, 3, 3, 3, 3, 3, 4, 1, 3, 2, 3, 3, 1, 1, 3, 3, 3, 3, 3, 0, 2, 1, 3, 3, 2, 3, 3, 1, 1, 3, 1, 3, 1, 1, 2, 3, 2, 3, 3, 1, 2, 1, 3, 1, 1, 1, 1, 0, 3, 3, 1, 3, 1, 3, 3, 3, 3, 2, 3, 0, 3, 3, 3, 3, 1, 3, 1, 1, 3, 3, 3, 3, 1, 3, 3, 1, 1, 3, 3, 1, 1, 1, 3, 3, 1, 3, 3, 1, 3, 3, 0, 1, 1, 3, 3, 1, 3, 3, 3, 2, 3, 3, 3, 1, 3, 3, 3, 3, 3, 0, 3, 3, 3, 3, 1, 3, 3, 0, 1, 1, 3, 1, 1, 3, 3, 3, 0, 3, 1, 3, 1, 3, 3, 1, 3, 1, 3, 3, 1, 1, 1, 1, 3, 3, 1, 3, 1, 3, 3, 3, 3, 3, 3, 3, 4, 3, 3, 4, 3, 3, 2, 1, 1, 1, 1, 3, 1, 3, 3, 3, 3, 3, 1, 1, 3, 2, 3, 0, 3, 3, 3, 3, 3, 1, 2, 3, 3, 1, 3, 2, 3, 3, 3, 3, 3, 3, 3, 1, 3, 3, 1, 1, 3, 3, 1, 1, 1, 1, 3, 3, 3, 1, 4, 3, 3, 0, 1, 3, 3, 4, 3, 1, 3, 3, 0, 3, 3, 1, 1, 3, 1, 2, 1, 1, 1, 3, 3, 3, 3, 3, 3, 3, 3, 3, 1, 3, 1, 3, 3, 3, 3, 1, 3, 0, 0, 1, 3, 3, 1, 1, 3, 3, 1, 1, 1, 1, 3, 3, 1, 3, 1, 3, 0, 1, 0, 3, 3, 3, 2, 1, 4, 2, 1, 3, 0, 3, 3, 1, 3, 1, 1, 3, 0, 1, 3, 3, 1, 3, 1, 2, 0, 3, 1, 0, 1, 3, 1, 3, 1, 1, 2, 3, 2, 2, 3, 3, 3, 1, 3, 0, 2, 3, 0, 2, 3, 3, 3, 1, 3, 3, 3, 1, 3, 3, 3, 3, 3, 1, 3, 1, 0, 0, 3, 4, 3, 1, 3, 1, 1, 0, 3, 1, 3, 3, 1, 1, 3, 1, 1, 3, 3, 3, 1, 0, 3, 3, 1, 3, 1, 1, 0, 1, 3, 3, 1, 3, 1, 2, 3, 1, 1, 2, 3, 0, 3, 1, 3, 0, 2, 3, 3, 1, 3, 3, 1, 0, 3, 3, 3, 0, 1, 3, 3, 1, 1, 1, 1, 3, 3, 3, 1, 3, 1, 1, 3, 3, 2, 1, 3, 3, 3, 3, 3, 1, 3, 3, 1, 3, 3, 3, 3, 1, 2, 3, 1, 3, 3, 3, 4, 1, 3, 2, 1, 3, 3, 2, 3, 1, 1, 1, 1, 3, 3, 3, 1, 3, 3, 1, 3, 1, 1, 3, 0, 3, 3, 2, 1, 1, 3, 3, 3, 3, 1, 1, 3, 1, 3, 1, 0, 2, 3, 3, 1, 3, 3, 1, 0, 3, 3, 1, 3, 1, 3, 3, 3, 3, 3, 2, 1, 1, 0, 3, 3, 2, 1, 4, 3, 3, 3, 0, 3, 1, 3, 1, 1, 1, 3, 3, 0, 2, 3, 3, 2, 1, 1, 3, 1, 1, 1, 1, 1, 1, 3, 3, 3, 3, 3, 3, 3, 3, 1, 3, 1, 3, 2, 3, 3, 3, 3, 3, 2, 3, 0, 1, 3, 1, 1, 3, 3, 3, 3, 3, 3, 3, 3, 3, 1, 3, 3, 4, 3, 2, 2, 1, 3, 1, 2, 1, 2, 1, 1, 3, 3, 2, 3, 3, 1, 2, 3, 0, 2, 3, 3, 1, 1, 1, 0, 3, 3, 3, 3, 3, 3, 3, 2, 3, 3, 2, 3, 3, 1, 3, 3, 1, 3, 2, 1, 1, 3, 3, 3, 3, 3, 3, 3, 3, 1, 0, 3, 3, 1, 3, 3, 0, 3, 3, 3, 1, 3, 3, 3, 3, 3, 2, 1, 3, 3, 1, 3, 3, 1, 2, 2, 3, 3, 1, 3, 3, 3, 3, 3, 1, 4, 3, 2, 3, 3, 1, 2, 1, 1, 1, 4, 3, 3, 2, 3, 3, 2, 2, 1, 2, 1, 3, 2, 3, 3, 3, 3, 3, 3, 3, 3, 3, 2, 3, 3, 3, 3, 1, 3, 1, 2, 3, 1, 0, 3, 1, 3, 2, 0, 3, 3, 3, 3, 3, 1, 1, 3, 3, 1, 3, 3, 3, 3, 3, 3, 3, 1, 3, 3, 1, 1, 1, 1, 1, 1, 3, 3, 3, 3, 3, 3, 3, 3, 1, 3, 3, 1, 1, 3, 3, 1, 1, 3, 2, 2, 4, 3, 1, 1, 1, 1, 3, 3, 1, 2, 3, 3, 3, 1, 3, 1, 3, 1, 1, 1, 3, 3, 1, 3, 3, 1, 3, 3, 0, 1, 1, 1, 3, 3, 3, 0, 3, 3, 1, 0, 3, 3, 3, 1, 3, 0, 3, 1, 3, 3, 3, 3, 3, 1, 3, 3, 3, 3, 1, 1, 3, 1, 1, 1, 1, 1, 3, 1, 1, 1, 4, 3, 3, 1, 0, 3, 3, 1, 3, 1, 3, 3, 1, 3, 0, 1, 3, 3, 3, 2, 4, 1, 1, 3, 3, 3, 3, 3, 3, 3, 1, 3, 2, 3, 2, 3, 1, 3, 3, 3, 3, 3, 3, 3, 3, 2, 3, 3, 3, 2, 2, 3, 3, 1, 1, 1, 3, 3, 2, 3, 3, 3, 2, 1, 3, 3, 3, 3, 3, 3, 3, 2, 1, 1, 1, 1, 3, 3, 3, 1, 2, 1, 1, 0, 3, 3, 3, 1, 3, 3, 1, 3, 3, 3, 3, 3, 3, 1, 3, 3, 0, 1, 3, 1, 3, 1, 3, 3, 3, 3, 3, 1, 1, 3, 2, 0, 3, 0, 3, 3, 3, 2, 1, 1, 1, 1, 1, 3, 1, 1, 1, 1, 3, 1, 3, 3, 3, 3, 3, 3, 3, 0, 1, 3, 1, 3, 1, 3, 3, 2, 3, 1, 3, 1, 2, 3, 1, 3, 3, 3, 1, 1, 1, 3, 0, 3, 3, 3, 1, 0, 2, 0, 0, 3, 1, 0, 2, 3, 2, 1, 3, 1, 1, 1, 3, 3, 3, 3, 1, 3, 3, 2, 3, 0, 3, 2, 3, 3, 1, 3, 1, 4, 3, 3, 3, 1, 3, 1, 3, 3, 1, 3, 1, 3, 3, 3, 1, 3, 3, 3, 3, 3, 3, 3, 3, 3, 1, 3, 3, 3, 3, 3, 3, 3, 3, 3, 3, 3, 3, 2, 2, 1, 1, 1, 3, 1, 1, 1, 1, 3, 3, 3, 1, 1, 1, 3, 3, 1, 1, 1, 1, 1, 3, 1, 3, 1, 3, 4, 1, 3, 3, 2, 1, 3, 3, 4, 3, 3, 3, 4, 3, 1, 3, 3, 2, 2, 3]\n"
     ]
    }
   ],
   "source": [
    "pred_labels = model.predict(X_test)\n",
    "pred_labels = np.argmax(pred_labels, axis=1).tolist()\n",
    "print(pred_labels)"
   ]
  },
  {
   "cell_type": "code",
   "execution_count": 27,
   "id": "3fc78ce6",
   "metadata": {},
   "outputs": [
    {
     "name": "stdout",
     "output_type": "stream",
     "text": [
      "59/59 [==============================] - 6s 95ms/step - loss: 3.2325 - accuracy: 0.5342\n"
     ]
    },
    {
     "data": {
      "text/plain": [
       "[3.232473134994507, 0.5342174768447876]"
      ]
     },
     "execution_count": 27,
     "metadata": {},
     "output_type": "execute_result"
    }
   ],
   "source": [
    "model.evaluate(X_test,y_test)"
   ]
  },
  {
   "cell_type": "code",
   "execution_count": null,
   "id": "a34878c0",
   "metadata": {},
   "outputs": [],
   "source": []
  }
 ],
 "metadata": {
  "kernelspec": {
   "display_name": "Python 3 (ipykernel)",
   "language": "python",
   "name": "python3"
  },
  "language_info": {
   "codemirror_mode": {
    "name": "ipython",
    "version": 3
   },
   "file_extension": ".py",
   "mimetype": "text/x-python",
   "name": "python",
   "nbconvert_exporter": "python",
   "pygments_lexer": "ipython3",
   "version": "3.9.16"
  }
 },
 "nbformat": 4,
 "nbformat_minor": 5
}
