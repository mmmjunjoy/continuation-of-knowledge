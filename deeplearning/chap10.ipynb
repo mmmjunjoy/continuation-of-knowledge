{
  "cells": [
    {
      "cell_type": "markdown",
      "metadata": {
        "id": "rLyx0NKfjbcR"
      },
      "source": [
        "이 노트북은 [케라스 창시자에게 배우는 딥러닝 2판](https://tensorflow.blog/kerasdl2/)의 예제 코드를 담고 있습니다.\n",
        "\n",
        "<table align=\"left\">\n",
        "    <tr>\n",
        "        <td>\n",
        "            <a href=\"https://colab.research.google.com/github/rickiepark/deep-learning-with-python-2nd/blob/main/chapter10_dl-for-timeseries.ipynb\" target=\"_parent\"><img src=\"https://colab.research.google.com/assets/colab-badge.svg\" alt=\"Open In Colab\"/></a>\n",
        "        </td>\n",
        "    </tr>\n",
        "</table>"
      ]
    },
    {
      "cell_type": "markdown",
      "metadata": {
        "id": "-jmgSYTnjbcU"
      },
      "source": [
        "# 시계열을 위한 딥러닝"
      ]
    },
    {
      "cell_type": "markdown",
      "metadata": {
        "id": "yqfO6TQzjbcV"
      },
      "source": [
        "## 다양한 종류의 시계열 작업"
      ]
    },
    {
      "cell_type": "markdown",
      "metadata": {
        "id": "rMlIvey2jbcV"
      },
      "source": [
        "## 기온 예측 문제"
      ]
    },
    {
      "cell_type": "code",
      "execution_count": null,
      "metadata": {
        "execution": {
          "iopub.execute_input": "2022-05-20T13:26:55.453195Z",
          "iopub.status.busy": "2022-05-20T13:26:55.452690Z",
          "iopub.status.idle": "2022-05-20T13:26:58.879200Z",
          "shell.execute_reply": "2022-05-20T13:26:58.877667Z"
        },
        "id": "aUCXJRQgjbcV",
        "outputId": "014498c8-5830-442d-f558-35227efaafac",
        "colab": {
          "base_uri": "https://localhost:8080/"
        }
      },
      "outputs": [
        {
          "output_type": "stream",
          "name": "stdout",
          "text": [
            "--2023-05-24 11:05:36--  https://s3.amazonaws.com/keras-datasets/jena_climate_2009_2016.csv.zip\n",
            "Resolving s3.amazonaws.com (s3.amazonaws.com)... 52.217.206.72, 52.216.37.136, 52.217.107.206, ...\n",
            "Connecting to s3.amazonaws.com (s3.amazonaws.com)|52.217.206.72|:443... connected.\n",
            "HTTP request sent, awaiting response... 200 OK\n",
            "Length: 13565642 (13M) [application/zip]\n",
            "Saving to: ‘jena_climate_2009_2016.csv.zip’\n",
            "\n",
            "jena_climate_2009_2 100%[===================>]  12.94M  43.7MB/s    in 0.3s    \n",
            "\n",
            "2023-05-24 11:05:36 (43.7 MB/s) - ‘jena_climate_2009_2016.csv.zip’ saved [13565642/13565642]\n",
            "\n",
            "Archive:  jena_climate_2009_2016.csv.zip\n",
            "  inflating: jena_climate_2009_2016.csv  \n",
            "  inflating: __MACOSX/._jena_climate_2009_2016.csv  \n"
          ]
        }
      ],
      "source": [
        "!wget https://s3.amazonaws.com/keras-datasets/jena_climate_2009_2016.csv.zip\n",
        "!unzip jena_climate_2009_2016.csv.zip"
      ]
    },
    {
      "cell_type": "markdown",
      "metadata": {
        "id": "C93ZoFD3jbcX"
      },
      "source": [
        "**예나 날씨 데이터셋 조사하기**"
      ]
    },
    {
      "cell_type": "code",
      "execution_count": null,
      "metadata": {
        "execution": {
          "iopub.execute_input": "2022-05-20T13:26:58.883391Z",
          "iopub.status.busy": "2022-05-20T13:26:58.883062Z",
          "iopub.status.idle": "2022-05-20T13:26:59.026206Z",
          "shell.execute_reply": "2022-05-20T13:26:59.025347Z"
        },
        "id": "Z-0eD31YjbcX",
        "outputId": "a35ffb6e-0a7d-454a-dbf6-d1581ba9c845",
        "colab": {
          "base_uri": "https://localhost:8080/"
        }
      },
      "outputs": [
        {
          "output_type": "stream",
          "name": "stdout",
          "text": [
            "['\"Date Time\"', '\"p (mbar)\"', '\"T (degC)\"', '\"Tpot (K)\"', '\"Tdew (degC)\"', '\"rh (%)\"', '\"VPmax (mbar)\"', '\"VPact (mbar)\"', '\"VPdef (mbar)\"', '\"sh (g/kg)\"', '\"H2OC (mmol/mol)\"', '\"rho (g/m**3)\"', '\"wv (m/s)\"', '\"max. wv (m/s)\"', '\"wd (deg)\"']\n",
            "420451\n"
          ]
        }
      ],
      "source": [
        "import os\n",
        "fname = os.path.join(\"jena_climate_2009_2016.csv\")\n",
        "\n",
        "with open(fname) as f:\n",
        "    data = f.read()   # 파일 내용을 읽고 ,'data'변수에 저장한다. -> f.read() 함수는 파일 내용을 문자열로 반환한다.\n",
        "\n",
        "lines = data.split(\"\\n\")   # 줄 바꿈 기준으로 나누어 리스트\"lines\"에 저장한다. \n",
        "header = lines[0].split(\",\")  #lines 리스트의 첫 번째 요소를 가져와서 쉼표(,)를 기준으로 분리하여 리스트 header에 저장합니다. 이로써 헤더(열 이름)가 리스트 형태로 저장됩니다.\n",
        "lines = lines[1:]    # lines에서 첫번쨰 요소를 제외한 나머지 요소들을 저장한 것 -> 데이터줄들을 말한다.\n",
        "print(header) # header를 보여준다 \n",
        "print(len(lines))  #데이터 줄의 개수 "
      ]
    },
    {
      "cell_type": "markdown",
      "metadata": {
        "id": "kRnwyaNijbcY"
      },
      "source": [
        "**데이터 파싱**"
      ]
    },
    {
      "cell_type": "code",
      "execution_count": null,
      "metadata": {
        "execution": {
          "iopub.execute_input": "2022-05-20T13:26:59.030213Z",
          "iopub.status.busy": "2022-05-20T13:26:59.029492Z",
          "iopub.status.idle": "2022-05-20T13:27:00.936580Z",
          "shell.execute_reply": "2022-05-20T13:27:00.935499Z"
        },
        "id": "FiZFxhiCjbcY"
      },
      "outputs": [],
      "source": [
        "import numpy as np\n",
        "temperature = np.zeros((len(lines),))  # 1차원 배열을 생성한다.\n",
        "raw_data = np.zeros((len(lines), len(header) - 1))  # 온도를 제외한 값을 저장하는 배열 , 2차원 배열 생성\n",
        "for i, line in enumerate(lines):\n",
        "    values = [float(x) for x in line.split(\",\")[1:]]  # 첫번쨰 열(날짜)을 제외환 나머지 열의 값을 가져와서 부동 소수점으로 변환 \n",
        "    temperature[i] = values[1]  # 두번째 값(온도)을 저장한다\n",
        "    raw_data[i, :] = values[:]  # 온도를 제외한 나머지 값들을 저장한다."
      ]
    },
    {
      "cell_type": "markdown",
      "metadata": {
        "id": "b1MbsjsljbcZ"
      },
      "source": [
        "**전체 기온을 그래프로 그리기**"
      ]
    },
    {
      "cell_type": "code",
      "execution_count": null,
      "metadata": {
        "execution": {
          "iopub.execute_input": "2022-05-20T13:27:00.940623Z",
          "iopub.status.busy": "2022-05-20T13:27:00.940326Z",
          "iopub.status.idle": "2022-05-20T13:27:02.011631Z",
          "shell.execute_reply": "2022-05-20T13:27:02.010321Z"
        },
        "id": "o6gAh5ecjbcZ",
        "outputId": "afdf2c6b-4ebe-4460-c0db-325dfd890eb2",
        "colab": {
          "base_uri": "https://localhost:8080/",
          "height": 434
        }
      },
      "outputs": [
        {
          "output_type": "display_data",
          "data": {
            "text/plain": [
              "<Figure size 640x480 with 1 Axes>"
            ],
            "image/png": "[encoded data removed]"
          },
          "metadata": {}
        }
      ],
      "source": [
        "from matplotlib import pyplot as plt  # pyplot 데이터를 시각화하는 함수들을 제공한다.\n",
        "plt.plot(range(len(temperature)), temperature) # x축과 y축 설정해주기\n",
        "plt.show()"
      ]
    },
    {
      "cell_type": "markdown",
      "metadata": {
        "id": "aALKlaFJjbcZ"
      },
      "source": [
        "**처음 10일간의 기온을 그래프로 그리기**"
      ]
    },
    {
      "cell_type": "code",
      "execution_count": null,
      "metadata": {
        "execution": {
          "iopub.execute_input": "2022-05-20T13:27:02.015866Z",
          "iopub.status.busy": "2022-05-20T13:27:02.015374Z",
          "iopub.status.idle": "2022-05-20T13:27:02.123996Z",
          "shell.execute_reply": "2022-05-20T13:27:02.122754Z"
        },
        "id": "FGPdWjXujbca",
        "outputId": "4d3fe5ee-b29b-40e6-cffb-d74425110acf",
        "colab": {
          "base_uri": "https://localhost:8080/",
          "height": 430
        }
      },
      "outputs": [
        {
          "output_type": "display_data",
          "data": {
            "text/plain": [
              "<Figure size 640x480 with 1 Axes>"
            ],
            "image/png": "[encoded data removed]"
          },
          "metadata": {}
        }
      ],
      "source": [
        "plt.plot(range(1440), temperature[:1440]) # x축 ,y축 정하기\n",
        "plt.show()"
      ]
    },
    {
      "cell_type": "markdown",
      "metadata": {
        "id": "QaZN550Xjbca"
      },
      "source": [
        "**각 분할에 사용할 샘플 수 계산하기**"
      ]
    },
    {
      "cell_type": "code",
      "execution_count": null,
      "metadata": {
        "execution": {
          "iopub.execute_input": "2022-05-20T13:27:02.128070Z",
          "iopub.status.busy": "2022-05-20T13:27:02.127766Z",
          "iopub.status.idle": "2022-05-20T13:27:02.133998Z",
          "shell.execute_reply": "2022-05-20T13:27:02.132864Z"
        },
        "id": "YG7JjzJtjbca",
        "outputId": "77fe6df8-69c5-497a-8f69-68c54850ae00",
        "colab": {
          "base_uri": "https://localhost:8080/"
        }
      },
      "outputs": [
        {
          "output_type": "stream",
          "name": "stdout",
          "text": [
            "num_train_samples: 210225\n",
            "num_val_samples: 105112\n",
            "num_test_samples: 105114\n"
          ]
        }
      ],
      "source": [
        "num_train_samples = int(0.5 * len(raw_data))  # raw_data의 50퍼센트를 train에 저장하기위한 샘플 개수 \n",
        "num_val_samples = int(0.25 * len(raw_data))   # 25퍼센트를 val에 저장하기 위한 개수\n",
        "num_test_samples = len(raw_data) - num_train_samples - num_val_samples # 학습과 검증 데이터를 뺸것\n",
        "print(\"num_train_samples:\", num_train_samples)  \n",
        "print(\"num_val_samples:\", num_val_samples)\n",
        "print(\"num_test_samples:\", num_test_samples)"
      ]
    },
    {
      "cell_type": "markdown",
      "metadata": {
        "id": "B-GzlCYCjbcb"
      },
      "source": [
        "### 데이터 준비"
      ]
    },
    {
      "cell_type": "markdown",
      "metadata": {
        "id": "gsmS_D67jbcb"
      },
      "source": [
        "**데이터 정규화**"
      ]
    },
    {
      "cell_type": "code",
      "execution_count": null,
      "metadata": {
        "execution": {
          "iopub.execute_input": "2022-05-20T13:27:02.137634Z",
          "iopub.status.busy": "2022-05-20T13:27:02.137353Z",
          "iopub.status.idle": "2022-05-20T13:27:02.191157Z",
          "shell.execute_reply": "2022-05-20T13:27:02.189956Z"
        },
        "id": "5BhCfjkrjbcb"
      },
      "outputs": [],
      "source": [
        "mean = raw_data[:num_train_samples].mean(axis=0)\n",
        "raw_data -= mean\n",
        "std = raw_data[:num_train_samples].std(axis=0) \n",
        "raw_data /= std   #정규화 하는 것"
      ]
    },
    {
      "cell_type": "code",
      "execution_count": null,
      "metadata": {
        "execution": {
          "iopub.execute_input": "2022-05-20T13:27:02.195344Z",
          "iopub.status.busy": "2022-05-20T13:27:02.195011Z",
          "iopub.status.idle": "2022-05-20T13:27:02.314820Z",
          "shell.execute_reply": "2022-05-20T13:27:02.312523Z"
        },
        "id": "sgoxHRsPjbcb",
        "outputId": "27b0b87c-fbd5-43ce-c8e5-a777407609da",
        "colab": {
          "base_uri": "https://localhost:8080/"
        }
      },
      "outputs": [
        {
          "output_type": "stream",
          "name": "stdout",
          "text": [
            "inputs.shape=(5, 2), targets.shape=(5,)\n",
            "[0, 1] 3\n",
            "[1, 2] 4\n",
            "[2, 3] 5\n",
            "[3, 4] 6\n",
            "[4, 5] 7\n",
            "inputs.shape=(1, 2), targets.shape=(1,)\n",
            "[5, 6] 8\n"
          ]
        }
      ],
      "source": [
        "import numpy as np\n",
        "from tensorflow import keras\n",
        "\n",
        "# 코드해석\n",
        "\n",
        "#keras.utils.timeseries_dataset_from_array() 함수를 사용하여 시계열 데이터셋을 생성합니다.\n",
        "#data=int_sequence[:-3]는 int_sequence 배열의 처음부터 뒤에서 3번째까지의 요소를 데이터로 사용합니다. 즉, [0, 1, 2, 3, 4, 5, 6]가 입력 데이터로 사용됩니다.\n",
        "#targets=int_sequence[3:]는 int_sequence 배열의 3번째 요소부터 마지막 요소까지를 타겟으로 사용합니다. 즉, [3, 4, 5, 6, 7, 8, 9]가 타겟 데이터로 사용됩니다.\n",
        "#sequence_length=3은 시계열 데이터 포인트의 길이를 설정합니다. 여기서는 각 데이터 포인트가 3개의 연속된 값으로 구성됩니다.\n",
        "#batch_size=2는 데이터셋의 배치 크기를 설정합니다. 여기서는 2개의 데이터 포인트로 구성된 배치가 생성됩니다.\n",
        "\n",
        "int_sequence = np.arange(10)  #0-9까지 이루어진 배열\n",
        "dummy_dataset = keras.utils.timeseries_dataset_from_array(  # timeseries_dataset_from_array ->dummy  dataset을 생성\n",
        "    data=int_sequence[:-3],   # -> 0-6까지 \n",
        "    targets=int_sequence[3:],   # 4번쨰 요소부터 끝까지 사용한다.  #?\n",
        "    sequence_length=2,\n",
        "    batch_size=5,   \n",
        ")\n",
        "\n",
        "for inputs, targets in dummy_dataset:  # input 이 data , targets -> targets이다.  즉 , timeseries 의 return값은 두개이다.\n",
        "    print(f\"inputs.shape={inputs.shape}, targets.shape={targets.shape}\")\n",
        "    for i in range(inputs.shape[0]): #input_shape[0] 이 batchsize크기이다?\n",
        "        print([int(x) for x in inputs[i]], int(targets[i]))   # [int(x) for x in inputs[i]]: inputs[i]에 있는 값을 정수로 변환하여 리스트로 출력합니다. 입력 데이터 시퀀스의 모든 값들이 출력"
      ]
    },
    {
      "cell_type": "code",
      "source": [
        "#교수님 추가 코드\n",
        "\n",
        "import numpy as np\n",
        "from tensorflow import keras\n",
        "int_sequence = np.arange(100)\n",
        "sampling_rate = 3  # sample_rate : 샘플링 속도 , 데이터 포인트 간의 간격을 나타낸다.\n",
        "sequence_len = 5  \n",
        "delay = sampling_rate * (sequence_len + 4 - 1)  # delay를 추가함\n",
        "print(f\"delay={delay}\")\n",
        "dummy_dataset = keras.utils.timeseries_dataset_from_array(\n",
        "    data=int_sequence[:-delay],  \n",
        "    targets=int_sequence[delay:],\n",
        "    sampling_rate = sampling_rate,\n",
        "    sequence_length=sequence_len,\n",
        "    batch_size=2,\n",
        "    start_index = 10,  # 인덱스 10-50까지 쓰겠다.    \n",
        "    end_index = 50\n",
        ")\n",
        "\n",
        "#shuffle =True를 추가할수도 있다.\n",
        "\n",
        "for inputs, targets in dummy_dataset:\n",
        "    print(f\"inputs.shape={inputs.shape}, targets.shape={targets.shape}\")\n",
        "    for i in range(inputs.shape[0]):  # inputs.shape[0]이 batchsize 크기이다. 그래서 2개씩 나오는 것이다.\n",
        "        print([int(x) for x in inputs[i]], int(targets[i]))\n",
        "\n",
        "\n",
        "        #10이 14개\n",
        "       #[10, 12, 14, 16, 18] 이게 120개\n",
        "       # 26 이 256개이다.\n"
      ],
      "metadata": {
        "colab": {
          "base_uri": "https://localhost:8080/"
        },
        "id": "nxfDsdz3xq1a",
        "outputId": "89ad3bbc-cf1c-4d03-c4c0-2da568721d0c"
      },
      "execution_count": null,
      "outputs": [
        {
          "output_type": "stream",
          "name": "stdout",
          "text": [
            "delay=24\n",
            "inputs.shape=(2, 5), targets.shape=(2,)\n",
            "[10, 13, 16, 19, 22] 34\n",
            "[11, 14, 17, 20, 23] 35\n",
            "inputs.shape=(2, 5), targets.shape=(2,)\n",
            "[12, 15, 18, 21, 24] 36\n",
            "[13, 16, 19, 22, 25] 37\n",
            "inputs.shape=(2, 5), targets.shape=(2,)\n",
            "[14, 17, 20, 23, 26] 38\n",
            "[15, 18, 21, 24, 27] 39\n",
            "inputs.shape=(2, 5), targets.shape=(2,)\n",
            "[16, 19, 22, 25, 28] 40\n",
            "[17, 20, 23, 26, 29] 41\n",
            "inputs.shape=(2, 5), targets.shape=(2,)\n",
            "[18, 21, 24, 27, 30] 42\n",
            "[19, 22, 25, 28, 31] 43\n",
            "inputs.shape=(2, 5), targets.shape=(2,)\n",
            "[20, 23, 26, 29, 32] 44\n",
            "[21, 24, 27, 30, 33] 45\n",
            "inputs.shape=(2, 5), targets.shape=(2,)\n",
            "[22, 25, 28, 31, 34] 46\n",
            "[23, 26, 29, 32, 35] 47\n",
            "inputs.shape=(2, 5), targets.shape=(2,)\n",
            "[24, 27, 30, 33, 36] 48\n",
            "[25, 28, 31, 34, 37] 49\n",
            "inputs.shape=(2, 5), targets.shape=(2,)\n",
            "[26, 29, 32, 35, 38] 50\n",
            "[27, 30, 33, 36, 39] 51\n",
            "inputs.shape=(2, 5), targets.shape=(2,)\n",
            "[28, 31, 34, 37, 40] 52\n",
            "[29, 32, 35, 38, 41] 53\n",
            "inputs.shape=(2, 5), targets.shape=(2,)\n",
            "[30, 33, 36, 39, 42] 54\n",
            "[31, 34, 37, 40, 43] 55\n",
            "inputs.shape=(2, 5), targets.shape=(2,)\n",
            "[32, 35, 38, 41, 44] 56\n",
            "[33, 36, 39, 42, 45] 57\n",
            "inputs.shape=(2, 5), targets.shape=(2,)\n",
            "[34, 37, 40, 43, 46] 58\n",
            "[35, 38, 41, 44, 47] 59\n"
          ]
        }
      ]
    },
    {
      "cell_type": "markdown",
      "metadata": {
        "id": "n_d8n6Yqjbcb"
      },
      "source": [
        "**훈련, 검증, 테스트 데이터셋 만들기**"
      ]
    },
    {
      "cell_type": "code",
      "execution_count": null,
      "metadata": {
        "execution": {
          "iopub.execute_input": "2022-05-20T13:27:02.318918Z",
          "iopub.status.busy": "2022-05-20T13:27:02.318531Z",
          "iopub.status.idle": "2022-05-20T13:27:02.483352Z",
          "shell.execute_reply": "2022-05-20T13:27:02.482263Z"
        },
        "id": "uts3EvXajbcc"
      },
      "outputs": [],
      "source": [
        "sampling_rate = 6   # 10분당 하나가 6개니까  1시간당 하나로\n",
        "sequence_length = 120  # 끊어서 관찰을 하는데 , 이때 120개에 대해서\n",
        "delay = sampling_rate * (sequence_length + 24 - 1) # 하루 뒤의 온도를 예측하고 싶은 것\n",
        "batch_size = 256\n",
        "\n",
        "\n",
        "#traindata\n",
        "train_dataset = keras.utils.timeseries_dataset_from_array(  #t imeseries_dataset_from_array : \n",
        "    raw_data[:-delay],\n",
        "    targets=temperature[delay:],\n",
        "    sampling_rate=sampling_rate,  # 원래 있는 것을 쓰는 것\n",
        "    sequence_length=sequence_length,\n",
        "    shuffle=True,  #이 안에서는 섞을 수 있다. , 전체 다 섞는 것은 아니다.\n",
        "    batch_size=batch_size,\n",
        "    start_index=0,\n",
        "    end_index=num_train_samples)\n",
        "\n",
        "#valdata\n",
        "val_dataset = keras.utils.timeseries_dataset_from_array(\n",
        "    raw_data[:-delay],\n",
        "    targets=temperature[delay:],\n",
        "    sampling_rate=sampling_rate,\n",
        "    sequence_length=sequence_length,\n",
        "    shuffle=True,\n",
        "    batch_size=batch_size,\n",
        "    start_index=num_train_samples,\n",
        "    end_index=num_train_samples + num_val_samples)\n",
        "\n",
        "# testdata\n",
        "test_dataset = keras.utils.timeseries_dataset_from_array(\n",
        "    raw_data[:-delay],\n",
        "    targets=temperature[delay:],\n",
        "    sampling_rate=sampling_rate,\n",
        "    sequence_length=sequence_length,\n",
        "    shuffle=True,\n",
        "    batch_size=batch_size,\n",
        "    start_index=num_train_samples + num_val_samples)"
      ]
    },
    {
      "cell_type": "markdown",
      "metadata": {
        "id": "dZNUb2s2jbcc"
      },
      "source": [
        "**훈련 데이터셋의 배치 크기 확인하기**"
      ]
    },
    {
      "cell_type": "code",
      "execution_count": null,
      "metadata": {
        "execution": {
          "iopub.execute_input": "2022-05-20T13:27:02.487516Z",
          "iopub.status.busy": "2022-05-20T13:27:02.487209Z",
          "iopub.status.idle": "2022-05-20T13:27:02.708306Z",
          "shell.execute_reply": "2022-05-20T13:27:02.707147Z"
        },
        "id": "pC_5Co8Zjbcc",
        "outputId": "27a673d4-1412-4b33-b453-6548a17f1bdf",
        "colab": {
          "base_uri": "https://localhost:8080/"
        }
      },
      "outputs": [
        {
          "output_type": "stream",
          "name": "stdout",
          "text": [
            "샘플 크기: (256, 120, 14)\n",
            "타깃 크기: (256,)\n"
          ]
        }
      ],
      "source": [
        "for samples, targets in train_dataset:\n",
        "    print(\"샘플 크기:\", samples.shape)  #(batch_size, sequence_length, num_features) 형태로 표시 ,num_features:입력데이터의 특성 개수 # 120:sequencelenght에 의해서 나온다.\n",
        "    print(\"타깃 크기:\", targets.shape)\n",
        "    break"
      ]
    },
    {
      "cell_type": "markdown",
      "metadata": {
        "id": "vdYKKLDjjbcd"
      },
      "source": [
        "### 상식 수준의 기준점"
      ]
    },
    {
      "cell_type": "markdown",
      "metadata": {
        "id": "OABELWY3jbcd"
      },
      "source": [
        "**상식적인 기준 모델의 MAE 계산하기**"
      ]
    },
    {
      "cell_type": "code",
      "execution_count": null,
      "metadata": {
        "execution": {
          "iopub.execute_input": "2022-05-20T13:27:02.712723Z",
          "iopub.status.busy": "2022-05-20T13:27:02.712259Z",
          "iopub.status.idle": "2022-05-20T13:27:12.831040Z",
          "shell.execute_reply": "2022-05-20T13:27:12.829972Z"
        },
        "id": "-ryWeRYljbcd",
        "outputId": "2693ef74-508d-4752-d130-8df86c409918",
        "colab": {
          "base_uri": "https://localhost:8080/"
        }
      },
      "outputs": [
        {
          "output_type": "stream",
          "name": "stdout",
          "text": [
            "검증 MAE: 2.44\n",
            "테스트 MAE: 2.62\n"
          ]
        }
      ],
      "source": [
        "def evaluate_naive_method(dataset):\n",
        "    total_abs_err = 0.\n",
        "    samples_seen = 0\n",
        "    for samples, targets in dataset:\n",
        "        preds = samples[:, -1, 1] * std[1] + mean[1]\n",
        "        total_abs_err += np.sum(np.abs(preds - targets))\n",
        "        samples_seen += samples.shape[0]\n",
        "    return total_abs_err / samples_seen\n",
        "\n",
        "print(f\"검증 MAE: {evaluate_naive_method(val_dataset):.2f}\")\n",
        "print(f\"테스트 MAE: {evaluate_naive_method(test_dataset):.2f}\")"
      ]
    },
    {
      "cell_type": "markdown",
      "metadata": {
        "id": "AwYpH902jbcd"
      },
      "source": [
        "### 기본적인 머신 러닝 모델 시도해 보기"
      ]
    },
    {
      "cell_type": "markdown",
      "metadata": {
        "id": "g8shk8fVjbcd"
      },
      "source": [
        "**밀집 연결 모델 훈련하고 평가하기**"
      ]
    },
    {
      "cell_type": "code",
      "execution_count": null,
      "metadata": {
        "execution": {
          "iopub.execute_input": "2022-05-20T13:27:12.835455Z",
          "iopub.status.busy": "2022-05-20T13:27:12.834662Z",
          "iopub.status.idle": "2022-05-20T13:30:16.406591Z",
          "shell.execute_reply": "2022-05-20T13:30:16.405650Z"
        },
        "id": "AnkykZycjbcd",
        "outputId": "e95ea283-2cf9-45ae-95c0-0d498daba85f",
        "colab": {
          "base_uri": "https://localhost:8080/"
        }
      },
      "outputs": [
        {
          "output_type": "stream",
          "name": "stdout",
          "text": [
            "Epoch 1/10\n",
            "819/819 [==============================] - 53s 59ms/step - loss: 13.0748 - mae: 2.7953 - val_loss: 10.6109 - val_mae: 2.5694\n",
            "Epoch 2/10\n",
            "819/819 [==============================] - 39s 48ms/step - loss: 8.9956 - mae: 2.3581 - val_loss: 10.2416 - val_mae: 2.5385\n",
            "Epoch 3/10\n",
            "819/819 [==============================] - 49s 59ms/step - loss: 8.2251 - mae: 2.2569 - val_loss: 10.2003 - val_mae: 2.5293\n",
            "Epoch 4/10\n",
            "819/819 [==============================] - 47s 58ms/step - loss: 7.8313 - mae: 2.2032 - val_loss: 11.4771 - val_mae: 2.6898\n",
            "Epoch 5/10\n",
            "819/819 [==============================] - 39s 47ms/step - loss: 7.5194 - mae: 2.1618 - val_loss: 10.5499 - val_mae: 2.5744\n",
            "Epoch 6/10\n",
            "819/819 [==============================] - 50s 61ms/step - loss: 7.2918 - mae: 2.1300 - val_loss: 10.5035 - val_mae: 2.5672\n",
            "Epoch 7/10\n",
            "819/819 [==============================] - 40s 48ms/step - loss: 7.1077 - mae: 2.1033 - val_loss: 10.5990 - val_mae: 2.5830\n",
            "Epoch 8/10\n",
            "819/819 [==============================] - 40s 48ms/step - loss: 6.9646 - mae: 2.0819 - val_loss: 10.6834 - val_mae: 2.5892\n",
            "Epoch 9/10\n",
            "819/819 [==============================] - 47s 57ms/step - loss: 6.8079 - mae: 2.0563 - val_loss: 11.2529 - val_mae: 2.6631\n",
            "Epoch 10/10\n",
            "819/819 [==============================] - 39s 47ms/step - loss: 6.6719 - mae: 2.0378 - val_loss: 12.4135 - val_mae: 2.8158\n",
            "405/405 [==============================] - 16s 40ms/step - loss: 11.3681 - mae: 2.6637\n",
            "테스트 MAE: 2.66\n"
          ]
        }
      ],
      "source": [
        "from tensorflow import keras\n",
        "from tensorflow.keras import layers\n",
        "\n",
        "inputs = keras.Input(shape=(sequence_length, raw_data.shape[-1]))\n",
        "x = layers.Flatten()(inputs)\n",
        "x = layers.Dense(16, activation=\"relu\")(x)\n",
        "outputs = layers.Dense(1)(x)\n",
        "model = keras.Model(inputs, outputs)\n",
        "\n",
        "callbacks = [\n",
        "    keras.callbacks.ModelCheckpoint(\"jena_dense.keras\",\n",
        "                                    save_best_only=True)\n",
        "]\n",
        "model.compile(optimizer=\"rmsprop\", loss=\"mse\", metrics=[\"mae\"])\n",
        "history = model.fit(train_dataset,\n",
        "                    epochs=10,\n",
        "                    validation_data=val_dataset,\n",
        "                    callbacks=callbacks)\n",
        "\n",
        "model = keras.models.load_model(\"jena_dense.keras\")\n",
        "print(f\"테스트 MAE: {model.evaluate(test_dataset)[1]:.2f}\")"
      ]
    },
    {
      "cell_type": "markdown",
      "metadata": {
        "id": "lmTjKA_qjbce"
      },
      "source": [
        "**결과 그래프 그리기**"
      ]
    },
    {
      "cell_type": "code",
      "execution_count": null,
      "metadata": {
        "execution": {
          "iopub.execute_input": "2022-05-20T13:30:16.410386Z",
          "iopub.status.busy": "2022-05-20T13:30:16.410076Z",
          "iopub.status.idle": "2022-05-20T13:30:16.562302Z",
          "shell.execute_reply": "2022-05-20T13:30:16.561390Z"
        },
        "id": "GE_ngKAZjbce",
        "outputId": "c86d726b-1cb6-4bf1-f459-36fa3dfb27a8",
        "colab": {
          "base_uri": "https://localhost:8080/",
          "height": 452
        }
      },
      "outputs": [
        {
          "output_type": "display_data",
          "data": {
            "text/plain": [
              "<Figure size 640x480 with 1 Axes>"
            ],
            "image/png": "[encoded data removed]"
          },
          "metadata": {}
        }
      ],
      "source": [
        "import matplotlib.pyplot as plt\n",
        "loss = history.history[\"mae\"]\n",
        "val_loss = history.history[\"val_mae\"]\n",
        "epochs = range(1, len(loss) + 1)\n",
        "plt.figure()\n",
        "plt.plot(epochs, loss, \"bo\", label=\"Training MAE\")\n",
        "plt.plot(epochs, val_loss, \"b\", label=\"Validation MAE\")\n",
        "plt.title(\"Training and validation MAE\")\n",
        "plt.legend()\n",
        "plt.show()"
      ]
    },
    {
      "cell_type": "markdown",
      "metadata": {
        "id": "nHd3-Y89jbce"
      },
      "source": [
        "### 1D 합성곱 모델 시도해 보기"
      ]
    },
    {
      "cell_type": "code",
      "execution_count": null,
      "metadata": {
        "execution": {
          "iopub.execute_input": "2022-05-20T13:30:16.566194Z",
          "iopub.status.busy": "2022-05-20T13:30:16.565904Z",
          "iopub.status.idle": "2022-05-20T13:35:49.724331Z",
          "shell.execute_reply": "2022-05-20T13:35:49.723349Z"
        },
        "id": "MIodgX8jjbce",
        "outputId": "e20ca6ae-3f56-4a27-f4fd-a93c1e38d431",
        "colab": {
          "base_uri": "https://localhost:8080/"
        }
      },
      "outputs": [
        {
          "output_type": "stream",
          "name": "stdout",
          "text": [
            "Epoch 1/10\n",
            "819/819 [==============================] - 50s 52ms/step - loss: 22.2101 - mae: 3.7126 - val_loss: 15.2695 - val_mae: 3.0717\n",
            "Epoch 2/10\n",
            "819/819 [==============================] - 49s 59ms/step - loss: 15.6496 - mae: 3.1449 - val_loss: 13.9443 - val_mae: 2.9602\n",
            "Epoch 3/10\n",
            "819/819 [==============================] - 42s 51ms/step - loss: 13.9810 - mae: 2.9651 - val_loss: 15.0292 - val_mae: 3.0905\n",
            "Epoch 4/10\n",
            "819/819 [==============================] - 42s 51ms/step - loss: 13.1703 - mae: 2.8756 - val_loss: 14.7765 - val_mae: 3.0556\n",
            "Epoch 5/10\n",
            "819/819 [==============================] - 42s 51ms/step - loss: 12.6179 - mae: 2.8132 - val_loss: 15.3843 - val_mae: 3.0893\n",
            "Epoch 6/10\n",
            "819/819 [==============================] - 41s 50ms/step - loss: 12.1268 - mae: 2.7582 - val_loss: 14.0364 - val_mae: 2.9509\n",
            "Epoch 7/10\n",
            "819/819 [==============================] - 49s 60ms/step - loss: 11.7192 - mae: 2.7095 - val_loss: 14.3415 - val_mae: 2.9925\n",
            "Epoch 8/10\n",
            "819/819 [==============================] - 41s 50ms/step - loss: 11.3526 - mae: 2.6668 - val_loss: 14.8827 - val_mae: 3.0302\n",
            "Epoch 9/10\n",
            "819/819 [==============================] - 49s 59ms/step - loss: 11.0043 - mae: 2.6217 - val_loss: 14.3771 - val_mae: 2.9921\n",
            "Epoch 10/10\n",
            "819/819 [==============================] - 41s 49ms/step - loss: 10.6971 - mae: 2.5826 - val_loss: 21.2522 - val_mae: 3.6819\n",
            "405/405 [==============================] - 14s 34ms/step - loss: 15.8108 - mae: 3.1542\n",
            "테스트 MAE: 3.15\n"
          ]
        }
      ],
      "source": [
        "inputs = keras.Input(shape=(sequence_length, raw_data.shape[-1]))\n",
        "x = layers.Conv1D(8, 24, activation=\"relu\")(inputs)\n",
        "x = layers.MaxPooling1D(2)(x)\n",
        "x = layers.Conv1D(8, 12, activation=\"relu\")(x)\n",
        "x = layers.MaxPooling1D(2)(x)\n",
        "x = layers.Conv1D(8, 6, activation=\"relu\")(x)\n",
        "x = layers.GlobalAveragePooling1D()(x)\n",
        "outputs = layers.Dense(1)(x)\n",
        "model = keras.Model(inputs, outputs)\n",
        "\n",
        "callbacks = [\n",
        "    keras.callbacks.ModelCheckpoint(\"jena_conv.keras\",\n",
        "                                    save_best_only=True)\n",
        "]\n",
        "model.compile(optimizer=\"rmsprop\", loss=\"mse\", metrics=[\"mae\"])\n",
        "history = model.fit(train_dataset,\n",
        "                    epochs=10,\n",
        "                    validation_data=val_dataset,\n",
        "                    callbacks=callbacks)\n",
        "\n",
        "model = keras.models.load_model(\"jena_conv.keras\")\n",
        "print(f\"테스트 MAE: {model.evaluate(test_dataset)[1]:.2f}\")"
      ]
    },
    {
      "cell_type": "code",
      "execution_count": null,
      "metadata": {
        "execution": {
          "iopub.execute_input": "2022-05-20T13:35:49.728113Z",
          "iopub.status.busy": "2022-05-20T13:35:49.727783Z",
          "iopub.status.idle": "2022-05-20T13:35:49.850064Z",
          "shell.execute_reply": "2022-05-20T13:35:49.849311Z"
        },
        "id": "twXzOJXkjbce",
        "outputId": "867f5764-4457-41ab-f4b4-0a15b00b9251",
        "colab": {
          "base_uri": "https://localhost:8080/",
          "height": 452
        }
      },
      "outputs": [
        {
          "output_type": "display_data",
          "data": {
            "text/plain": [
              "<Figure size 640x480 with 1 Axes>"
            ],
            "image/png": "[encoded data removed]"
          },
          "metadata": {}
        }
      ],
      "source": [
        "loss = history.history[\"mae\"]\n",
        "val_loss = history.history[\"val_mae\"]\n",
        "epochs = range(1, len(loss) + 1)\n",
        "plt.figure()\n",
        "plt.plot(epochs, loss, \"bo\", label=\"Training MAE\")\n",
        "plt.plot(epochs, val_loss, \"b\", label=\"Validation MAE\")\n",
        "plt.title(\"Training and validation MAE\")\n",
        "plt.legend()\n",
        "plt.show()"
      ]
    },
    {
      "cell_type": "markdown",
      "metadata": {
        "id": "SIVEXb7ojbcf"
      },
      "source": [
        "### 첫 번째 순환 신경망"
      ]
    },
    {
      "cell_type": "markdown",
      "metadata": {
        "id": "KGsF8BjGjbcf"
      },
      "source": [
        "**간단한 LSTM 기반 모델**"
      ]
    },
    {
      "cell_type": "code",
      "execution_count": null,
      "metadata": {
        "execution": {
          "iopub.execute_input": "2022-05-20T13:35:49.855589Z",
          "iopub.status.busy": "2022-05-20T13:35:49.855249Z",
          "iopub.status.idle": "2022-05-20T13:46:15.333207Z",
          "shell.execute_reply": "2022-05-20T13:46:15.332248Z"
        },
        "id": "ElIY09G2jbcg",
        "outputId": "eabe6527-d1f1-4617-97eb-98eb5c05ed26",
        "colab": {
          "base_uri": "https://localhost:8080/"
        }
      },
      "outputs": [
        {
          "output_type": "stream",
          "name": "stdout",
          "text": [
            "Epoch 1/10\n",
            "819/819 [==============================] - 48s 55ms/step - loss: 46.8021 - mae: 5.0364 - val_loss: 13.7875 - val_mae: 2.8139\n",
            "Epoch 2/10\n",
            "819/819 [==============================] - 51s 62ms/step - loss: 11.9772 - mae: 2.6720 - val_loss: 9.9880 - val_mae: 2.4614\n",
            "Epoch 3/10\n",
            "819/819 [==============================] - 51s 62ms/step - loss: 10.0734 - mae: 2.4789 - val_loss: 9.8797 - val_mae: 2.4431\n",
            "Epoch 4/10\n",
            "819/819 [==============================] - 44s 53ms/step - loss: 9.6691 - mae: 2.4278 - val_loss: 10.2742 - val_mae: 2.4750\n",
            "Epoch 5/10\n",
            "819/819 [==============================] - 49s 60ms/step - loss: 9.4264 - mae: 2.3949 - val_loss: 10.1531 - val_mae: 2.4629\n",
            "Epoch 6/10\n",
            "819/819 [==============================] - 53s 64ms/step - loss: 9.1874 - mae: 2.3621 - val_loss: 10.1136 - val_mae: 2.4629\n",
            "Epoch 7/10\n",
            "819/819 [==============================] - 43s 52ms/step - loss: 8.9930 - mae: 2.3337 - val_loss: 10.0798 - val_mae: 2.4573\n",
            "Epoch 8/10\n",
            "819/819 [==============================] - 50s 61ms/step - loss: 8.8070 - mae: 2.3064 - val_loss: 10.1273 - val_mae: 2.4604\n",
            "Epoch 9/10\n",
            "819/819 [==============================] - 50s 61ms/step - loss: 8.6721 - mae: 2.2854 - val_loss: 10.1164 - val_mae: 2.4594\n",
            "Epoch 10/10\n",
            "819/819 [==============================] - 48s 58ms/step - loss: 8.5282 - mae: 2.2636 - val_loss: 10.3171 - val_mae: 2.4909\n",
            "405/405 [==============================] - 17s 40ms/step - loss: 10.7684 - mae: 2.5677\n",
            "테스트 MAE: 2.57\n"
          ]
        }
      ],
      "source": [
        "inputs = keras.Input(shape=(sequence_length, raw_data.shape[-1]))\n",
        "x = layers.LSTM(16)(inputs)\n",
        "outputs = layers.Dense(1)(x)\n",
        "model = keras.Model(inputs, outputs)\n",
        "\n",
        "callbacks = [\n",
        "    keras.callbacks.ModelCheckpoint(\"jena_lstm.keras\",\n",
        "                                    save_best_only=True)\n",
        "]\n",
        "model.compile(optimizer=\"rmsprop\", loss=\"mse\", metrics=[\"mae\"])\n",
        "history = model.fit(train_dataset,\n",
        "                    epochs=10,\n",
        "                    validation_data=val_dataset,\n",
        "                    callbacks=callbacks)\n",
        "\n",
        "model = keras.models.load_model(\"jena_lstm.keras\")\n",
        "print(f\"테스트 MAE: {model.evaluate(test_dataset)[1]:.2f}\")"
      ]
    },
    {
      "cell_type": "code",
      "execution_count": null,
      "metadata": {
        "execution": {
          "iopub.execute_input": "2022-05-20T13:46:15.336897Z",
          "iopub.status.busy": "2022-05-20T13:46:15.336598Z",
          "iopub.status.idle": "2022-05-20T13:46:15.462410Z",
          "shell.execute_reply": "2022-05-20T13:46:15.461466Z"
        },
        "id": "EX3qK89tjbcg",
        "outputId": "560a738d-38c8-46dd-9286-dd7e6c0da352",
        "colab": {
          "base_uri": "https://localhost:8080/",
          "height": 452
        }
      },
      "outputs": [
        {
          "output_type": "display_data",
          "data": {
            "text/plain": [
              "<Figure size 640x480 with 1 Axes>"
            ],
            "image/png": "[encoded data removed]"
          },
          "metadata": {}
        }
      ],
      "source": [
        "loss = history.history[\"mae\"]\n",
        "val_loss = history.history[\"val_mae\"]\n",
        "epochs = range(1, len(loss) + 1)\n",
        "plt.figure()\n",
        "plt.plot(epochs, loss, \"bo\", label=\"Training MAE\")\n",
        "plt.plot(epochs, val_loss, \"b\", label=\"Validation MAE\")\n",
        "plt.title(\"Training and validation MAE\")\n",
        "plt.legend()\n",
        "plt.show()"
      ]
    },
    {
      "cell_type": "markdown",
      "metadata": {
        "id": "OjfiTkmOjbcg"
      },
      "source": [
        "## 순환 신경망 이해하기"
      ]
    },
    {
      "cell_type": "markdown",
      "metadata": {
        "id": "11qaJzuKjbcg"
      },
      "source": [
        "**넘파이로 구현한 간단한 RNN**"
      ]
    },
    {
      "cell_type": "code",
      "execution_count": null,
      "metadata": {
        "execution": {
          "iopub.execute_input": "2022-05-20T13:46:15.466402Z",
          "iopub.status.busy": "2022-05-20T13:46:15.466102Z",
          "iopub.status.idle": "2022-05-20T13:46:15.474183Z",
          "shell.execute_reply": "2022-05-20T13:46:15.473353Z"
        },
        "id": "LqYsbiAGjbcg"
      },
      "outputs": [],
      "source": [
        "import numpy as np\n",
        "timesteps = 100\n",
        "input_features = 32\n",
        "output_features = 64\n",
        "inputs = np.random.random((timesteps, input_features))\n",
        "state_t = np.zeros((output_features,))\n",
        "W = np.random.random((output_features, input_features))\n",
        "U = np.random.random((output_features, output_features))\n",
        "b = np.random.random((output_features,))\n",
        "successive_outputs = []\n",
        "for input_t in inputs:\n",
        "    output_t = np.tanh(np.dot(W, input_t) + np.dot(U, state_t) + b) #nn_basic:activation이 있다.(tanh)\n",
        "    successive_outputs.append(output_t)\n",
        "    state_t = output_t\n",
        "final_output_sequence = np.stack(successive_outputs, axis=0)"
      ]
    },
    {
      "cell_type": "markdown",
      "metadata": {
        "id": "m5_JDLW5jbch"
      },
      "source": [
        "### 케라스의 순환 층"
      ]
    },
    {
      "cell_type": "markdown",
      "metadata": {
        "id": "8scRPX8yjbch"
      },
      "source": [
        "**어떤 길이의 시퀀스도 처리할 수 있는 RNN 층**"
      ]
    },
    {
      "cell_type": "code",
      "execution_count": null,
      "metadata": {
        "execution": {
          "iopub.execute_input": "2022-05-20T13:46:15.477895Z",
          "iopub.status.busy": "2022-05-20T13:46:15.477617Z",
          "iopub.status.idle": "2022-05-20T13:46:15.532690Z",
          "shell.execute_reply": "2022-05-20T13:46:15.531842Z"
        },
        "id": "RDRvy-SDjbch"
      },
      "outputs": [],
      "source": [
        "from tensorflow.keras import layers\n",
        "num_features = 14\n",
        "inputs = keras.Input(shape=(None, num_features))\n",
        "outputs = layers.SimpleRNN(16)(inputs)"
      ]
    },
    {
      "cell_type": "code",
      "source": [
        "model = keras.Model(inputs,outputs)\n",
        "model.summary()\n",
        "\n",
        "# (14+1) *16 +16*16 = 496"
      ],
      "metadata": {
        "colab": {
          "base_uri": "https://localhost:8080/"
        },
        "id": "4fVZwRkU8GGH",
        "outputId": "1846d1a6-8e57-4cea-aa90-1947a8db2c81"
      },
      "execution_count": null,
      "outputs": [
        {
          "output_type": "stream",
          "name": "stdout",
          "text": [
            "Model: \"model_3\"\n",
            "_________________________________________________________________\n",
            " Layer (type)                Output Shape              Param #   \n",
            "=================================================================\n",
            " input_4 (InputLayer)        [(None, None, 14)]        0         \n",
            "                                                                 \n",
            " simple_rnn (SimpleRNN)      (None, 16)                496       \n",
            "                                                                 \n",
            "=================================================================\n",
            "Total params: 496\n",
            "Trainable params: 496\n",
            "Non-trainable params: 0\n",
            "_________________________________________________________________\n"
          ]
        }
      ]
    },
    {
      "cell_type": "markdown",
      "metadata": {
        "id": "d_cZi_TVjbch"
      },
      "source": [
        "**마지막 출력 스텝만 반환하는 RNN 층**"
      ]
    },
    {
      "cell_type": "code",
      "execution_count": null,
      "metadata": {
        "execution": {
          "iopub.execute_input": "2022-05-20T13:46:15.536872Z",
          "iopub.status.busy": "2022-05-20T13:46:15.536352Z",
          "iopub.status.idle": "2022-05-20T13:46:15.590222Z",
          "shell.execute_reply": "2022-05-20T13:46:15.589305Z"
        },
        "id": "7OpmWg1yjbch",
        "outputId": "5cd45f2f-fcc2-4942-dd6f-80aea32c89c5",
        "colab": {
          "base_uri": "https://localhost:8080/"
        }
      },
      "outputs": [
        {
          "output_type": "stream",
          "name": "stdout",
          "text": [
            "(None, 16)\n"
          ]
        }
      ],
      "source": [
        "num_features = 14\n",
        "steps = 120     \n",
        "inputs = keras.Input(shape=(steps, num_features))\n",
        "outputs = layers.SimpleRNN(16, return_sequences=False)(inputs)  #16개가 나오는데 , NONE은  BATCHSIZE이다.\n",
        "print(outputs.shape)"
      ]
    },
    {
      "cell_type": "markdown",
      "metadata": {
        "id": "MvXPhL0qjbch"
      },
      "source": [
        "**전체 출력 시퀀스를 반환하는 RNN 층**"
      ]
    },
    {
      "cell_type": "code",
      "execution_count": null,
      "metadata": {
        "execution": {
          "iopub.execute_input": "2022-05-20T13:46:15.594315Z",
          "iopub.status.busy": "2022-05-20T13:46:15.593481Z",
          "iopub.status.idle": "2022-05-20T13:46:15.647526Z",
          "shell.execute_reply": "2022-05-20T13:46:15.646394Z"
        },
        "id": "jDKDaTY9jbch",
        "outputId": "c0adfae8-8f1c-4732-d91a-73ab80d95840",
        "colab": {
          "base_uri": "https://localhost:8080/"
        }
      },
      "outputs": [
        {
          "output_type": "stream",
          "name": "stdout",
          "text": [
            "(None, 120, 16)\n"
          ]
        }
      ],
      "source": [
        "num_features = 14\n",
        "steps = 120\n",
        "inputs = keras.Input(shape=(steps, num_features))\n",
        "outputs = layers.SimpleRNN(16, return_sequences=True)(inputs) #TRUE라 다르다.\n",
        "print(outputs.shape)"
      ]
    },
    {
      "cell_type": "markdown",
      "metadata": {
        "id": "Twps5rVojbch"
      },
      "source": [
        "**스태킹(stacking) RNN 층**"
      ]
    },
    {
      "cell_type": "code",
      "execution_count": null,
      "metadata": {
        "execution": {
          "iopub.execute_input": "2022-05-20T13:46:15.651371Z",
          "iopub.status.busy": "2022-05-20T13:46:15.651069Z",
          "iopub.status.idle": "2022-05-20T13:46:15.801889Z",
          "shell.execute_reply": "2022-05-20T13:46:15.801117Z"
        },
        "id": "WCXNh9L6jbci"
      },
      "outputs": [],
      "source": [
        "inputs = keras.Input(shape=(steps, num_features))\n",
        "x = layers.SimpleRNN(16, return_sequences=True)(inputs)  #쌓기위해서는 TRUE를 해줘야된다.\n",
        "x = layers.SimpleRNN(16, return_sequences=True)(x)\n",
        "outputs = layers.SimpleRNN(16)(x)"
      ]
    },
    {
      "cell_type": "markdown",
      "metadata": {
        "id": "5UTaHUSfjbci"
      },
      "source": [
        "## 순환 신경망의 고급 사용법"
      ]
    },
    {
      "cell_type": "markdown",
      "metadata": {
        "id": "HfvBqBgLjbci"
      },
      "source": [
        "### 과대적합을 감소하기 위해 순환 드롭아웃 사용하기"
      ]
    },
    {
      "cell_type": "markdown",
      "metadata": {
        "id": "tzGShMPQjbci"
      },
      "source": [
        "**드롭아웃 규제를 적용한 LSTM 모델 훈련하고 평가하기**"
      ]
    },
    {
      "cell_type": "markdown",
      "source": [
        "![image.png](data:image/png;base64,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)\n",
        "![image.png](data:image/png;base64,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)"
      ],
      "metadata": {
        "id": "nqKcvMcg-QYm"
      }
    },
    {
      "cell_type": "code",
      "execution_count": null,
      "metadata": {
        "execution": {
          "iopub.execute_input": "2022-05-20T13:46:15.806506Z",
          "iopub.status.busy": "2022-05-20T13:46:15.805817Z",
          "iopub.status.idle": "2022-05-20T15:04:54.368986Z",
          "shell.execute_reply": "2022-05-20T15:04:54.368048Z"
        },
        "id": "ZDfwJ1Osjbci",
        "outputId": "bc367ccd-9e29-48d0-9027-60d47b2dcbfd",
        "colab": {
          "base_uri": "https://localhost:8080/"
        }
      },
      "outputs": [
        {
          "output_type": "stream",
          "name": "stderr",
          "text": [
            "WARNING:tensorflow:Layer lstm_1 will not use cuDNN kernels since it doesn't meet the criteria. It will use a generic GPU kernel as fallback when running on GPU.\n"
          ]
        },
        {
          "output_type": "stream",
          "name": "stdout",
          "text": [
            "Epoch 1/50\n",
            "819/819 [==============================] - 55s 65ms/step - loss: 29.0184 - mae: 3.9569 - val_loss: 9.7585 - val_mae: 2.4253\n",
            "Epoch 2/50\n",
            "819/819 [==============================] - 45s 55ms/step - loss: 14.3286 - mae: 2.9435 - val_loss: 9.1785 - val_mae: 2.3567\n",
            "Epoch 3/50\n",
            "819/819 [==============================] - 50s 61ms/step - loss: 13.3250 - mae: 2.8363 - val_loss: 9.1156 - val_mae: 2.3693\n",
            "Epoch 4/50\n",
            "819/819 [==============================] - 45s 54ms/step - loss: 12.6680 - mae: 2.7622 - val_loss: 9.6512 - val_mae: 2.4384\n",
            "Epoch 5/50\n",
            "819/819 [==============================] - 54s 66ms/step - loss: 12.1900 - mae: 2.7054 - val_loss: 9.5833 - val_mae: 2.4307\n",
            "Epoch 6/50\n",
            "819/819 [==============================] - 44s 53ms/step - loss: 11.7516 - mae: 2.6566 - val_loss: 9.3354 - val_mae: 2.3969\n",
            "Epoch 7/50\n",
            "819/819 [==============================] - 44s 54ms/step - loss: 11.3862 - mae: 2.6125 - val_loss: 9.7426 - val_mae: 2.4544\n",
            "Epoch 8/50\n",
            "819/819 [==============================] - 52s 63ms/step - loss: 11.0448 - mae: 2.5751 - val_loss: 9.3845 - val_mae: 2.4006\n",
            "Epoch 9/50\n",
            "819/819 [==============================] - 52s 63ms/step - loss: 10.7392 - mae: 2.5358 - val_loss: 9.6666 - val_mae: 2.4422\n",
            "Epoch 10/50\n",
            "819/819 [==============================] - 52s 64ms/step - loss: 10.5213 - mae: 2.5071 - val_loss: 9.9911 - val_mae: 2.4910\n",
            "Epoch 11/50\n",
            "819/819 [==============================] - 55s 67ms/step - loss: 10.2731 - mae: 2.4779 - val_loss: 9.8418 - val_mae: 2.4689\n",
            "Epoch 12/50\n",
            "819/819 [==============================] - 51s 62ms/step - loss: 10.0429 - mae: 2.4473 - val_loss: 9.8015 - val_mae: 2.4629\n",
            "Epoch 13/50\n",
            "819/819 [==============================] - 44s 54ms/step - loss: 9.9559 - mae: 2.4307 - val_loss: 9.9934 - val_mae: 2.4910\n",
            "Epoch 14/50\n",
            "819/819 [==============================] - 52s 63ms/step - loss: 9.6954 - mae: 2.4005 - val_loss: 10.5281 - val_mae: 2.5676\n",
            "Epoch 15/50\n",
            "819/819 [==============================] - 52s 64ms/step - loss: 9.5438 - mae: 2.3801 - val_loss: 10.1996 - val_mae: 2.5256\n",
            "Epoch 16/50\n",
            "819/819 [==============================] - 44s 54ms/step - loss: 9.4329 - mae: 2.3631 - val_loss: 10.4688 - val_mae: 2.5490\n",
            "Epoch 17/50\n",
            "819/819 [==============================] - 53s 64ms/step - loss: 9.2816 - mae: 2.3463 - val_loss: 10.1403 - val_mae: 2.5152\n",
            "Epoch 18/50\n",
            "819/819 [==============================] - 51s 63ms/step - loss: 9.1669 - mae: 2.3310 - val_loss: 10.3776 - val_mae: 2.5426\n",
            "Epoch 19/50\n",
            "819/819 [==============================] - 55s 67ms/step - loss: 9.0096 - mae: 2.3124 - val_loss: 10.4910 - val_mae: 2.5518\n",
            "Epoch 20/50\n",
            "819/819 [==============================] - 44s 54ms/step - loss: 8.8993 - mae: 2.2960 - val_loss: 10.6285 - val_mae: 2.5716\n",
            "Epoch 21/50\n",
            "819/819 [==============================] - 44s 53ms/step - loss: 8.8428 - mae: 2.2880 - val_loss: 10.7820 - val_mae: 2.5859\n",
            "Epoch 22/50\n",
            "819/819 [==============================] - 52s 64ms/step - loss: 8.7376 - mae: 2.2773 - val_loss: 10.5589 - val_mae: 2.5420\n",
            "Epoch 23/50\n",
            "819/819 [==============================] - 52s 63ms/step - loss: 8.6741 - mae: 2.2661 - val_loss: 11.0467 - val_mae: 2.6164\n",
            "Epoch 24/50\n",
            "819/819 [==============================] - 54s 66ms/step - loss: 8.5237 - mae: 2.2483 - val_loss: 11.5651 - val_mae: 2.6569\n",
            "Epoch 25/50\n",
            "819/819 [==============================] - 56s 68ms/step - loss: 8.5224 - mae: 2.2455 - val_loss: 11.2758 - val_mae: 2.6308\n",
            "Epoch 26/50\n",
            "819/819 [==============================] - 52s 63ms/step - loss: 8.3867 - mae: 2.2286 - val_loss: 11.0897 - val_mae: 2.6084\n",
            "Epoch 27/50\n",
            "819/819 [==============================] - 44s 54ms/step - loss: 8.3042 - mae: 2.2216 - val_loss: 11.3410 - val_mae: 2.6392\n",
            "Epoch 28/50\n",
            "819/819 [==============================] - 45s 54ms/step - loss: 8.2693 - mae: 2.2134 - val_loss: 10.9748 - val_mae: 2.5938\n",
            "Epoch 29/50\n",
            "819/819 [==============================] - 45s 55ms/step - loss: 8.2635 - mae: 2.2087 - val_loss: 11.3772 - val_mae: 2.6497\n",
            "Epoch 30/50\n",
            "819/819 [==============================] - 46s 55ms/step - loss: 8.1243 - mae: 2.1965 - val_loss: 11.5451 - val_mae: 2.6611\n",
            "Epoch 31/50\n",
            "819/819 [==============================] - 55s 66ms/step - loss: 8.0251 - mae: 2.1831 - val_loss: 11.5599 - val_mae: 2.6617\n",
            "Epoch 32/50\n",
            "819/819 [==============================] - 53s 64ms/step - loss: 8.0374 - mae: 2.1789 - val_loss: 11.4102 - val_mae: 2.6391\n",
            "Epoch 33/50\n",
            "819/819 [==============================] - 52s 64ms/step - loss: 7.8888 - mae: 2.1610 - val_loss: 11.5576 - val_mae: 2.6671\n",
            "Epoch 34/50\n",
            "819/819 [==============================] - 45s 54ms/step - loss: 7.9015 - mae: 2.1639 - val_loss: 11.4918 - val_mae: 2.6473\n",
            "Epoch 35/50\n",
            "819/819 [==============================] - 45s 55ms/step - loss: 7.9179 - mae: 2.1605 - val_loss: 12.3278 - val_mae: 2.7444\n",
            "Epoch 36/50\n",
            "819/819 [==============================] - 45s 54ms/step - loss: 7.7586 - mae: 2.1430 - val_loss: 12.0086 - val_mae: 2.7378\n",
            "Epoch 37/50\n",
            "819/819 [==============================] - 46s 56ms/step - loss: 7.7801 - mae: 2.1433 - val_loss: 11.7283 - val_mae: 2.7033\n",
            "Epoch 38/50\n",
            "819/819 [==============================] - 45s 55ms/step - loss: 7.7319 - mae: 2.1393 - val_loss: 11.8848 - val_mae: 2.7120\n",
            "Epoch 39/50\n",
            "819/819 [==============================] - 52s 63ms/step - loss: 7.6478 - mae: 2.1252 - val_loss: 11.9903 - val_mae: 2.7195\n",
            "Epoch 40/50\n",
            "819/819 [==============================] - 44s 54ms/step - loss: 7.6216 - mae: 2.1229 - val_loss: 12.6900 - val_mae: 2.7948\n",
            "Epoch 41/50\n",
            "819/819 [==============================] - 53s 64ms/step - loss: 7.5836 - mae: 2.1159 - val_loss: 12.4609 - val_mae: 2.7752\n",
            "Epoch 42/50\n",
            "819/819 [==============================] - 53s 64ms/step - loss: 7.5395 - mae: 2.1105 - val_loss: 12.2309 - val_mae: 2.7508\n",
            "Epoch 43/50\n",
            "819/819 [==============================] - 52s 63ms/step - loss: 7.4667 - mae: 2.0995 - val_loss: 11.8646 - val_mae: 2.7011\n",
            "Epoch 44/50\n",
            "819/819 [==============================] - 52s 63ms/step - loss: 7.4209 - mae: 2.0922 - val_loss: 11.9683 - val_mae: 2.7328\n",
            "Epoch 45/50\n",
            "819/819 [==============================] - 53s 64ms/step - loss: 7.3962 - mae: 2.0924 - val_loss: 11.8562 - val_mae: 2.7184\n",
            "Epoch 46/50\n",
            "819/819 [==============================] - 44s 53ms/step - loss: 7.3937 - mae: 2.0893 - val_loss: 11.9723 - val_mae: 2.7219\n",
            "Epoch 47/50\n",
            "819/819 [==============================] - 45s 54ms/step - loss: 7.3718 - mae: 2.0851 - val_loss: 12.4813 - val_mae: 2.7886\n",
            "Epoch 48/50\n",
            "819/819 [==============================] - 49s 59ms/step - loss: 7.4087 - mae: 2.0884 - val_loss: 11.8460 - val_mae: 2.7013\n",
            "Epoch 49/50\n",
            "819/819 [==============================] - 49s 60ms/step - loss: 7.2555 - mae: 2.0728 - val_loss: 11.9858 - val_mae: 2.7213\n",
            "Epoch 50/50\n",
            "819/819 [==============================] - 46s 55ms/step - loss: 7.2371 - mae: 2.0683 - val_loss: 12.0116 - val_mae: 2.7321\n"
          ]
        }
      ],
      "source": [
        "# simpleRnn이랑 차이가 있다.\n",
        "\n",
        "#recurent dropout\n",
        "# bidirectional -> 양방향이 생기고 합친 결과가 나오게 된다.\n",
        "# -> layers.bidrictional(layers.LSTM(16))\n",
        "\n",
        "\n",
        "\n",
        "inputs = keras.Input(shape=(sequence_length, raw_data.shape[-1]))\n",
        "# 훈련 속도를 놓이기 위해 순환 드롭아웃을 제외합니다.\n",
        "x = layers.LSTM(32, recurrent_dropout=0.25)(inputs) #dropout사용방법    , unroll=True라는 방법도 있다.(rnn이 느리다 )\n",
        "x = layers.LSTM(32)(inputs)\n",
        "x = layers.Dropout(0.5)(x)  #layer dropout사용방법\n",
        "outputs = layers.Dense(1)(x)   #ouput개수는 sequence갯수 만큼 나온다.\n",
        "model = keras.Model(inputs, outputs)\n",
        "\n",
        "callbacks = [\n",
        "    keras.callbacks.ModelCheckpoint(\"jena_lstm_dropout.keras\",\n",
        "                                    save_best_only=True)\n",
        "]\n",
        "model.compile(optimizer=\"rmsprop\", loss=\"mse\", metrics=[\"mae\"])\n",
        "history = model.fit(train_dataset,\n",
        "                    epochs=50,\n",
        "                    validation_data=val_dataset,\n",
        "                    callbacks=callbacks)"
      ]
    },
    {
      "cell_type": "code",
      "execution_count": null,
      "metadata": {
        "execution": {
          "iopub.execute_input": "2022-05-20T15:04:54.372845Z",
          "iopub.status.busy": "2022-05-20T15:04:54.372302Z",
          "iopub.status.idle": "2022-05-20T15:04:54.500136Z",
          "shell.execute_reply": "2022-05-20T15:04:54.499227Z"
        },
        "id": "TUqqYeRgjbci",
        "colab": {
          "base_uri": "https://localhost:8080/",
          "height": 452
        },
        "outputId": "41bf3cbe-7921-457e-db0b-e80c130e3a4b"
      },
      "outputs": [
        {
          "output_type": "display_data",
          "data": {
            "text/plain": [
              "<Figure size 640x480 with 1 Axes>"
            ],
            "image/png": "[encoded data removed]"
          },
          "metadata": {}
        }
      ],
      "source": [
        "loss = history.history[\"mae\"]\n",
        "val_loss = history.history[\"val_mae\"]\n",
        "epochs = range(1, len(loss) + 1)\n",
        "plt.figure()\n",
        "plt.plot(epochs, loss, \"bo\", label=\"Training MAE\")\n",
        "plt.plot(epochs, val_loss, \"b\", label=\"Validation MAE\")\n",
        "plt.title(\"Training and validation MAE\")\n",
        "plt.legend()\n",
        "plt.show()"
      ]
    },
    {
      "cell_type": "code",
      "execution_count": null,
      "metadata": {
        "execution": {
          "iopub.execute_input": "2022-05-20T15:04:54.505555Z",
          "iopub.status.busy": "2022-05-20T15:04:54.504713Z",
          "iopub.status.idle": "2022-05-20T15:04:57.937020Z",
          "shell.execute_reply": "2022-05-20T15:04:57.935916Z"
        },
        "id": "u_-Jap5vjbcj",
        "colab": {
          "base_uri": "https://localhost:8080/"
        },
        "outputId": "2e4d9fb5-5357-4fca-e31d-0c098af93a46"
      },
      "outputs": [
        {
          "output_type": "stream",
          "name": "stderr",
          "text": [
            "WARNING:tensorflow:Layer lstm_3 will not use cuDNN kernels since it doesn't meet the criteria. It will use a generic GPU kernel as fallback when running on GPU.\n"
          ]
        }
      ],
      "source": [
        "inputs = keras.Input(shape=(sequence_length, num_features))\n",
        "x = layers.LSTM(32, recurrent_dropout=0.2, unroll=True)(inputs)"
      ]
    },
    {
      "cell_type": "markdown",
      "metadata": {
        "id": "dIAEo0Ttjbcj"
      },
      "source": [
        "### 스태킹 순환 층"
      ]
    },
    {
      "cell_type": "markdown",
      "metadata": {
        "id": "9AfaRKy2jbcj"
      },
      "source": [
        "**드롭아웃 규제와 스태킹을 적용한 GRU 모델을 훈련하고 평가하기**"
      ]
    },
    {
      "cell_type": "code",
      "execution_count": null,
      "metadata": {
        "execution": {
          "iopub.execute_input": "2022-05-20T15:04:57.941005Z",
          "iopub.status.busy": "2022-05-20T15:04:57.940685Z",
          "iopub.status.idle": "2022-05-20T17:21:17.499207Z",
          "shell.execute_reply": "2022-05-20T17:21:17.498103Z"
        },
        "id": "-v7IqHRsjbcj",
        "colab": {
          "base_uri": "https://localhost:8080/",
          "height": 694
        },
        "outputId": "cd7ff820-7c15-4e04-ae8f-bdf5ca0a8eb5"
      },
      "outputs": [
        {
          "output_type": "stream",
          "name": "stderr",
          "text": [
            "WARNING:tensorflow:Layer gru will not use cuDNN kernels since it doesn't meet the criteria. It will use a generic GPU kernel as fallback when running on GPU.\n",
            "WARNING:tensorflow:Layer gru_1 will not use cuDNN kernels since it doesn't meet the criteria. It will use a generic GPU kernel as fallback when running on GPU.\n"
          ]
        },
        {
          "output_type": "stream",
          "name": "stdout",
          "text": [
            "Epoch 1/50\n",
            "819/819 [==============================] - 52s 59ms/step - loss: 26.4989 - mae: 3.7598 - val_loss: 10.0342 - val_mae: 2.4557\n",
            "Epoch 2/50\n",
            "819/819 [==============================] - 47s 58ms/step - loss: 13.4395 - mae: 2.8327 - val_loss: 9.3287 - val_mae: 2.3836\n",
            "Epoch 3/50\n",
            "819/819 [==============================] - 47s 57ms/step - loss: 12.4520 - mae: 2.7336 - val_loss: 8.8555 - val_mae: 2.3161\n",
            "Epoch 4/50\n",
            "819/819 [==============================] - 54s 65ms/step - loss: 11.8047 - mae: 2.6650 - val_loss: 8.5443 - val_mae: 2.2703\n",
            "Epoch 5/50\n",
            "819/819 [==============================] - 48s 58ms/step - loss: 11.1283 - mae: 2.5845 - val_loss: 10.3116 - val_mae: 2.5201\n",
            "Epoch 6/50\n",
            "819/819 [==============================] - 54s 66ms/step - loss: 10.4582 - mae: 2.5070 - val_loss: 9.2740 - val_mae: 2.3703\n",
            "Epoch 7/50\n",
            "818/819 [============================>.] - ETA: 0s - loss: 9.8285 - mae: 2.4275"
          ]
        },
        {
          "output_type": "error",
          "ename": "KeyboardInterrupt",
          "evalue": "ignored",
          "traceback": [
            "\u001b[0;31m---------------------------------------------------------------------------\u001b[0m",
            "\u001b[0;31mKeyboardInterrupt\u001b[0m                         Traceback (most recent call last)",
            "\u001b[0;32m<ipython-input-28-ef81fbf22244>\u001b[0m in \u001b[0;36m<cell line: 16>\u001b[0;34m()\u001b[0m\n\u001b[1;32m     14\u001b[0m ]\n\u001b[1;32m     15\u001b[0m \u001b[0mmodel\u001b[0m\u001b[0;34m.\u001b[0m\u001b[0mcompile\u001b[0m\u001b[0;34m(\u001b[0m\u001b[0moptimizer\u001b[0m\u001b[0;34m=\u001b[0m\u001b[0;34m\"rmsprop\"\u001b[0m\u001b[0;34m,\u001b[0m \u001b[0mloss\u001b[0m\u001b[0;34m=\u001b[0m\u001b[0;34m\"mse\"\u001b[0m\u001b[0;34m,\u001b[0m \u001b[0mmetrics\u001b[0m\u001b[0;34m=\u001b[0m\u001b[0;34m[\u001b[0m\u001b[0;34m\"mae\"\u001b[0m\u001b[0;34m]\u001b[0m\u001b[0;34m)\u001b[0m\u001b[0;34m\u001b[0m\u001b[0;34m\u001b[0m\u001b[0m\n\u001b[0;32m---> 16\u001b[0;31m history = model.fit(train_dataset,\n\u001b[0m\u001b[1;32m     17\u001b[0m                     \u001b[0mepochs\u001b[0m\u001b[0;34m=\u001b[0m\u001b[0;36m50\u001b[0m\u001b[0;34m,\u001b[0m\u001b[0;34m\u001b[0m\u001b[0;34m\u001b[0m\u001b[0m\n\u001b[1;32m     18\u001b[0m                     \u001b[0mvalidation_data\u001b[0m\u001b[0;34m=\u001b[0m\u001b[0mval_dataset\u001b[0m\u001b[0;34m,\u001b[0m\u001b[0;34m\u001b[0m\u001b[0;34m\u001b[0m\u001b[0m\n",
            "\u001b[0;32m/usr/local/lib/python3.10/dist-packages/keras/utils/traceback_utils.py\u001b[0m in \u001b[0;36merror_handler\u001b[0;34m(*args, **kwargs)\u001b[0m\n\u001b[1;32m     63\u001b[0m         \u001b[0mfiltered_tb\u001b[0m \u001b[0;34m=\u001b[0m \u001b[0;32mNone\u001b[0m\u001b[0;34m\u001b[0m\u001b[0;34m\u001b[0m\u001b[0m\n\u001b[1;32m     64\u001b[0m         \u001b[0;32mtry\u001b[0m\u001b[0;34m:\u001b[0m\u001b[0;34m\u001b[0m\u001b[0;34m\u001b[0m\u001b[0m\n\u001b[0;32m---> 65\u001b[0;31m             \u001b[0;32mreturn\u001b[0m \u001b[0mfn\u001b[0m\u001b[0;34m(\u001b[0m\u001b[0;34m*\u001b[0m\u001b[0margs\u001b[0m\u001b[0;34m,\u001b[0m \u001b[0;34m**\u001b[0m\u001b[0mkwargs\u001b[0m\u001b[0;34m)\u001b[0m\u001b[0;34m\u001b[0m\u001b[0;34m\u001b[0m\u001b[0m\n\u001b[0m\u001b[1;32m     66\u001b[0m         \u001b[0;32mexcept\u001b[0m \u001b[0mException\u001b[0m \u001b[0;32mas\u001b[0m \u001b[0me\u001b[0m\u001b[0;34m:\u001b[0m\u001b[0;34m\u001b[0m\u001b[0;34m\u001b[0m\u001b[0m\n\u001b[1;32m     67\u001b[0m             \u001b[0mfiltered_tb\u001b[0m \u001b[0;34m=\u001b[0m \u001b[0m_process_traceback_frames\u001b[0m\u001b[0;34m(\u001b[0m\u001b[0me\u001b[0m\u001b[0;34m.\u001b[0m\u001b[0m__traceback__\u001b[0m\u001b[0;34m)\u001b[0m\u001b[0;34m\u001b[0m\u001b[0;34m\u001b[0m\u001b[0m\n",
            "\u001b[0;32m/usr/local/lib/python3.10/dist-packages/keras/engine/training.py\u001b[0m in \u001b[0;36mfit\u001b[0;34m(self, x, y, batch_size, epochs, verbose, callbacks, validation_split, validation_data, shuffle, class_weight, sample_weight, initial_epoch, steps_per_epoch, validation_steps, validation_batch_size, validation_freq, max_queue_size, workers, use_multiprocessing)\u001b[0m\n\u001b[1;32m   1727\u001b[0m                             \u001b[0msteps_per_execution\u001b[0m\u001b[0;34m=\u001b[0m\u001b[0mself\u001b[0m\u001b[0;34m.\u001b[0m\u001b[0m_steps_per_execution\u001b[0m\u001b[0;34m,\u001b[0m\u001b[0;34m\u001b[0m\u001b[0;34m\u001b[0m\u001b[0m\n\u001b[1;32m   1728\u001b[0m                         )\n\u001b[0;32m-> 1729\u001b[0;31m                     val_logs = self.evaluate(\n\u001b[0m\u001b[1;32m   1730\u001b[0m                         \u001b[0mx\u001b[0m\u001b[0;34m=\u001b[0m\u001b[0mval_x\u001b[0m\u001b[0;34m,\u001b[0m\u001b[0;34m\u001b[0m\u001b[0;34m\u001b[0m\u001b[0m\n\u001b[1;32m   1731\u001b[0m                         \u001b[0my\u001b[0m\u001b[0;34m=\u001b[0m\u001b[0mval_y\u001b[0m\u001b[0;34m,\u001b[0m\u001b[0;34m\u001b[0m\u001b[0;34m\u001b[0m\u001b[0m\n",
            "\u001b[0;32m/usr/local/lib/python3.10/dist-packages/keras/utils/traceback_utils.py\u001b[0m in \u001b[0;36merror_handler\u001b[0;34m(*args, **kwargs)\u001b[0m\n\u001b[1;32m     63\u001b[0m         \u001b[0mfiltered_tb\u001b[0m \u001b[0;34m=\u001b[0m \u001b[0;32mNone\u001b[0m\u001b[0;34m\u001b[0m\u001b[0;34m\u001b[0m\u001b[0m\n\u001b[1;32m     64\u001b[0m         \u001b[0;32mtry\u001b[0m\u001b[0;34m:\u001b[0m\u001b[0;34m\u001b[0m\u001b[0;34m\u001b[0m\u001b[0m\n\u001b[0;32m---> 65\u001b[0;31m             \u001b[0;32mreturn\u001b[0m \u001b[0mfn\u001b[0m\u001b[0;34m(\u001b[0m\u001b[0;34m*\u001b[0m\u001b[0margs\u001b[0m\u001b[0;34m,\u001b[0m \u001b[0;34m**\u001b[0m\u001b[0mkwargs\u001b[0m\u001b[0;34m)\u001b[0m\u001b[0;34m\u001b[0m\u001b[0;34m\u001b[0m\u001b[0m\n\u001b[0m\u001b[1;32m     66\u001b[0m         \u001b[0;32mexcept\u001b[0m \u001b[0mException\u001b[0m \u001b[0;32mas\u001b[0m \u001b[0me\u001b[0m\u001b[0;34m:\u001b[0m\u001b[0;34m\u001b[0m\u001b[0;34m\u001b[0m\u001b[0m\n\u001b[1;32m     67\u001b[0m             \u001b[0mfiltered_tb\u001b[0m \u001b[0;34m=\u001b[0m \u001b[0m_process_traceback_frames\u001b[0m\u001b[0;34m(\u001b[0m\u001b[0me\u001b[0m\u001b[0;34m.\u001b[0m\u001b[0m__traceback__\u001b[0m\u001b[0;34m)\u001b[0m\u001b[0;34m\u001b[0m\u001b[0;34m\u001b[0m\u001b[0m\n",
            "\u001b[0;32m/usr/local/lib/python3.10/dist-packages/keras/engine/training.py\u001b[0m in \u001b[0;36mevaluate\u001b[0;34m(self, x, y, batch_size, verbose, sample_weight, steps, callbacks, max_queue_size, workers, use_multiprocessing, return_dict, **kwargs)\u001b[0m\n\u001b[1;32m   2070\u001b[0m                         ):\n\u001b[1;32m   2071\u001b[0m                             \u001b[0mcallbacks\u001b[0m\u001b[0;34m.\u001b[0m\u001b[0mon_test_batch_begin\u001b[0m\u001b[0;34m(\u001b[0m\u001b[0mstep\u001b[0m\u001b[0;34m)\u001b[0m\u001b[0;34m\u001b[0m\u001b[0;34m\u001b[0m\u001b[0m\n\u001b[0;32m-> 2072\u001b[0;31m                             \u001b[0mtmp_logs\u001b[0m \u001b[0;34m=\u001b[0m \u001b[0mself\u001b[0m\u001b[0;34m.\u001b[0m\u001b[0mtest_function\u001b[0m\u001b[0;34m(\u001b[0m\u001b[0miterator\u001b[0m\u001b[0;34m)\u001b[0m\u001b[0;34m\u001b[0m\u001b[0;34m\u001b[0m\u001b[0m\n\u001b[0m\u001b[1;32m   2073\u001b[0m                             \u001b[0;32mif\u001b[0m \u001b[0mdata_handler\u001b[0m\u001b[0;34m.\u001b[0m\u001b[0mshould_sync\u001b[0m\u001b[0;34m:\u001b[0m\u001b[0;34m\u001b[0m\u001b[0;34m\u001b[0m\u001b[0m\n\u001b[1;32m   2074\u001b[0m                                 \u001b[0mcontext\u001b[0m\u001b[0;34m.\u001b[0m\u001b[0masync_wait\u001b[0m\u001b[0;34m(\u001b[0m\u001b[0;34m)\u001b[0m\u001b[0;34m\u001b[0m\u001b[0;34m\u001b[0m\u001b[0m\n",
            "\u001b[0;32m/usr/local/lib/python3.10/dist-packages/tensorflow/python/util/traceback_utils.py\u001b[0m in \u001b[0;36merror_handler\u001b[0;34m(*args, **kwargs)\u001b[0m\n\u001b[1;32m    148\u001b[0m     \u001b[0mfiltered_tb\u001b[0m \u001b[0;34m=\u001b[0m \u001b[0;32mNone\u001b[0m\u001b[0;34m\u001b[0m\u001b[0;34m\u001b[0m\u001b[0m\n\u001b[1;32m    149\u001b[0m     \u001b[0;32mtry\u001b[0m\u001b[0;34m:\u001b[0m\u001b[0;34m\u001b[0m\u001b[0;34m\u001b[0m\u001b[0m\n\u001b[0;32m--> 150\u001b[0;31m       \u001b[0;32mreturn\u001b[0m \u001b[0mfn\u001b[0m\u001b[0;34m(\u001b[0m\u001b[0;34m*\u001b[0m\u001b[0margs\u001b[0m\u001b[0;34m,\u001b[0m \u001b[0;34m**\u001b[0m\u001b[0mkwargs\u001b[0m\u001b[0;34m)\u001b[0m\u001b[0;34m\u001b[0m\u001b[0;34m\u001b[0m\u001b[0m\n\u001b[0m\u001b[1;32m    151\u001b[0m     \u001b[0;32mexcept\u001b[0m \u001b[0mException\u001b[0m \u001b[0;32mas\u001b[0m \u001b[0me\u001b[0m\u001b[0;34m:\u001b[0m\u001b[0;34m\u001b[0m\u001b[0;34m\u001b[0m\u001b[0m\n\u001b[1;32m    152\u001b[0m       \u001b[0mfiltered_tb\u001b[0m \u001b[0;34m=\u001b[0m \u001b[0m_process_traceback_frames\u001b[0m\u001b[0;34m(\u001b[0m\u001b[0me\u001b[0m\u001b[0;34m.\u001b[0m\u001b[0m__traceback__\u001b[0m\u001b[0;34m)\u001b[0m\u001b[0;34m\u001b[0m\u001b[0;34m\u001b[0m\u001b[0m\n",
            "\u001b[0;32m/usr/local/lib/python3.10/dist-packages/tensorflow/python/eager/polymorphic_function/polymorphic_function.py\u001b[0m in \u001b[0;36m__call__\u001b[0;34m(self, *args, **kwds)\u001b[0m\n\u001b[1;32m    892\u001b[0m \u001b[0;34m\u001b[0m\u001b[0m\n\u001b[1;32m    893\u001b[0m       \u001b[0;32mwith\u001b[0m \u001b[0mOptionalXlaContext\u001b[0m\u001b[0;34m(\u001b[0m\u001b[0mself\u001b[0m\u001b[0;34m.\u001b[0m\u001b[0m_jit_compile\u001b[0m\u001b[0;34m)\u001b[0m\u001b[0;34m:\u001b[0m\u001b[0;34m\u001b[0m\u001b[0;34m\u001b[0m\u001b[0m\n\u001b[0;32m--> 894\u001b[0;31m         \u001b[0mresult\u001b[0m \u001b[0;34m=\u001b[0m \u001b[0mself\u001b[0m\u001b[0;34m.\u001b[0m\u001b[0m_call\u001b[0m\u001b[0;34m(\u001b[0m\u001b[0;34m*\u001b[0m\u001b[0margs\u001b[0m\u001b[0;34m,\u001b[0m \u001b[0;34m**\u001b[0m\u001b[0mkwds\u001b[0m\u001b[0;34m)\u001b[0m\u001b[0;34m\u001b[0m\u001b[0;34m\u001b[0m\u001b[0m\n\u001b[0m\u001b[1;32m    895\u001b[0m \u001b[0;34m\u001b[0m\u001b[0m\n\u001b[1;32m    896\u001b[0m       \u001b[0mnew_tracing_count\u001b[0m \u001b[0;34m=\u001b[0m \u001b[0mself\u001b[0m\u001b[0;34m.\u001b[0m\u001b[0mexperimental_get_tracing_count\u001b[0m\u001b[0;34m(\u001b[0m\u001b[0;34m)\u001b[0m\u001b[0;34m\u001b[0m\u001b[0;34m\u001b[0m\u001b[0m\n",
            "\u001b[0;32m/usr/local/lib/python3.10/dist-packages/tensorflow/python/eager/polymorphic_function/polymorphic_function.py\u001b[0m in \u001b[0;36m_call\u001b[0;34m(self, *args, **kwds)\u001b[0m\n\u001b[1;32m    931\u001b[0m       \u001b[0;31m# In this case we have not created variables on the first call. So we can\u001b[0m\u001b[0;34m\u001b[0m\u001b[0;34m\u001b[0m\u001b[0m\n\u001b[1;32m    932\u001b[0m       \u001b[0;31m# run the first trace but we should fail if variables are created.\u001b[0m\u001b[0;34m\u001b[0m\u001b[0;34m\u001b[0m\u001b[0m\n\u001b[0;32m--> 933\u001b[0;31m       \u001b[0mresults\u001b[0m \u001b[0;34m=\u001b[0m \u001b[0mself\u001b[0m\u001b[0;34m.\u001b[0m\u001b[0m_variable_creation_fn\u001b[0m\u001b[0;34m(\u001b[0m\u001b[0;34m*\u001b[0m\u001b[0margs\u001b[0m\u001b[0;34m,\u001b[0m \u001b[0;34m**\u001b[0m\u001b[0mkwds\u001b[0m\u001b[0;34m)\u001b[0m\u001b[0;34m\u001b[0m\u001b[0;34m\u001b[0m\u001b[0m\n\u001b[0m\u001b[1;32m    934\u001b[0m       \u001b[0;32mif\u001b[0m \u001b[0mself\u001b[0m\u001b[0;34m.\u001b[0m\u001b[0m_created_variables\u001b[0m \u001b[0;32mand\u001b[0m \u001b[0;32mnot\u001b[0m \u001b[0mALLOW_DYNAMIC_VARIABLE_CREATION\u001b[0m\u001b[0;34m:\u001b[0m\u001b[0;34m\u001b[0m\u001b[0;34m\u001b[0m\u001b[0m\n\u001b[1;32m    935\u001b[0m         raise ValueError(\"Creating variables on a non-first call to a function\"\n",
            "\u001b[0;32m/usr/local/lib/python3.10/dist-packages/tensorflow/python/eager/polymorphic_function/tracing_compiler.py\u001b[0m in \u001b[0;36m__call__\u001b[0;34m(self, *args, **kwargs)\u001b[0m\n\u001b[1;32m    141\u001b[0m       (concrete_function,\n\u001b[1;32m    142\u001b[0m        filtered_flat_args) = self._maybe_define_function(args, kwargs)\n\u001b[0;32m--> 143\u001b[0;31m     return concrete_function._call_flat(\n\u001b[0m\u001b[1;32m    144\u001b[0m         filtered_flat_args, captured_inputs=concrete_function.captured_inputs)  # pylint: disable=protected-access\n\u001b[1;32m    145\u001b[0m \u001b[0;34m\u001b[0m\u001b[0m\n",
            "\u001b[0;32m/usr/local/lib/python3.10/dist-packages/tensorflow/python/eager/polymorphic_function/monomorphic_function.py\u001b[0m in \u001b[0;36m_call_flat\u001b[0;34m(self, args, captured_inputs, cancellation_manager)\u001b[0m\n\u001b[1;32m   1755\u001b[0m         and executing_eagerly):\n\u001b[1;32m   1756\u001b[0m       \u001b[0;31m# No tape is watching; skip to running the function.\u001b[0m\u001b[0;34m\u001b[0m\u001b[0;34m\u001b[0m\u001b[0m\n\u001b[0;32m-> 1757\u001b[0;31m       return self._build_call_outputs(self._inference_function.call(\n\u001b[0m\u001b[1;32m   1758\u001b[0m           ctx, args, cancellation_manager=cancellation_manager))\n\u001b[1;32m   1759\u001b[0m     forward_backward = self._select_forward_and_backward_functions(\n",
            "\u001b[0;32m/usr/local/lib/python3.10/dist-packages/tensorflow/python/eager/polymorphic_function/monomorphic_function.py\u001b[0m in \u001b[0;36mcall\u001b[0;34m(self, ctx, args, cancellation_manager)\u001b[0m\n\u001b[1;32m    379\u001b[0m       \u001b[0;32mwith\u001b[0m \u001b[0m_InterpolateFunctionError\u001b[0m\u001b[0;34m(\u001b[0m\u001b[0mself\u001b[0m\u001b[0;34m)\u001b[0m\u001b[0;34m:\u001b[0m\u001b[0;34m\u001b[0m\u001b[0;34m\u001b[0m\u001b[0m\n\u001b[1;32m    380\u001b[0m         \u001b[0;32mif\u001b[0m \u001b[0mcancellation_manager\u001b[0m \u001b[0;32mis\u001b[0m \u001b[0;32mNone\u001b[0m\u001b[0;34m:\u001b[0m\u001b[0;34m\u001b[0m\u001b[0;34m\u001b[0m\u001b[0m\n\u001b[0;32m--> 381\u001b[0;31m           outputs = execute.execute(\n\u001b[0m\u001b[1;32m    382\u001b[0m               \u001b[0mstr\u001b[0m\u001b[0;34m(\u001b[0m\u001b[0mself\u001b[0m\u001b[0;34m.\u001b[0m\u001b[0msignature\u001b[0m\u001b[0;34m.\u001b[0m\u001b[0mname\u001b[0m\u001b[0;34m)\u001b[0m\u001b[0;34m,\u001b[0m\u001b[0;34m\u001b[0m\u001b[0;34m\u001b[0m\u001b[0m\n\u001b[1;32m    383\u001b[0m               \u001b[0mnum_outputs\u001b[0m\u001b[0;34m=\u001b[0m\u001b[0mself\u001b[0m\u001b[0;34m.\u001b[0m\u001b[0m_num_outputs\u001b[0m\u001b[0;34m,\u001b[0m\u001b[0;34m\u001b[0m\u001b[0;34m\u001b[0m\u001b[0m\n",
            "\u001b[0;32m/usr/local/lib/python3.10/dist-packages/tensorflow/python/eager/execute.py\u001b[0m in \u001b[0;36mquick_execute\u001b[0;34m(op_name, num_outputs, inputs, attrs, ctx, name)\u001b[0m\n\u001b[1;32m     50\u001b[0m   \u001b[0;32mtry\u001b[0m\u001b[0;34m:\u001b[0m\u001b[0;34m\u001b[0m\u001b[0;34m\u001b[0m\u001b[0m\n\u001b[1;32m     51\u001b[0m     \u001b[0mctx\u001b[0m\u001b[0;34m.\u001b[0m\u001b[0mensure_initialized\u001b[0m\u001b[0;34m(\u001b[0m\u001b[0;34m)\u001b[0m\u001b[0;34m\u001b[0m\u001b[0;34m\u001b[0m\u001b[0m\n\u001b[0;32m---> 52\u001b[0;31m     tensors = pywrap_tfe.TFE_Py_Execute(ctx._handle, device_name, op_name,\n\u001b[0m\u001b[1;32m     53\u001b[0m                                         inputs, attrs, num_outputs)\n\u001b[1;32m     54\u001b[0m   \u001b[0;32mexcept\u001b[0m \u001b[0mcore\u001b[0m\u001b[0;34m.\u001b[0m\u001b[0m_NotOkStatusException\u001b[0m \u001b[0;32mas\u001b[0m \u001b[0me\u001b[0m\u001b[0;34m:\u001b[0m\u001b[0;34m\u001b[0m\u001b[0;34m\u001b[0m\u001b[0m\n",
            "\u001b[0;31mKeyboardInterrupt\u001b[0m: "
          ]
        }
      ],
      "source": [
        "inputs = keras.Input(shape=(sequence_length, raw_data.shape[-1]))\n",
        "# 훈련 속도를 놓이기 위해 순환 드롭아웃을 제외합니다.\n",
        "x = layers.GRU(32, recurrent_dropout=0.5, return_sequences=True)(inputs)  #GRU사용하기 시작 (FULLNAME)\n",
        "x = layers.GRU(32, recurrent_dropout=0.5)(x)\n",
        "x = layers.GRU(32, return_sequences=True)(inputs)   \n",
        "x = layers.GRU(32)(x)\n",
        "x = layers.Dropout(0.5)(x)\n",
        "outputs = layers.Dense(1)(x)\n",
        "model = keras.Model(inputs, outputs)\n",
        "\n",
        "callbacks = [\n",
        "    keras.callbacks.ModelCheckpoint(\"jena_stacked_gru_dropout.keras\",\n",
        "                                    save_best_only=True)\n",
        "]\n",
        "model.compile(optimizer=\"rmsprop\", loss=\"mse\", metrics=[\"mae\"])\n",
        "history = model.fit(train_dataset,\n",
        "                    epochs=50,\n",
        "                    validation_data=val_dataset,\n",
        "                    callbacks=callbacks)\n",
        "model = keras.models.load_model(\"jena_stacked_gru_dropout.keras\")\n",
        "print(f\"테스트 MAE: {model.evaluate(test_dataset)[1]:.2f}\")"
      ]
    },
    {
      "cell_type": "code",
      "execution_count": null,
      "metadata": {
        "execution": {
          "iopub.execute_input": "2022-05-20T17:21:17.502935Z",
          "iopub.status.busy": "2022-05-20T17:21:17.502627Z",
          "iopub.status.idle": "2022-05-20T17:21:17.637424Z",
          "shell.execute_reply": "2022-05-20T17:21:17.636229Z"
        },
        "id": "ajG9EuXxjbck"
      },
      "outputs": [],
      "source": [
        "loss = history.history[\"mae\"]\n",
        "val_loss = history.history[\"val_mae\"]\n",
        "epochs = range(1, len(loss) + 1)\n",
        "plt.figure()\n",
        "plt.plot(epochs, loss, \"bo\", label=\"Training MAE\")\n",
        "plt.plot(epochs, val_loss, \"b\", label=\"Validation MAE\")\n",
        "plt.title(\"Training and validation MAE\")\n",
        "plt.legend()\n",
        "plt.show()"
      ]
    },
    {
      "cell_type": "markdown",
      "metadata": {
        "id": "Yj_01R2Cjbck"
      },
      "source": [
        "### 양방향 RNN 사용하기"
      ]
    },
    {
      "cell_type": "markdown",
      "metadata": {
        "id": "HfYzAJbqjbck"
      },
      "source": [
        "시퀀스를 거꾸로 뒤집어 LSTM 모델 훈련하기 (책에는 없음)"
      ]
    },
    {
      "cell_type": "code",
      "execution_count": null,
      "metadata": {
        "execution": {
          "iopub.execute_input": "2022-05-20T17:21:17.641176Z",
          "iopub.status.busy": "2022-05-20T17:21:17.640902Z",
          "iopub.status.idle": "2022-05-20T17:21:17.646145Z",
          "shell.execute_reply": "2022-05-20T17:21:17.645090Z"
        },
        "id": "P2Ns9cJajbck"
      },
      "outputs": [],
      "source": [
        "def train_generator():\n",
        "    while True:\n",
        "        for samples, targets in train_dataset:\n",
        "            yield samples[:, ::-1, :], targets\n",
        "\n",
        "def val_generator():\n",
        "    while True:\n",
        "        for samples, targets in val_dataset:\n",
        "            yield samples[:, ::-1, :], targets\n",
        "        \n",
        "train_gen = train_generator()\n",
        "val_gen = val_generator()"
      ]
    },
    {
      "cell_type": "code",
      "execution_count": null,
      "metadata": {
        "execution": {
          "iopub.execute_input": "2022-05-20T17:21:17.649630Z",
          "iopub.status.busy": "2022-05-20T17:21:17.649357Z",
          "iopub.status.idle": "2022-05-20T17:38:03.455221Z",
          "shell.execute_reply": "2022-05-20T17:38:03.454271Z"
        },
        "id": "4Yd7xpW3jbck"
      },
      "outputs": [],
      "source": [
        "inputs = keras.Input(shape=(sequence_length, raw_data.shape[-1]))\n",
        "# 훈련 속도를 놓이기 위해 순환 드롭아웃을 제외합니다.\n",
        "# x = layers.LSTM(32, recurrent_dropout=0.25)(inputs)\n",
        "x = layers.LSTM(32)(inputs)\n",
        "x = layers.Dropout(0.5)(x)\n",
        "outputs = layers.Dense(1)(x)\n",
        "model = keras.Model(inputs, outputs)\n",
        "\n",
        "model.compile(optimizer=\"rmsprop\", loss=\"mse\", metrics=[\"mae\"])\n",
        "history = model.fit(train_gen,\n",
        "                    epochs=10,\n",
        "                    steps_per_epoch=819,\n",
        "                    validation_data=val_gen,\n",
        "                    validation_steps=410)"
      ]
    },
    {
      "cell_type": "code",
      "execution_count": null,
      "metadata": {
        "execution": {
          "iopub.execute_input": "2022-05-20T17:38:03.459157Z",
          "iopub.status.busy": "2022-05-20T17:38:03.458872Z",
          "iopub.status.idle": "2022-05-20T17:38:03.588800Z",
          "shell.execute_reply": "2022-05-20T17:38:03.587843Z"
        },
        "id": "HjBY66fkjbck"
      },
      "outputs": [],
      "source": [
        "loss = history.history[\"mae\"]\n",
        "val_loss = history.history[\"val_mae\"]\n",
        "epochs = range(1, len(loss) + 1)\n",
        "plt.figure()\n",
        "plt.plot(epochs, loss, \"bo\", label=\"Training MAE\")\n",
        "plt.plot(epochs, val_loss, \"b\", label=\"Validation MAE\")\n",
        "plt.title(\"Training and validation MAE\")\n",
        "plt.legend()\n",
        "plt.show()"
      ]
    },
    {
      "cell_type": "markdown",
      "metadata": {
        "id": "9mc9iUIKjbck"
      },
      "source": [
        "**양방향 LSTM 모델 훈련하고 평가하기**"
      ]
    },
    {
      "cell_type": "code",
      "execution_count": null,
      "metadata": {
        "execution": {
          "iopub.execute_input": "2022-05-20T17:38:03.594401Z",
          "iopub.status.busy": "2022-05-20T17:38:03.593387Z",
          "iopub.status.idle": "2022-05-20T17:49:14.410464Z",
          "shell.execute_reply": "2022-05-20T17:49:14.409759Z"
        },
        "id": "eysu8EhMjbcl"
      },
      "outputs": [],
      "source": [
        "inputs = keras.Input(shape=(sequence_length, raw_data.shape[-1]))\n",
        "x = layers.Bidirectional(layers.LSTM(16))(inputs)\n",
        "outputs = layers.Dense(1)(x)\n",
        "model = keras.Model(inputs, outputs)\n",
        "\n",
        "model.compile(optimizer=\"rmsprop\", loss=\"mse\", metrics=[\"mae\"])\n",
        "history = model.fit(train_dataset,\n",
        "                    epochs=10,\n",
        "                    validation_data=val_dataset)"
      ]
    },
    {
      "cell_type": "markdown",
      "metadata": {
        "id": "wrkE0wkWjbcl"
      },
      "source": [
        "### 더 나아가서"
      ]
    },
    {
      "cell_type": "markdown",
      "metadata": {
        "id": "fi2t0VRNjbcl"
      },
      "source": [
        "## 요약"
      ]
    }
  ],
  "metadata": {
    "colab": {
      "provenance": []
    },
    "kernelspec": {
      "display_name": "default:Python",
      "language": "python",
      "name": "conda-env-default-py"
    },
    "language_info": {
      "codemirror_mode": {
        "name": "ipython",
        "version": 3
      },
      "file_extension": ".py",
      "mimetype": "text/x-python",
      "name": "python",
      "nbconvert_exporter": "python",
      "pygments_lexer": "ipython3",
      "version": "3.9.10"
    },
    "accelerator": "GPU",
    "gpuClass": "premium"
  },
  "nbformat": 4,
  "nbformat_minor": 0
}