{
  "nbformat": 4,
  "nbformat_minor": 0,
  "metadata": {
    "colab": {
      "provenance": []
    },
    "kernelspec": {
      "name": "python3",
      "display_name": "Python 3"
    },
    "language_info": {
      "name": "python"
    }
  },
  "cells": [
    {
      "cell_type": "code",
      "execution_count": 46,
      "metadata": {
        "id": "5DJMZ5FuTUYD"
      },
      "outputs": [],
      "source": [
        "%matplotlib inline"
      ]
    },
    {
      "cell_type": "code",
      "source": [
        "import dlib\n",
        "import numpy as np"
      ],
      "metadata": {
        "id": "DQJEY7IiTg1d"
      },
      "execution_count": 47,
      "outputs": []
    },
    {
      "cell_type": "code",
      "source": [
        "!wget http://dlib.net/files/shape_predictor_68_face_landmarks.dat.bz2\n",
        "!bzip2 -d /content/shape_predictor_68_face_landmarks.dat.bz2"
      ],
      "metadata": {
        "colab": {
          "base_uri": "https://localhost:8080/"
        },
        "id": "Pm0Xhs7k7Zzi",
        "outputId": "d5540daf-1b70-4ea5-c268-1b5db98935cc"
      },
      "execution_count": 48,
      "outputs": [
        {
          "output_type": "stream",
          "name": "stdout",
          "text": [
            "--2023-03-30 14:34:28--  http://dlib.net/files/shape_predictor_68_face_landmarks.dat.bz2\n",
            "Resolving dlib.net (dlib.net)... 107.180.26.78\n",
            "Connecting to dlib.net (dlib.net)|107.180.26.78|:80... connected.\n",
            "HTTP request sent, awaiting response... 200 OK\n",
            "Length: 64040097 (61M)\n",
            "Saving to: ‘shape_predictor_68_face_landmarks.dat.bz2’\n",
            "\n",
            "shape_predictor_68_ 100%[===================>]  61.07M  51.7MB/s    in 1.2s    \n",
            "\n",
            "2023-03-30 14:34:29 (51.7 MB/s) - ‘shape_predictor_68_face_landmarks.dat.bz2’ saved [64040097/64040097]\n",
            "\n",
            "bzip2: Output file /content/shape_predictor_68_face_landmarks.dat already exists.\n"
          ]
        }
      ]
    },
    {
      "cell_type": "code",
      "source": [
        "# 데이터셋 불러오기\n",
        "images = []\n",
        "landmarks = []\n",
        "\n",
        "for i in range(7):\n",
        "    image = dlib.load_rgb_image(f'/content/images/{i}.jpg')\n",
        "    detector = dlib.get_frontal_face_detector()\n",
        "    dets = detector(image, 1)\n",
        "    shape_predictor = dlib.shape_predictor('./shape_predictor_68_face_landmarks.dat')\n",
        "    for detection in dets:\n",
        "        landmarks.append(np.array([[p.x, p.y] for p in shape_predictor(image, detection).parts()]))\n",
        "        images.append(image)"
      ],
      "metadata": {
        "id": "wM0Cfji3u48f"
      },
      "execution_count": 49,
      "outputs": []
    },
    {
      "cell_type": "code",
      "source": [
        "# 모델 학습\n",
        "options = dlib.shape_predictor_training_options()\n",
        "options.oversampling_amount = 300\n",
        "options.nu = 0.05\n",
        "options.tree_depth = 2\n",
        "options.be_verbose = True\n",
        "options.num_threads = 4\n",
        "options.feature_pool_region_padding = 0\n",
        "options.lambda_param = 0.1\n",
        "options.num_test_splits = 20\n",
        "options.feature_pool_size = 400\n",
        "options.cascade_depth = 15"
      ],
      "metadata": {
        "id": "eBZ23oqlTg7m"
      },
      "execution_count": 50,
      "outputs": []
    },
    {
      "cell_type": "code",
      "source": [
        "dlib.train_shape_predictor(images, landmarks, options)"
      ],
      "metadata": {
        "colab": {
          "base_uri": "https://localhost:8080/",
          "height": 174
        },
        "id": "rWv9K6oETg9m",
        "outputId": "0cf5d01f-75c1-49a6-931d-50b571505c79"
      },
      "execution_count": 57,
      "outputs": [
        {
          "output_type": "error",
          "ename": "RuntimeError",
          "evalue": "ignored",
          "traceback": [
            "\u001b[0;31m---------------------------------------------------------------------------\u001b[0m",
            "\u001b[0;31mRuntimeError\u001b[0m                              Traceback (most recent call last)",
            "\u001b[0;32m<ipython-input-57-5f022b02e440>\u001b[0m in \u001b[0;36m<cell line: 1>\u001b[0;34m()\u001b[0m\n\u001b[0;32m----> 1\u001b[0;31m \u001b[0mdlib\u001b[0m\u001b[0;34m.\u001b[0m\u001b[0mtrain_shape_predictor\u001b[0m\u001b[0;34m(\u001b[0m\u001b[0mimages\u001b[0m\u001b[0;34m,\u001b[0m \u001b[0mlandmarks\u001b[0m\u001b[0;34m,\u001b[0m \u001b[0moptions\u001b[0m\u001b[0;34m)\u001b[0m\u001b[0;34m\u001b[0m\u001b[0;34m\u001b[0m\u001b[0m\n\u001b[0m",
            "\u001b[0;31mRuntimeError\u001b[0m: Unable to cast Python instance to C++ type (#define PYBIND11_DETAILED_ERROR_MESSAGES or compile in debug mode for details)"
          ]
        }
      ]
    },
    {
      "cell_type": "code",
      "source": [],
      "metadata": {
        "id": "Euk6_sHGTg_6"
      },
      "execution_count": 50,
      "outputs": []
    },
    {
      "cell_type": "code",
      "source": [],
      "metadata": {
        "id": "vteE2X3BThCD"
      },
      "execution_count": 50,
      "outputs": []
    },
    {
      "cell_type": "code",
      "source": [],
      "metadata": {
        "id": "OajDe1MSThEE"
      },
      "execution_count": 50,
      "outputs": []
    }
  ]
}