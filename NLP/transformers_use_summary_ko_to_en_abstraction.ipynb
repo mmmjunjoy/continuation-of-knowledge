{
 "cells": [
  {
   "cell_type": "code",
   "execution_count": 1,
   "id": "1d375310",
   "metadata": {},
   "outputs": [],
   "source": [
    "from transformers import AutoTokenizer, AutoModelForSeq2SeqLM"
   ]
  },
  {
   "cell_type": "code",
   "execution_count": 2,
   "id": "618cf502",
   "metadata": {},
   "outputs": [
    {
     "data": {
      "application/vnd.jupyter.widget-view+json": {
       "model_id": "84066537ffbb409b8046fef059903755",
       "version_major": 2,
       "version_minor": 0
      },
      "text/plain": [
       "Downloading:   0%|          | 0.00/44.0 [00:00<?, ?B/s]"
      ]
     },
     "metadata": {},
     "output_type": "display_data"
    },
    {
     "data": {
      "application/vnd.jupyter.widget-view+json": {
       "model_id": "9b81eaf2983749c287cd8556c46c047f",
       "version_major": 2,
       "version_minor": 0
      },
      "text/plain": [
       "Downloading:   0%|          | 0.00/1.36k [00:00<?, ?B/s]"
      ]
     },
     "metadata": {},
     "output_type": "display_data"
    },
    {
     "data": {
      "application/vnd.jupyter.widget-view+json": {
       "model_id": "4212282118864ddabe71a08d77dfa2bc",
       "version_major": 2,
       "version_minor": 0
      },
      "text/plain": [
       "Downloading:   0%|          | 0.00/822k [00:00<?, ?B/s]"
      ]
     },
     "metadata": {},
     "output_type": "display_data"
    },
    {
     "data": {
      "application/vnd.jupyter.widget-view+json": {
       "model_id": "35e309ce14204e37ae28d0f9846681f9",
       "version_major": 2,
       "version_minor": 0
      },
      "text/plain": [
       "Downloading:   0%|          | 0.00/794k [00:00<?, ?B/s]"
      ]
     },
     "metadata": {},
     "output_type": "display_data"
    },
    {
     "data": {
      "application/vnd.jupyter.widget-view+json": {
       "model_id": "8aeb23f8857248e4b69e27cbd835c735",
       "version_major": 2,
       "version_minor": 0
      },
      "text/plain": [
       "Downloading:   0%|          | 0.00/1.64M [00:00<?, ?B/s]"
      ]
     },
     "metadata": {},
     "output_type": "display_data"
    },
    {
     "data": {
      "application/vnd.jupyter.widget-view+json": {
       "model_id": "a3387001a6bd4e6d9a8e37f2f7307212",
       "version_major": 2,
       "version_minor": 0
      },
      "text/plain": [
       "Downloading:   0%|          | 0.00/298M [00:00<?, ?B/s]"
      ]
     },
     "metadata": {},
     "output_type": "display_data"
    }
   ],
   "source": [
    "# 모델과 토크나이저 로드\n",
    "tokenizer = AutoTokenizer.from_pretrained(\"Helsinki-NLP/opus-mt-ko-en\")\n",
    "model = AutoModelForSeq2SeqLM.from_pretrained(\"Helsinki-NLP/opus-mt-ko-en\")"
   ]
  },
  {
   "cell_type": "code",
   "execution_count": 3,
   "id": "293fa90b",
   "metadata": {},
   "outputs": [],
   "source": [
    "# 요약할 텍스트 입력\n",
    "input_text = \"Queue는 한쪽 끝(rear)에서는 enqueue, 또 다른 끝(front)에서는 dequeue 연산을 하는 유한 순서리스트이다.Queue는 FIFO(First in First out) 리스트이다.front는 dequeue할 위치를 기록하고 rear은 enqueue할 위치를 기록한다.front와 rear가 같으면 큐는 비었다는 의미와 같다.rear는 입력할 데이터의 인덱스를 가리키기에 큐의 마지막 인덱스라면 더이상 원소를 집어넣을 수 없기에 에러를 발생시킨다. 그렇지 않다면 그 다음 인덱스에 원소를 넣는다.큐가 비었다면(rear == front) 빼낼 원소가 없기에 에러를 발생시키고 deque할 원소를 기록할 front를 1 더해준다.deque 연산과 비슷한 방식이다.peek: front가 가리키는 원소를 리턴한다.delete: front가 가리키는 원소를 삭제한다.(front + 1)순차표현의 문제점: 크기가 8인 배열에서 rear = 7, front = 3일때 0,1,2 인덱스는 비었지만 사용하지 못한다.순차표현의 문제를 해결하기 위해 원형 큐 고안rear를 하나 증가시켰을 때 rear = front 라면 가득찼다는 의미와 같다.원형 큐는 순차표현 큐에 비해 빈공간을 남기지 않아 메모리 공간을 잘 활용하지만 배열로 구현되기에 큐의 크기는 제한된다는 단점이 있다.한정된 크기를 개선하기 위해 연결리스트 큐 고안.연결리스트 표현으로 바뀌었지만 내부 동작은 순차표현 큐와 비슷하다.\""
   ]
  },
  {
   "cell_type": "code",
   "execution_count": 4,
   "id": "7f120811",
   "metadata": {},
   "outputs": [],
   "source": [
    "# 입력 텍스트를 토큰화하여 모델 입력 형식으로 변환\n",
    "input_ids = tokenizer.encode(input_text, return_tensors =\"pt\")"
   ]
  },
  {
   "cell_type": "code",
   "execution_count": 5,
   "id": "18fdfea2",
   "metadata": {},
   "outputs": [],
   "source": [
    "summary_ids = model.generate(input_ids)"
   ]
  },
  {
   "cell_type": "code",
   "execution_count": 6,
   "id": "d83e4280",
   "metadata": {},
   "outputs": [],
   "source": [
    "summary_text = tokenizer.decode(summary_ids[0], skip_special_tokens=True)"
   ]
  },
  {
   "cell_type": "code",
   "execution_count": 7,
   "id": "2c361d89",
   "metadata": {},
   "outputs": [
    {
     "name": "stdout",
     "output_type": "stream",
     "text": [
      "Quue is an equivalent list of dequencue operations.\n"
     ]
    }
   ],
   "source": [
    "print(summary_text)"
   ]
  },
  {
   "cell_type": "code",
   "execution_count": 9,
   "id": "15f46e87",
   "metadata": {},
   "outputs": [],
   "source": [
    "import googletrans\n",
    "\n",
    "translator = googletrans.Translator()"
   ]
  },
  {
   "cell_type": "code",
   "execution_count": 10,
   "id": "f0a9f5f7",
   "metadata": {},
   "outputs": [],
   "source": [
    "outstr = translator.translate(summary_text,dest='ko', src = 'auto')"
   ]
  },
  {
   "cell_type": "code",
   "execution_count": 12,
   "id": "80ed2ce6",
   "metadata": {},
   "outputs": [
    {
     "name": "stdout",
     "output_type": "stream",
     "text": [
      "Quue is an equivalent list of dequencue operations. => Que는 동등한 Dequencue 작업 목록입니다.\n"
     ]
    }
   ],
   "source": [
    "print(f\"{summary_text} => {outstr.text}\")"
   ]
  },
  {
   "cell_type": "code",
   "execution_count": null,
   "id": "3e20b186",
   "metadata": {},
   "outputs": [],
   "source": []
  }
 ],
 "metadata": {
  "kernelspec": {
   "display_name": "Python 3 (ipykernel)",
   "language": "python",
   "name": "python3"
  },
  "language_info": {
   "codemirror_mode": {
    "name": "ipython",
    "version": 3
   },
   "file_extension": ".py",
   "mimetype": "text/x-python",
   "name": "python",
   "nbconvert_exporter": "python",
   "pygments_lexer": "ipython3",
   "version": "3.9.16"
  }
 },
 "nbformat": 4,
 "nbformat_minor": 5
}
