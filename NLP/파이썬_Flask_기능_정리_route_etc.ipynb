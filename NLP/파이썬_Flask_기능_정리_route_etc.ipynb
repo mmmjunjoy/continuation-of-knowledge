{
  "nbformat": 4,
  "nbformat_minor": 0,
  "metadata": {
    "colab": {
      "provenance": []
    },
    "kernelspec": {
      "name": "python3",
      "display_name": "Python 3"
    },
    "language_info": {
      "name": "python"
    }
  },
  "cells": [
    {
      "cell_type": "code",
      "source": [
        "#Route 기능 \n",
        "\n",
        "#라우트는 외부 웹브라우져에서 웹서버로 접근 시 해당 주소로 입력을 하게 되면 특정 함수가 실행되게 도와주는 기능을 한다.\n",
        "\n",
        "\n",
        "from flask import *\n",
        "\n",
        "#Flask 선언\n",
        "\n",
        "app = Flask(__name__, template_folder = \"templates\")\n",
        "\n",
        "## 플라스크 객체를 생성한다. __name__은 현재 실행 중인 모듈 이름을 전달하는 것이다.\n",
        "\n",
        "\n",
        "@app.route('/hello')\n",
        "def hello():\n",
        "  return 'Hello, World'\n",
        "\n",
        "# if__name__ == \"__main__\": 의 의미: 인터프리터에서 직접 실행했을 경우에만 if 문 내의 코드를 돌리라는 명령이다.\n",
        "# 만약 다른 모듈에서 임포트해서 실행된다면 __main__이 아니라 __executeThisModule__ 이다.\n",
        "\n",
        "\n",
        "if __name__ == \"__main__\":\n",
        "  app.run(host='0.0.0.0',debug=True , port =9999)\n",
        "\n",
        "  #즉 , 다른 말로 다른데서 부르면 실행하지 말라는 뜻이다."
      ],
      "metadata": {
        "id": "oDdseUJwTIkH"
      },
      "execution_count": null,
      "outputs": []
    },
    {
      "cell_type": "code",
      "source": [
        "# 웹 브라우저를 통해 변수 보내는 방법\n",
        "\n",
        "# 페이지를 넘기거나 할때 변수 정보만 보내는 경우가 있다.\n",
        "\n",
        "# 파이썬 flask 에서 변수를 받을 때 주의할 점은 <> 화살표 괄호 안에 받는 형태를 정의해야한다.\n",
        "\n",
        "# 그리고 변수의 형태를 정의하지 않으면 기본 값은 string으로 인식된다.\n",
        "\n",
        "# 아래 테이블은 사용할 수 있는 변수 타입이다.\n",
        "\n",
        "# string : accepts any text without a slash\n",
        "# int : accepts positive integers\n",
        "# float : accepts positive floating point values\n",
        "# path : like string but also accepts slashes\n",
        "# uuid : accepts UUID strings\n",
        "\n",
        "from flask import *\n",
        "from markupsafe import escape\n",
        "\n",
        "app = Flask(__name__, template_folder = \"templates\")\n",
        "\n",
        "@app.route('/user/<username>')\n",
        "def show_user_profile(username):\n",
        "  return 'user %s' % escape(username)\n",
        "\n",
        "  # escape() 함수는 알파벳과 숫자 및 * , @ , - , = ,. ,/ 을 제외한 문자를 모두 16진수 문자로 바꾸어 줍니다.\n",
        "  \n",
        "\n",
        "@app.route('/post/<int:post_id>')\n",
        "def show_post (post_id):\n",
        "  return 'post %d' % post_id\n",
        "\n",
        "@app.route('/path/<path:subpath>')\n",
        "def show_subpath(subpath):\n",
        "  return 'subpath %s ' % escape (subpath)\n",
        "\n",
        "if __name__ == \"__main__\":\n",
        "  app.run(host='0.0.0.0', debug =True , port =9999)\n",
        "\n",
        "\n",
        "\n",
        "#결과값\n",
        "#-> user james\n",
        "#-> post 777\n",
        "#-> subpath c:/\n"
      ],
      "metadata": {
        "id": "VtumP0_sSpRk"
      },
      "execution_count": null,
      "outputs": []
    },
    {
      "cell_type": "code",
      "source": [
        "#url표기 방법 \n",
        "\n",
        "from flask import *\n",
        "from markupsafe import escape\n",
        "\n",
        "app= Flask(__name__, template_folder = \"templates\")\n",
        "\n",
        "@app.route('/projects/')\n",
        "def projects():\n",
        "  return 'The project page'\n",
        "\n",
        "@app.route('/about')\n",
        "def about():\n",
        "  return 'the about page'\n",
        "\n",
        "if __name__ == '__main__' :\n",
        "  app.run(host='0.0.0.0', debug = True , post =9999)\n",
        "\n",
        "\n",
        "# project 뒤에 슬래시가 있으면 명확한 주소로 인식하게 된다.\n",
        "# 그래서 만일 사용자가 웹브라우저로 해당 url접근시 http://localhost:9999/projects/ 로 접근해도 되고 \n",
        "#  http://localhost:9999/projects 이렇게 해도 자동으로 /를 붙여서 접근 할 수 있다.\n",
        "\n",
        "\n",
        "# 다만, about 같은 경우 ,  http://localhost:9999/about 의 경우만 접근 가능하며 ,\n",
        "# http://localhost:9999/about/ 이 경우에는 접근이 불가능하다. -> 404에러\n"
      ],
      "metadata": {
        "id": "YzQsjaQFSpTt"
      },
      "execution_count": null,
      "outputs": []
    },
    {
      "cell_type": "code",
      "source": [],
      "metadata": {
        "id": "p8lsiuYxSpV3"
      },
      "execution_count": null,
      "outputs": []
    },
    {
      "cell_type": "code",
      "source": [],
      "metadata": {
        "id": "85GjTSM4SpYA"
      },
      "execution_count": null,
      "outputs": []
    },
    {
      "cell_type": "code",
      "source": [],
      "metadata": {
        "id": "TijepNaDSpaP"
      },
      "execution_count": null,
      "outputs": []
    },
    {
      "cell_type": "code",
      "source": [],
      "metadata": {
        "id": "UiQpaC3ZSpcQ"
      },
      "execution_count": null,
      "outputs": []
    },
    {
      "cell_type": "code",
      "source": [],
      "metadata": {
        "id": "k-l_YiNlSpeX"
      },
      "execution_count": null,
      "outputs": []
    }
  ]
}