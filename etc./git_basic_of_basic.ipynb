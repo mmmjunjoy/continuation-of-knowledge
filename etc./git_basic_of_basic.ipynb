{
  "nbformat": 4,
  "nbformat_minor": 0,
  "metadata": {
    "colab": {
      "provenance": []
    },
    "kernelspec": {
      "name": "python3",
      "display_name": "Python 3"
    },
    "language_info": {
      "name": "python"
    }
  },
  "cells": [
    {
      "cell_type": "code",
      "execution_count": null,
      "metadata": {
        "id": "viYWaU3CSItG"
      },
      "outputs": [],
      "source": [
        "#git을 이용하기 위한 기본 단계"
      ]
    },
    {
      "cell_type": "code",
      "source": [
        "#자신의 개발 기록을 남기기 위해 git을 많이 사용할 것입니다. 하지만 , git은 생각보다 예민하고 세밀한 친구라 잘 다루어줘야 할 필요가 있습니다.\n"
      ],
      "metadata": {
        "id": "DjguZmtYSPhY"
      },
      "execution_count": null,
      "outputs": []
    },
    {
      "cell_type": "code",
      "source": [
        "#먼저 , git을 사용하기 위한 정성적인 방법에 대해 차근차근 설명하겠습니다.\n",
        "\n"
      ],
      "metadata": {
        "id": "RMvMIreMSPjw"
      },
      "execution_count": null,
      "outputs": []
    },
    {
      "cell_type": "code",
      "source": [
        "#1\n",
        "\n",
        "git add .\n",
        "\n",
        "###자신이 작성한 코드를 local repository에 추가를 시키는 것이다.\n"
      ],
      "metadata": {
        "id": "6lu4gby7SPmO"
      },
      "execution_count": null,
      "outputs": []
    },
    {
      "cell_type": "code",
      "source": [
        "#2\n",
        "\n",
        "git commit -m \"쓰고자하는 내용\"\n",
        "\n",
        "# 이는 추가된 코드를 확정한다는 느낌으로 보면 될것이다. 메세지와 함꼐 이것이 어떤 코드인지 간략하게 설명이 가능하다 -> \"쓰고자하는 내용에 적으면 된다 \""
      ],
      "metadata": {
        "id": "vz4Cd9n4SPow"
      },
      "execution_count": null,
      "outputs": []
    },
    {
      "cell_type": "code",
      "source": [
        "#3\n",
        "\n",
        "git pull origin dev\n",
        "\n",
        "#이는 이제 충돌을 방지하기 위해 미리 자신의 코드를 git repository에 업로드 하기 이전에 , 같은 팀원의 누군가가 새로 코드를 올렸거나 하는 것을 local에 받아오는 것이다.\n",
        "#이렇게 하게 된다면 병합하라는 과정이 나올텐데 이때 수신된 코드와 현재 자신의 코드를 비교해보면서 , 최종적인 코드를 완성시키면 된다.\n"
      ],
      "metadata": {
        "id": "YxxVcYqdSPrP"
      },
      "execution_count": null,
      "outputs": []
    },
    {
      "cell_type": "code",
      "source": [
        "#***\n",
        "\n",
        "git branch \n",
        "\n",
        "\n",
        "# 위 명령어를 사용하면 현재 작업하고 있는 브랜치 확인 가능하다.\n"
      ],
      "metadata": {
        "id": "LfeZjRsbSPto"
      },
      "execution_count": null,
      "outputs": []
    },
    {
      "cell_type": "code",
      "source": [
        "#4\n",
        "\n",
        "git push origin dev\n",
        "\n",
        "# 이는 , 병합되고 최종적으로 완성된 코드를 git repository에 올리는 것이다.\n",
        "# 이렇게 하게 되면 , git에 자신이 업로드하고자 하는 코드를 문제 없이 할 수 있을것이다.\n",
        "\n",
        "\n"
      ],
      "metadata": {
        "id": "WArco76LSPwQ"
      },
      "execution_count": null,
      "outputs": []
    },
    {
      "cell_type": "code",
      "source": [],
      "metadata": {
        "id": "MyicdL9PSPyr"
      },
      "execution_count": null,
      "outputs": []
    },
    {
      "cell_type": "code",
      "source": [],
      "metadata": {
        "id": "OhrD67gDSP1A"
      },
      "execution_count": null,
      "outputs": []
    },
    {
      "cell_type": "code",
      "source": [],
      "metadata": {
        "id": "y5JDMmVbSP3X"
      },
      "execution_count": null,
      "outputs": []
    },
    {
      "cell_type": "code",
      "source": [],
      "metadata": {
        "id": "AN5dGCjXSP73"
      },
      "execution_count": null,
      "outputs": []
    }
  ]
}